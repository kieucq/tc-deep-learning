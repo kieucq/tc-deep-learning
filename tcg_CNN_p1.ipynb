{
 "cells": [
  {
   "cell_type": "code",
   "execution_count": 1,
   "id": "ade36854",
   "metadata": {},
   "outputs": [
    {
     "name": "stdout",
     "output_type": "stream",
     "text": [
      "The history saving thread hit an unexpected error (OperationalError('disk I/O error')).History will not be written to the database.\n"
     ]
    }
   ],
   "source": [
    "#\n",
    "# NOTE: This machine learning program is for predicting TC formation, using\n",
    "#       input dataset in the NETCDF format. The program treats different \n",
    "#       2D input fields as different channels of an image. This specific \n",
    "#       program requires a set of 12 2D-variables (12-channel image) and \n",
    "#       consists of three stages\n",
    "#       - Stage 1: reading NETCDF input and generating (X,y) data with a \n",
    "#                  given image sizes, which are then saved by pickle;\n",
    "#       - Stage 2: import the saved pickle (X,y) pair and build a CNN model\n",
    "#                  with a given training/validation ratio, and then save\n",
    "#                  the train model under tcg_CNN.model.\n",
    "#       - Stage 3: import the trained model from Stage 2, and make a list\n",
    "#                  of prediction from normalized test data. \n",
    "#\n",
    "# INPUT: This Stage 1 script requires two specific input datasets, including\n",
    "#       1. 7 meterological vars u, v,abs vort, tmp, RH, vvels, sst, cape  \n",
    "#          corresponding to negative cases (i.e. no TC formation within the \n",
    "#          domain). \n",
    "#       2. Similar data but for positive cases (i.e., there is a TC centered\n",
    "#          on the domain)  \n",
    "#        Remarks: Note that these data must be on the standard 19 vertical\n",
    "#        levels 1000, 975, 950, 925, 900, 850, 800, 750, 700, 650, 600, \n",
    "#        550, 500, 450, 400, 350, 300, 250, 200. Also, all field vars must\n",
    "#        be resize to cover an area of 30x30 around the TC center for the \n",
    "#        positive data cases.\n",
    "#\n",
    "# OUTPUT: A set of pairs (X,y) needed for CNN training\n",
    "#\n",
    "# HIST: - 25, Oct 22: Created by CK\n",
    "#       - 27, Oct 22: Added a classification loop to simplify the code\n",
    "#       - 01, Nov 22: Modified to include more channels  \n",
    "#       - 02, Feb 23: Revised for jupiter-notebook workflow\n",
    "#\n",
    "# AUTH: Chanh Kieu (Indiana University, Bloomington. Email: ckieu@iu.edu) \n",
    "#\n",
    "#==========================================================================\n",
    "import netCDF4\n",
    "#import xarray as xr\n",
    "import numpy as np\n",
    "import os\n",
    "from tqdm import tqdm\n",
    "import matplotlib.pyplot as plt\n",
    "import cv2"
   ]
  },
  {
   "cell_type": "code",
   "execution_count": 2,
   "id": "a4862804",
   "metadata": {},
   "outputs": [
    {
     "name": "stdout",
     "output_type": "stream",
     "text": [
      "Input data dir is:  /N/u/ckieu/Carbonate/python/testdata/pos\n"
     ]
    },
    {
     "name": "stderr",
     "output_type": "stream",
     "text": [
      "\r",
      "  0%|                                                                                                                                                                  | 0/12 [00:00<?, ?it/s]"
     ]
    },
    {
     "name": "stdout",
     "output_type": "stream",
     "text": [
      "Processing file: 20200825_06_00_16.1_252.4_2020238N16252.nc\n",
      "nx =  30  ny =  30\n"
     ]
    },
    {
     "name": "stderr",
     "output_type": "stream",
     "text": [
      "\r",
      "  8%|████████████▊                                                                                                                                             | 1/12 [00:02<00:32,  2.98s/it]"
     ]
    },
    {
     "name": "stdout",
     "output_type": "stream",
     "text": [
      "a3 shape is : (30, 30, 12)\n",
      "Processing file: 20200624_06_00_10.0_228.1_2020176N10228.nc\n",
      "nx =  30  ny =  31\n"
     ]
    },
    {
     "name": "stderr",
     "output_type": "stream",
     "text": [
      "\r",
      " 17%|█████████████████████████▋                                                                                                                                | 2/12 [00:12<01:08,  6.90s/it]"
     ]
    },
    {
     "name": "stdout",
     "output_type": "stream",
     "text": [
      "a3 shape is : (30, 30, 12)\n",
      "Processing file: 20200816_12_00_11.3_263.5_2020230N11264.nc\n",
      "nx =  30  ny =  30\n"
     ]
    },
    {
     "name": "stderr",
     "output_type": "stream",
     "text": [
      "\r",
      " 25%|██████████████████████████████████████▌                                                                                                                   | 3/12 [00:15<00:46,  5.12s/it]"
     ]
    },
    {
     "name": "stdout",
     "output_type": "stream",
     "text": [
      "a3 shape is : (30, 30, 12)\n",
      "Processing file: 20200719_12_00_15.2_233.6_2020202N15234.nc\n",
      "nx =  30  ny =  30\n"
     ]
    },
    {
     "name": "stderr",
     "output_type": "stream",
     "text": [
      "\r",
      " 33%|███████████████████████████████████████████████████▎                                                                                                      | 4/12 [00:18<00:33,  4.20s/it]"
     ]
    },
    {
     "name": "stdout",
     "output_type": "stream",
     "text": [
      "a3 shape is : (30, 30, 12)\n",
      "Processing file: 20200629_18_00_19.9_247.9_2020182N20248.nc\n",
      "nx =  30  ny =  30\n"
     ]
    },
    {
     "name": "stderr",
     "output_type": "stream",
     "text": [
      "\r",
      " 42%|████████████████████████████████████████████████████████████████▏                                                                                         | 5/12 [00:21<00:26,  3.80s/it]"
     ]
    },
    {
     "name": "stdout",
     "output_type": "stream",
     "text": [
      "a3 shape is : (30, 30, 12)\n",
      "Processing file: 20200825_18_00_15.0_242.5_2020239N15243.nc\n",
      "nx =  30  ny =  31\n"
     ]
    },
    {
     "name": "stderr",
     "output_type": "stream",
     "text": [
      "\r",
      " 50%|█████████████████████████████████████████████████████████████████████████████                                                                             | 6/12 [00:24<00:20,  3.49s/it]"
     ]
    },
    {
     "name": "stdout",
     "output_type": "stream",
     "text": [
      "a3 shape is : (30, 30, 12)\n",
      "Processing file: 20200816_00_00_18.0_241.8_2020229N18242.nc\n",
      "nx =  30  ny =  31\n"
     ]
    },
    {
     "name": "stderr",
     "output_type": "stream",
     "text": [
      "\r",
      " 58%|█████████████████████████████████████████████████████████████████████████████████████████▊                                                                | 7/12 [00:27<00:16,  3.30s/it]"
     ]
    },
    {
     "name": "stdout",
     "output_type": "stream",
     "text": [
      "a3 shape is : (30, 30, 12)\n",
      "Processing file: 20200720_00_00_14.7_241.2_2020202N15241.nc\n",
      "nx =  30  ny =  30\n"
     ]
    },
    {
     "name": "stderr",
     "output_type": "stream",
     "text": [
      "\r",
      " 67%|██████████████████████████████████████████████████████████████████████████████████████████████████████▋                                                   | 8/12 [00:30<00:12,  3.13s/it]"
     ]
    },
    {
     "name": "stdout",
     "output_type": "stream",
     "text": [
      "a3 shape is : (30, 30, 12)\n",
      "Processing file: 20200713_12_00_16.6_249.6_2020196N17250.nc\n",
      "nx =  30  ny =  30\n"
     ]
    },
    {
     "name": "stderr",
     "output_type": "stream",
     "text": [
      "\r",
      " 75%|███████████████████████████████████████████████████████████████████████████████████████████████████████████████████▌                                      | 9/12 [00:33<00:09,  3.15s/it]"
     ]
    },
    {
     "name": "stdout",
     "output_type": "stream",
     "text": [
      "a3 shape is : (30, 30, 12)\n",
      "Processing file: 20200812_18_00_13.1_232.9_2020226N13233.nc\n",
      "nx =  30  ny =  30\n"
     ]
    },
    {
     "name": "stderr",
     "output_type": "stream",
     "text": [
      "\r",
      " 83%|███████████████████████████████████████████████████████████████████████████████████████████████████████████████████████████████▌                         | 10/12 [00:36<00:06,  3.04s/it]"
     ]
    },
    {
     "name": "stdout",
     "output_type": "stream",
     "text": [
      "a3 shape is : (30, 30, 12)\n",
      "Processing file: 20200706_18_00_10.4_260.5_2020189N10261.nc\n",
      "nx =  30  ny =  30\n"
     ]
    },
    {
     "name": "stderr",
     "output_type": "stream",
     "text": [
      "\r",
      " 92%|████████████████████████████████████████████████████████████████████████████████████████████████████████████████████████████████████████████▎            | 11/12 [00:39<00:03,  3.12s/it]"
     ]
    },
    {
     "name": "stdout",
     "output_type": "stream",
     "text": [
      "a3 shape is : (30, 30, 12)\n",
      "Processing file: 20200808_00_00_12.6_262.1_2020221N13262.nc\n",
      "nx =  30  ny =  30\n"
     ]
    },
    {
     "name": "stderr",
     "output_type": "stream",
     "text": [
      "100%|█████████████████████████████████████████████████████████████████████████████████████████████████████████████████████████████████████████████████████████| 12/12 [00:42<00:00,  3.55s/it]\n"
     ]
    },
    {
     "name": "stdout",
     "output_type": "stream",
     "text": [
      "a3 shape is : (30, 30, 12)\n",
      "Input data dir is:  /N/u/ckieu/Carbonate/python/testdata/neg\n"
     ]
    },
    {
     "name": "stderr",
     "output_type": "stream",
     "text": [
      "\r",
      "  0%|                                                                                                                                                                  | 0/12 [00:00<?, ?it/s]"
     ]
    },
    {
     "name": "stdout",
     "output_type": "stream",
     "text": [
      "Processing file: 20200808_00_00_12.6_312.1.nc\n",
      "nx =  30  ny =  30\n"
     ]
    },
    {
     "name": "stderr",
     "output_type": "stream",
     "text": [
      "\r",
      "  8%|████████████▊                                                                                                                                             | 1/12 [00:03<00:34,  3.15s/it]"
     ]
    },
    {
     "name": "stdout",
     "output_type": "stream",
     "text": [
      "a3 shape is : (30, 30, 12)\n",
      "Processing file: 20200706_18_00_10.4_310.5.nc\n",
      "nx =  30  ny =  30\n"
     ]
    },
    {
     "name": "stderr",
     "output_type": "stream",
     "text": [
      "\r",
      " 17%|█████████████████████████▋                                                                                                                                | 2/12 [00:05<00:29,  2.97s/it]"
     ]
    },
    {
     "name": "stdout",
     "output_type": "stream",
     "text": [
      "a3 shape is : (30, 30, 12)\n",
      "Processing file: 20200825_06_00_16.1_302.4.nc\n",
      "nx =  30  ny =  30\n"
     ]
    },
    {
     "name": "stderr",
     "output_type": "stream",
     "text": [
      "\r",
      " 25%|██████████████████████████████████████▌                                                                                                                   | 3/12 [00:08<00:25,  2.84s/it]"
     ]
    },
    {
     "name": "stdout",
     "output_type": "stream",
     "text": [
      "a3 shape is : (30, 30, 12)\n",
      "Processing file: 20200825_18_00_15.0_292.5.nc\n",
      "nx =  30  ny =  31\n"
     ]
    },
    {
     "name": "stderr",
     "output_type": "stream",
     "text": [
      "\r",
      " 33%|███████████████████████████████████████████████████▎                                                                                                      | 4/12 [00:11<00:22,  2.84s/it]"
     ]
    },
    {
     "name": "stdout",
     "output_type": "stream",
     "text": [
      "a3 shape is : (30, 30, 12)\n",
      "Processing file: 20200816_00_00_18.0_291.8.nc\n",
      "nx =  30  ny =  31\n"
     ]
    },
    {
     "name": "stderr",
     "output_type": "stream",
     "text": [
      "\r",
      " 42%|████████████████████████████████████████████████████████████████▏                                                                                         | 5/12 [00:14<00:20,  2.91s/it]"
     ]
    },
    {
     "name": "stdout",
     "output_type": "stream",
     "text": [
      "a3 shape is : (30, 30, 12)\n",
      "Processing file: 20200624_06_00_10.0_278.1.nc\n",
      "nx =  30  ny =  31\n"
     ]
    },
    {
     "name": "stderr",
     "output_type": "stream",
     "text": [
      "\r",
      " 50%|█████████████████████████████████████████████████████████████████████████████                                                                             | 6/12 [00:17<00:17,  2.88s/it]"
     ]
    },
    {
     "name": "stdout",
     "output_type": "stream",
     "text": [
      "a3 shape is : (30, 30, 12)\n",
      "Processing file: 20200719_12_00_15.2_283.6.nc\n",
      "nx =  30  ny =  30\n"
     ]
    },
    {
     "name": "stderr",
     "output_type": "stream",
     "text": [
      "\r",
      " 58%|█████████████████████████████████████████████████████████████████████████████████████████▊                                                                | 7/12 [00:20<00:14,  2.91s/it]"
     ]
    },
    {
     "name": "stdout",
     "output_type": "stream",
     "text": [
      "a3 shape is : (30, 30, 12)\n",
      "Processing file: 20200812_18_00_13.1_282.9.nc\n",
      "nx =  30  ny =  30\n"
     ]
    },
    {
     "name": "stderr",
     "output_type": "stream",
     "text": [
      "\r",
      " 67%|██████████████████████████████████████████████████████████████████████████████████████████████████████▋                                                   | 8/12 [00:23<00:11,  2.99s/it]"
     ]
    },
    {
     "name": "stdout",
     "output_type": "stream",
     "text": [
      "a3 shape is : (30, 30, 12)\n",
      "Processing file: 20200816_12_00_11.3_313.5.nc\n",
      "nx =  30  ny =  30\n"
     ]
    },
    {
     "name": "stderr",
     "output_type": "stream",
     "text": [
      "\r",
      " 75%|███████████████████████████████████████████████████████████████████████████████████████████████████████████████████▌                                      | 9/12 [00:26<00:08,  2.92s/it]"
     ]
    },
    {
     "name": "stdout",
     "output_type": "stream",
     "text": [
      "a3 shape is : (30, 30, 12)\n",
      "Processing file: 20200713_12_00_16.6_299.6.nc\n",
      "nx =  30  ny =  30\n"
     ]
    },
    {
     "name": "stderr",
     "output_type": "stream",
     "text": [
      "\r",
      " 83%|███████████████████████████████████████████████████████████████████████████████████████████████████████████████████████████████▌                         | 10/12 [00:29<00:05,  2.88s/it]"
     ]
    },
    {
     "name": "stdout",
     "output_type": "stream",
     "text": [
      "a3 shape is : (30, 30, 12)\n",
      "Processing file: 20200629_18_00_19.9_297.9.nc\n",
      "nx =  30  ny =  30\n"
     ]
    },
    {
     "name": "stderr",
     "output_type": "stream",
     "text": [
      "\r",
      " 92%|████████████████████████████████████████████████████████████████████████████████████████████████████████████████████████████████████████████▎            | 11/12 [00:31<00:02,  2.85s/it]"
     ]
    },
    {
     "name": "stdout",
     "output_type": "stream",
     "text": [
      "a3 shape is : (30, 30, 12)\n",
      "Processing file: 20200720_00_00_14.7_291.2.nc\n",
      "nx =  30  ny =  30\n"
     ]
    },
    {
     "name": "stderr",
     "output_type": "stream",
     "text": [
      "100%|█████████████████████████████████████████████████████████████████████████████████████████████████████████████████████████████████████████████████████████| 12/12 [00:34<00:00,  2.88s/it]"
     ]
    },
    {
     "name": "stdout",
     "output_type": "stream",
     "text": [
      "a3 shape is : (30, 30, 12)\n"
     ]
    },
    {
     "name": "stderr",
     "output_type": "stream",
     "text": [
      "\n"
     ]
    }
   ],
   "source": [
    "#\n",
    "# define data source and reading pos/neg data \n",
    "#\n",
    "IMG_SIZE = 30\n",
    "#rootdir=\"/N/project/pfec_climo/qmnguyen/tc_prediction/binary_datasets/ncep_WP_binary_0h/\"\n",
    "rootdir=\"/N/u/ckieu/Carbonate/python/testdata/\"\n",
    "tcg_class = ['pos','neg']\n",
    "array_raw = []\n",
    "for tcg in tcg_class:\n",
    "    if tcg == \"pos\":\n",
    "        datadir=rootdir + 'pos'\n",
    "    else:\n",
    "        datadir=rootdir + 'neg'\n",
    "    print('Input data dir is: ',datadir)\n",
    "    for img in tqdm(os.listdir(datadir)):\n",
    "        try:\n",
    "            print('Processing file:', img)           \n",
    "            file=datadir+'/'+img\n",
    "            f = netCDF4.Dataset(file)\n",
    "            abv = f.variables['absvprs']\n",
    "            nx = np.size(abv[0,0,:])\n",
    "            ny = np.size(abv[0,:,0])\n",
    "            nz = np.size(abv[:,0,0])\n",
    "            print('nx = ',nx,' ny = ',ny )             \n",
    "            a2 = np.zeros((nx,ny,12))         \n",
    "            for i in range(a2.shape[0]):\n",
    "                for j in range(a2.shape[1]):\n",
    "                    a2[i,j,0] = abv[1,j,i]    # abs vort at 950 mb\n",
    "            rel = f.variables['rhprs'] \n",
    "            for i in range(a2.shape[0]):\n",
    "                for j in range(a2.shape[1]):\n",
    "                    a2[i,j,1] = rel[7,j,i]    # RH at 750 mb \n",
    "            sfc = f.variables['pressfc']\n",
    "            for i in range(a2.shape[0]):\n",
    "                for j in range(a2.shape[1]):\n",
    "                    a2[i,j,2] = sfc[j,i]      # surface pressure\n",
    "            tmp = f.variables['tmpprs']\n",
    "            for i in range(a2.shape[0]):\n",
    "                for j in range(a2.shape[1]):\n",
    "                    a2[i,j,3] = tmp[15,j,i]   # temperature at 400 mb\n",
    "            tsf = f.variables['tmpsfc']\n",
    "            for i in range(a2.shape[0]):\n",
    "                for j in range(a2.shape[1]):\n",
    "                    a2[i,j,4] = tsf[j,i]      # surface temperature\n",
    "            ugr = f.variables['ugrdprs']\n",
    "            for i in range(a2.shape[0]):\n",
    "                for j in range(a2.shape[1]):\n",
    "                    a2[i,j,5] = ugr[3,j,i]    # u-wind at 900 mb\n",
    "                    a2[i,j,6] = ugr[17,j,i]   # u-wind at 300 mb\n",
    "            vgr = f.variables['vgrdprs']\n",
    "            for i in range(a2.shape[0]):\n",
    "                for j in range(a2.shape[1]):\n",
    "                    a2[i,j,7] = vgr[3,j,i]    # v-wind at 900 mb\n",
    "                    a2[i,j,8] = vgr[17,j,i]   # v-wind at 300 mb\n",
    "            hgt = f.variables['hgtprs']\n",
    "            for i in range(a2.shape[0]):\n",
    "                for j in range(a2.shape[1]):\n",
    "                    a2[i,j,9] = hgt[3,j,i]    # geopotential at 850 mb\n",
    "            wgr = f.variables['vvelprs']\n",
    "            for i in range(a2.shape[0]):\n",
    "                for j in range(a2.shape[1]):\n",
    "                    a2[i,j,10] = wgr[3,j,i]   # w-wind at 900 mb\n",
    "                    a2[i,j,11] = wgr[17,j,i]  # w-wind at 300 mb\n",
    "            a3 = cv2.resize(a2, (IMG_SIZE, IMG_SIZE)) \n",
    "            print('a3 shape is :',a3.shape)\n",
    "            #input('Enter to continue...')\n",
    "            if tcg == \"pos\":\n",
    "                array_raw.append([a3, 1])\n",
    "            else:\n",
    "                array_raw.append([a3, 0])\n",
    "        except Exception as e:\n",
    "            pass"
   ]
  },
  {
   "cell_type": "code",
   "execution_count": 3,
   "id": "92345af6",
   "metadata": {},
   "outputs": [
    {
     "name": "stdout",
     "output_type": "stream",
     "text": [
      "Raw input data shape (nsample,nclass,ny,nx,nchannel) is:  24 2 30 30 12\n",
      "Plotting one example from raw data input\n"
     ]
    },
    {
     "data": {
      "image/png": "[encoded data removed]",
      "text/plain": [
       "<Figure size 792x216 with 3 Axes>"
      ]
     },
     "metadata": {
      "needs_background": "light"
     },
     "output_type": "display_data"
    }
   ],
   "source": [
    "#\n",
    "# visualize a few variables for checking the input data\n",
    "#\n",
    "print(\"Raw input data shape (nsample,nclass,ny,nx,nchannel) is: \",len(array_raw),len(array_raw[0]),\n",
    "      len(array_raw[0][0]),len(array_raw[0][0][0]),len(array_raw[0][0][0][0]))\n",
    "\n",
    "check_visualization = \"yes\"\n",
    "if check_visualization== \"yes\":\n",
    "    print(\"Plotting one example from raw data input\")\n",
    "    temp = np.array(array_raw[7][0])\n",
    "    plt.figure(figsize=(11, 3)) \n",
    "    plt.subplot(1,3,1)\n",
    "    CS = plt.contour(temp[:,:,4])\n",
    "    plt.clabel(CS, inline=True, fontsize=10)\n",
    "    plt.title('SST')\n",
    "    plt.grid()\n",
    "\n",
    "    plt.subplot(1,3,2)\n",
    "    CS = plt.contour(temp[:,:,1])\n",
    "    plt.clabel(CS, inline=True, fontsize=10)\n",
    "    plt.title('RH')\n",
    "    plt.grid()\n",
    "\n",
    "    plt.subplot(1,3,3)\n",
    "    CS = plt.contour(temp[:,:,9])\n",
    "    plt.clabel(CS, inline=True, fontsize=10)\n",
    "    plt.title('850 mb geopotential')\n",
    "    plt.grid()\n",
    "\n",
    "    plt.show()"
   ]
  },
  {
   "cell_type": "code",
   "execution_count": 4,
   "id": "5b200a06",
   "metadata": {},
   "outputs": [
    {
     "name": "stdout",
     "output_type": "stream",
     "text": [
      "(24, 30, 30, 12)\n",
      "[1, 0, 0, 0, 1, 1, 0, 0, 1, 1, 0, 0, 1, 1, 1, 1, 1, 0, 0, 0, 0, 0, 1, 1]\n"
     ]
    }
   ],
   "source": [
    "#\n",
    "# randomize data and generate training data (X,y)\n",
    "#\n",
    "import random\n",
    "np.random.shuffle(array_raw)\n",
    "X = []\n",
    "y = []\n",
    "for features,label in array_raw: \n",
    "    X.append(features)\n",
    "    y.append(label)\n",
    "X = np.array(X).reshape(-1, IMG_SIZE, IMG_SIZE, 12)\n",
    "print(X.shape)\n",
    "print(y)"
   ]
  },
  {
   "cell_type": "code",
   "execution_count": 5,
   "id": "66006150",
   "metadata": {},
   "outputs": [],
   "source": [
    "#\n",
    "# save training data to an output for subsequent use\n",
    "#\n",
    "import pickle\n",
    "pickle_out = open(\"tcg_X.pickle\",\"wb\")\n",
    "pickle.dump(X, pickle_out)\n",
    "pickle_out.close()\n",
    "pickle_out = open(\"tcg_y.pickle\",\"wb\")\n",
    "pickle.dump(y, pickle_out)\n",
    "pickle_out.close()"
   ]
  }
 ],
 "metadata": {
  "kernelspec": {
   "display_name": "Python 3 (ipykernel)",
   "language": "python",
   "name": "python3"
  },
  "language_info": {
   "codemirror_mode": {
    "name": "ipython",
    "version": 3
   },
   "file_extension": ".py",
   "mimetype": "text/x-python",
   "name": "python",
   "nbconvert_exporter": "python",
   "pygments_lexer": "ipython3",
   "version": "3.9.13"
  }
 },
 "nbformat": 4,
 "nbformat_minor": 5
}
