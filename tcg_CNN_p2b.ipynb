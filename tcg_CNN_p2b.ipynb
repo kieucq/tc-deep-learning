{
 "cells": [
  {
   "cell_type": "code",
   "execution_count": 27,
   "id": "e3bdf26c",
   "metadata": {},
   "outputs": [],
   "source": [
    "#\n",
    "# NOTE: This machine learning program is for predicting TC formation, using\n",
    "#       input dataset in the NETCDF format. The program treats different\n",
    "#       2D input fields as different channels of an image. This specific\n",
    "#       program requires a set of 12 2D-variables (12-channel image) and\n",
    "#       consists of three stages\n",
    "#       - Stage 1: reading NETCDF input and generating (X,y) data with a\n",
    "#                  given image sizes, which are then saved by pickle;\n",
    "#       - Stage 2: import the saved pickle (X,y) pair and build a CNN model\n",
    "#                  with a given training/validation ratio, and then save\n",
    "#                  the train model under tcg_CNN.model.\n",
    "#       - Stage 3: import the trained model from Stage 2, and make a list\n",
    "#                  of prediction from normalized test data.\n",
    "#\n",
    "# INPUT: This Stage 2 script requires two specific input datasets that are\n",
    "#        generated from Step 1, including\n",
    "#        1. tcg_X.pickle: data contains all images of yes/no TCG events, each\n",
    "#           of these images must have 12 channels\n",
    "#        2. tcg_y.pickle: data contains all labels of each image (i.e., yes\n",
    "#           or no) of TCG corresponding to each data in X.\n",
    "#\n",
    "#        Remarks: Note that each channel must be normalized separealy. Also\n",
    "#        the script requires a large memory allocation. So users need to have\n",
    "#        GPU version to run this.\n",
    "#\n",
    "# OUTPUT: A CNN model built from Keras saved under tcg_CNN.model\n",
    "#\n",
    "# HIST: - 27, Oct 22: Created by CK\n",
    "#       - 01, Nov 22: Modified to include more channels\n",
    "#       - 17, Nov 23: cusomize it for jupiter notebook\n",
    "#       - 21, Feb 23: use functional model instead of sequential model  \n",
    "#\n",
    "# AUTH: Chanh Kieu (Indiana University, Bloomington. Email: ckieu@iu.edu)\n",
    "#\n",
    "#==========================================================================\n",
    "import tensorflow as tf\n",
    "import numpy as np\n",
    "import pickle\n",
    "import time\n",
    "from tensorflow import keras\n",
    "from tensorflow.keras import layers\n",
    "from tensorflow.keras.callbacks import TensorBoard"
   ]
  },
  {
   "cell_type": "code",
   "execution_count": 28,
   "id": "80fbaaa0",
   "metadata": {
    "scrolled": false
   },
   "outputs": [
    {
     "name": "stdout",
     "output_type": "stream",
     "text": [
      "Input shape of the X features data:  (24, 30, 30, 12)\n",
      "Input shape of the y label data:  (24,)\n",
      "Number of input channel extracted from X is:  12\n",
      "Finish normalization...\n"
     ]
    }
   ],
   "source": [
    "#\n",
    "# read in data output from Part 1\n",
    "#\n",
    "pickle_in = open(\"tcg_X.pickle\",\"rb\")\n",
    "X = pickle.load(pickle_in)\n",
    "pickle_in = open(\"tcg_y.pickle\",\"rb\")\n",
    "y = pickle.load(pickle_in)\n",
    "y = np.array(y)\n",
    "number_channels=X.shape[3]\n",
    "print('Input shape of the X features data: ',X.shape)\n",
    "print('Input shape of the y label data: ',y.shape)\n",
    "print('Number of input channel extracted from X is: ',number_channels)\n",
    "#\n",
    "# normalize the data before training the model\n",
    "#\n",
    "nsample = X.shape[0]\n",
    "for i in range(nsample):\n",
    "    for var in range(number_channels):    \n",
    "        maxvalue = X[i,:,:,var].flat[np.abs(X[i,:,:,var]).argmax()]\n",
    "        #print('Normalization factor for sample and channel',i,var,', is: ',abs(maxvalue))\n",
    "        X[i,:,:,var] = X[i,:,:,var]/abs(maxvalue)\n",
    "        maxnew = X[i,:,:,var].flat[np.abs(X[i,:,:,var]).argmax()]\n",
    "        #print('-->After normalization of sample and channel',i,var,', is: ',abs(maxnew))\n",
    "        #input('Enter to continue...')\n",
    "print(\"Finish normalization...\")"
   ]
  },
  {
   "cell_type": "code",
   "execution_count": 5,
   "id": "0c0ad37c",
   "metadata": {},
   "outputs": [
    {
     "name": "stdout",
     "output_type": "stream",
     "text": [
      "0 128 3 (30, 30, 12)\n",
      "0 128 5 (30, 30, 12)\n",
      "0 256 3 (30, 30, 12)\n",
      "0 256 5 (30, 30, 12)\n",
      "5 128 3 (30, 30, 12)\n",
      "5 128 5 (30, 30, 12)\n",
      "5 256 3 (30, 30, 12)\n",
      "5 256 5 (30, 30, 12)\n"
     ]
    }
   ],
   "source": [
    "#\n",
    "# test a range of loop for hyperparameter tuning. This is a test and have no impact to the rest of the\n",
    "# code. \n",
    "#\n",
    "dense_layers = [0, 5]\n",
    "layer_sizes = [128, 256]\n",
    "conv_layers = [3, 5]\n",
    "for dense_layer in dense_layers:\n",
    "    for layer_size in layer_sizes:\n",
    "        for conv_layer in conv_layers:\n",
    "            print(dense_layer, layer_size, conv_layer, X.shape[1:])"
   ]
  },
  {
   "cell_type": "code",
   "execution_count": 35,
   "id": "1c2aaa84",
   "metadata": {},
   "outputs": [
    {
     "name": "stdout",
     "output_type": "stream",
     "text": [
      "--> Running configuration:  3-conv-32-nodes-0-dense-1677016572\n",
      "Model: \"my_TCG_model\"\n",
      "_________________________________________________________________\n",
      " Layer (type)                Output Shape              Param #   \n",
      "=================================================================\n",
      " input_14 (InputLayer)       [(None, 30, 30, 12)]      0         \n",
      "                                                                 \n",
      " my_conv2d_1 (Conv2D)        (None, 28, 28, 32)        3488      \n",
      "                                                                 \n",
      " my_pooling_1 (MaxPooling2D)  (None, 14, 14, 32)       0         \n",
      "                                                                 \n",
      " my_conv2d_2 (Conv2D)        (None, 12, 12, 64)        18496     \n",
      "                                                                 \n",
      " my_pooling_2 (MaxPooling2D)  (None, 6, 6, 64)         0         \n",
      "                                                                 \n",
      " my_conv2d_3 (Conv2D)        (None, 4, 4, 128)         73856     \n",
      "                                                                 \n",
      " my_pooling_3 (MaxPooling2D)  (None, 2, 2, 128)        0         \n",
      "                                                                 \n",
      " my_flatten (Flatten)        (None, 512)               0         \n",
      "                                                                 \n",
      " my_dense (Dense)            (None, 1)                 513       \n",
      "                                                                 \n",
      "=================================================================\n",
      "Total params: 96,353\n",
      "Trainable params: 96,353\n",
      "Non-trainable params: 0\n",
      "_________________________________________________________________\n",
      "Epoch 1/30\n",
      "1/1 [==============================] - ETA: 0s - loss: 0.6893 - accuracy: 0.4286"
     ]
    },
    {
     "name": "stderr",
     "output_type": "stream",
     "text": [
      "WARNING:absl:Found untraced functions such as _jit_compiled_convolution_op, _jit_compiled_convolution_op, _jit_compiled_convolution_op while saving (showing 3 of 3). These functions will not be directly callable after loading.\n"
     ]
    },
    {
     "name": "stdout",
     "output_type": "stream",
     "text": [
      "INFO:tensorflow:Assets written to: tcg_CNN.model/assets\n"
     ]
    },
    {
     "name": "stderr",
     "output_type": "stream",
     "text": [
      "INFO:tensorflow:Assets written to: tcg_CNN.model/assets\n"
     ]
    },
    {
     "name": "stdout",
     "output_type": "stream",
     "text": [
      "1/1 [==============================] - 1s 1s/step - loss: 0.6893 - accuracy: 0.4286 - val_loss: 1.2805 - val_accuracy: 0.0000e+00\n",
      "Epoch 2/30\n",
      "1/1 [==============================] - ETA: 0s - loss: 0.6903 - accuracy: 0.5714"
     ]
    },
    {
     "name": "stderr",
     "output_type": "stream",
     "text": [
      "WARNING:absl:Found untraced functions such as _jit_compiled_convolution_op, _jit_compiled_convolution_op, _jit_compiled_convolution_op while saving (showing 3 of 3). These functions will not be directly callable after loading.\n"
     ]
    },
    {
     "name": "stdout",
     "output_type": "stream",
     "text": [
      "INFO:tensorflow:Assets written to: tcg_CNN.model/assets\n"
     ]
    },
    {
     "name": "stderr",
     "output_type": "stream",
     "text": [
      "INFO:tensorflow:Assets written to: tcg_CNN.model/assets\n"
     ]
    },
    {
     "name": "stdout",
     "output_type": "stream",
     "text": [
      "1/1 [==============================] - 1s 594ms/step - loss: 0.6903 - accuracy: 0.5714 - val_loss: 0.9020 - val_accuracy: 0.0000e+00\n",
      "Epoch 3/30\n",
      "1/1 [==============================] - ETA: 0s - loss: 0.5894 - accuracy: 0.5714"
     ]
    },
    {
     "name": "stderr",
     "output_type": "stream",
     "text": [
      "WARNING:absl:Found untraced functions such as _jit_compiled_convolution_op, _jit_compiled_convolution_op, _jit_compiled_convolution_op while saving (showing 3 of 3). These functions will not be directly callable after loading.\n"
     ]
    },
    {
     "name": "stdout",
     "output_type": "stream",
     "text": [
      "INFO:tensorflow:Assets written to: tcg_CNN.model/assets\n"
     ]
    },
    {
     "name": "stderr",
     "output_type": "stream",
     "text": [
      "INFO:tensorflow:Assets written to: tcg_CNN.model/assets\n"
     ]
    },
    {
     "name": "stdout",
     "output_type": "stream",
     "text": [
      "1/1 [==============================] - 1s 668ms/step - loss: 0.5894 - accuracy: 0.5714 - val_loss: 0.5637 - val_accuracy: 1.0000\n",
      "Epoch 4/30\n",
      "1/1 [==============================] - ETA: 0s - loss: 0.5480 - accuracy: 0.9524"
     ]
    },
    {
     "name": "stderr",
     "output_type": "stream",
     "text": [
      "WARNING:absl:Found untraced functions such as _jit_compiled_convolution_op, _jit_compiled_convolution_op, _jit_compiled_convolution_op while saving (showing 3 of 3). These functions will not be directly callable after loading.\n"
     ]
    },
    {
     "name": "stdout",
     "output_type": "stream",
     "text": [
      "INFO:tensorflow:Assets written to: tcg_CNN.model/assets\n"
     ]
    },
    {
     "name": "stderr",
     "output_type": "stream",
     "text": [
      "INFO:tensorflow:Assets written to: tcg_CNN.model/assets\n"
     ]
    },
    {
     "name": "stdout",
     "output_type": "stream",
     "text": [
      "1/1 [==============================] - 1s 594ms/step - loss: 0.5480 - accuracy: 0.9524 - val_loss: 0.4879 - val_accuracy: 1.0000\n",
      "Epoch 5/30\n",
      "1/1 [==============================] - 0s 27ms/step - loss: 0.4984 - accuracy: 0.9048 - val_loss: 0.6120 - val_accuracy: 0.6667\n",
      "Epoch 6/30\n",
      "1/1 [==============================] - 0s 23ms/step - loss: 0.4243 - accuracy: 1.0000 - val_loss: 0.7582 - val_accuracy: 0.6667\n",
      "Epoch 7/30\n",
      "1/1 [==============================] - 0s 25ms/step - loss: 0.3871 - accuracy: 0.9048 - val_loss: 0.6692 - val_accuracy: 0.6667\n",
      "Epoch 8/30\n",
      "1/1 [==============================] - ETA: 0s - loss: 0.3249 - accuracy: 0.9048"
     ]
    },
    {
     "name": "stderr",
     "output_type": "stream",
     "text": [
      "WARNING:absl:Found untraced functions such as _jit_compiled_convolution_op, _jit_compiled_convolution_op, _jit_compiled_convolution_op while saving (showing 3 of 3). These functions will not be directly callable after loading.\n"
     ]
    },
    {
     "name": "stdout",
     "output_type": "stream",
     "text": [
      "INFO:tensorflow:Assets written to: tcg_CNN.model/assets\n"
     ]
    },
    {
     "name": "stderr",
     "output_type": "stream",
     "text": [
      "INFO:tensorflow:Assets written to: tcg_CNN.model/assets\n"
     ]
    },
    {
     "name": "stdout",
     "output_type": "stream",
     "text": [
      "1/1 [==============================] - 1s 1s/step - loss: 0.3249 - accuracy: 0.9048 - val_loss: 0.4239 - val_accuracy: 0.6667\n",
      "Epoch 9/30\n",
      "1/1 [==============================] - ETA: 0s - loss: 0.2598 - accuracy: 1.0000"
     ]
    },
    {
     "name": "stderr",
     "output_type": "stream",
     "text": [
      "WARNING:absl:Found untraced functions such as _jit_compiled_convolution_op, _jit_compiled_convolution_op, _jit_compiled_convolution_op while saving (showing 3 of 3). These functions will not be directly callable after loading.\n"
     ]
    },
    {
     "name": "stdout",
     "output_type": "stream",
     "text": [
      "INFO:tensorflow:Assets written to: tcg_CNN.model/assets\n"
     ]
    },
    {
     "name": "stderr",
     "output_type": "stream",
     "text": [
      "INFO:tensorflow:Assets written to: tcg_CNN.model/assets\n"
     ]
    },
    {
     "name": "stdout",
     "output_type": "stream",
     "text": [
      "1/1 [==============================] - 1s 875ms/step - loss: 0.2598 - accuracy: 1.0000 - val_loss: 0.2756 - val_accuracy: 1.0000\n",
      "Epoch 10/30\n",
      "1/1 [==============================] - 0s 26ms/step - loss: 0.2278 - accuracy: 1.0000 - val_loss: 0.2909 - val_accuracy: 1.0000\n",
      "Epoch 11/30\n",
      "1/1 [==============================] - 0s 24ms/step - loss: 0.1752 - accuracy: 1.0000 - val_loss: 0.4074 - val_accuracy: 0.6667\n",
      "Epoch 12/30\n",
      "1/1 [==============================] - 0s 26ms/step - loss: 0.1412 - accuracy: 1.0000 - val_loss: 0.4350 - val_accuracy: 0.6667\n",
      "Epoch 13/30\n",
      "1/1 [==============================] - 0s 23ms/step - loss: 0.1197 - accuracy: 1.0000 - val_loss: 0.2959 - val_accuracy: 0.6667\n",
      "Epoch 14/30\n",
      "1/1 [==============================] - ETA: 0s - loss: 0.0852 - accuracy: 1.0000"
     ]
    },
    {
     "name": "stderr",
     "output_type": "stream",
     "text": [
      "WARNING:absl:Found untraced functions such as _jit_compiled_convolution_op, _jit_compiled_convolution_op, _jit_compiled_convolution_op while saving (showing 3 of 3). These functions will not be directly callable after loading.\n"
     ]
    },
    {
     "name": "stdout",
     "output_type": "stream",
     "text": [
      "INFO:tensorflow:Assets written to: tcg_CNN.model/assets\n"
     ]
    },
    {
     "name": "stderr",
     "output_type": "stream",
     "text": [
      "INFO:tensorflow:Assets written to: tcg_CNN.model/assets\n"
     ]
    },
    {
     "name": "stdout",
     "output_type": "stream",
     "text": [
      "1/1 [==============================] - 1s 609ms/step - loss: 0.0852 - accuracy: 1.0000 - val_loss: 0.1651 - val_accuracy: 1.0000\n",
      "Epoch 15/30\n",
      "1/1 [==============================] - ETA: 0s - loss: 0.0706 - accuracy: 1.0000"
     ]
    },
    {
     "name": "stderr",
     "output_type": "stream",
     "text": [
      "WARNING:absl:Found untraced functions such as _jit_compiled_convolution_op, _jit_compiled_convolution_op, _jit_compiled_convolution_op while saving (showing 3 of 3). These functions will not be directly callable after loading.\n"
     ]
    },
    {
     "name": "stdout",
     "output_type": "stream",
     "text": [
      "INFO:tensorflow:Assets written to: tcg_CNN.model/assets\n"
     ]
    },
    {
     "name": "stderr",
     "output_type": "stream",
     "text": [
      "INFO:tensorflow:Assets written to: tcg_CNN.model/assets\n"
     ]
    },
    {
     "name": "stdout",
     "output_type": "stream",
     "text": [
      "1/1 [==============================] - 1s 598ms/step - loss: 0.0706 - accuracy: 1.0000 - val_loss: 0.1365 - val_accuracy: 1.0000\n",
      "Epoch 16/30\n",
      "1/1 [==============================] - 0s 28ms/step - loss: 0.0560 - accuracy: 1.0000 - val_loss: 0.1873 - val_accuracy: 1.0000\n",
      "Epoch 17/30\n",
      "1/1 [==============================] - 0s 26ms/step - loss: 0.0370 - accuracy: 1.0000 - val_loss: 0.2661 - val_accuracy: 0.6667\n",
      "Epoch 18/30\n",
      "1/1 [==============================] - 0s 24ms/step - loss: 0.0306 - accuracy: 1.0000 - val_loss: 0.2684 - val_accuracy: 0.6667\n",
      "Epoch 19/30\n",
      "1/1 [==============================] - 0s 25ms/step - loss: 0.0239 - accuracy: 1.0000 - val_loss: 0.1817 - val_accuracy: 1.0000\n",
      "Epoch 20/30\n",
      "1/1 [==============================] - ETA: 0s - loss: 0.0148 - accuracy: 1.0000"
     ]
    },
    {
     "name": "stderr",
     "output_type": "stream",
     "text": [
      "WARNING:absl:Found untraced functions such as _jit_compiled_convolution_op, _jit_compiled_convolution_op, _jit_compiled_convolution_op while saving (showing 3 of 3). These functions will not be directly callable after loading.\n"
     ]
    },
    {
     "name": "stdout",
     "output_type": "stream",
     "text": [
      "INFO:tensorflow:Assets written to: tcg_CNN.model/assets\n"
     ]
    },
    {
     "name": "stderr",
     "output_type": "stream",
     "text": [
      "INFO:tensorflow:Assets written to: tcg_CNN.model/assets\n"
     ]
    },
    {
     "name": "stdout",
     "output_type": "stream",
     "text": [
      "1/1 [==============================] - 1s 608ms/step - loss: 0.0148 - accuracy: 1.0000 - val_loss: 0.0970 - val_accuracy: 1.0000\n",
      "Epoch 21/30\n",
      "1/1 [==============================] - ETA: 0s - loss: 0.0102 - accuracy: 1.0000"
     ]
    },
    {
     "name": "stderr",
     "output_type": "stream",
     "text": [
      "WARNING:absl:Found untraced functions such as _jit_compiled_convolution_op, _jit_compiled_convolution_op, _jit_compiled_convolution_op while saving (showing 3 of 3). These functions will not be directly callable after loading.\n"
     ]
    },
    {
     "name": "stdout",
     "output_type": "stream",
     "text": [
      "INFO:tensorflow:Assets written to: tcg_CNN.model/assets\n"
     ]
    },
    {
     "name": "stderr",
     "output_type": "stream",
     "text": [
      "INFO:tensorflow:Assets written to: tcg_CNN.model/assets\n"
     ]
    },
    {
     "name": "stdout",
     "output_type": "stream",
     "text": [
      "1/1 [==============================] - 1s 597ms/step - loss: 0.0102 - accuracy: 1.0000 - val_loss: 0.0536 - val_accuracy: 1.0000\n",
      "Epoch 22/30\n",
      "1/1 [==============================] - ETA: 0s - loss: 0.0088 - accuracy: 1.0000"
     ]
    },
    {
     "name": "stderr",
     "output_type": "stream",
     "text": [
      "WARNING:absl:Found untraced functions such as _jit_compiled_convolution_op, _jit_compiled_convolution_op, _jit_compiled_convolution_op while saving (showing 3 of 3). These functions will not be directly callable after loading.\n"
     ]
    },
    {
     "name": "stdout",
     "output_type": "stream",
     "text": [
      "INFO:tensorflow:Assets written to: tcg_CNN.model/assets\n"
     ]
    },
    {
     "name": "stderr",
     "output_type": "stream",
     "text": [
      "INFO:tensorflow:Assets written to: tcg_CNN.model/assets\n"
     ]
    },
    {
     "name": "stdout",
     "output_type": "stream",
     "text": [
      "1/1 [==============================] - 1s 938ms/step - loss: 0.0088 - accuracy: 1.0000 - val_loss: 0.0390 - val_accuracy: 1.0000\n",
      "Epoch 23/30\n",
      "1/1 [==============================] - ETA: 0s - loss: 0.0069 - accuracy: 1.0000"
     ]
    },
    {
     "name": "stderr",
     "output_type": "stream",
     "text": [
      "WARNING:absl:Found untraced functions such as _jit_compiled_convolution_op, _jit_compiled_convolution_op, _jit_compiled_convolution_op while saving (showing 3 of 3). These functions will not be directly callable after loading.\n"
     ]
    },
    {
     "name": "stdout",
     "output_type": "stream",
     "text": [
      "INFO:tensorflow:Assets written to: tcg_CNN.model/assets\n"
     ]
    },
    {
     "name": "stderr",
     "output_type": "stream",
     "text": [
      "INFO:tensorflow:Assets written to: tcg_CNN.model/assets\n"
     ]
    },
    {
     "name": "stdout",
     "output_type": "stream",
     "text": [
      "1/1 [==============================] - 1s 601ms/step - loss: 0.0069 - accuracy: 1.0000 - val_loss: 0.0387 - val_accuracy: 1.0000\n",
      "Epoch 24/30\n",
      "1/1 [==============================] - 0s 28ms/step - loss: 0.0044 - accuracy: 1.0000 - val_loss: 0.0470 - val_accuracy: 1.0000\n",
      "Epoch 25/30\n",
      "1/1 [==============================] - 0s 26ms/step - loss: 0.0027 - accuracy: 1.0000 - val_loss: 0.0611 - val_accuracy: 1.0000\n",
      "Epoch 26/30\n",
      "1/1 [==============================] - 0s 23ms/step - loss: 0.0019 - accuracy: 1.0000 - val_loss: 0.0773 - val_accuracy: 1.0000\n",
      "Epoch 27/30\n",
      "1/1 [==============================] - 0s 26ms/step - loss: 0.0016 - accuracy: 1.0000 - val_loss: 0.0892 - val_accuracy: 1.0000\n",
      "Epoch 28/30\n",
      "1/1 [==============================] - 0s 26ms/step - loss: 0.0015 - accuracy: 1.0000 - val_loss: 0.0914 - val_accuracy: 1.0000\n",
      "Epoch 29/30\n",
      "1/1 [==============================] - 0s 23ms/step - loss: 0.0013 - accuracy: 1.0000 - val_loss: 0.0827 - val_accuracy: 1.0000\n",
      "Epoch 30/30\n",
      "1/1 [==============================] - 0s 26ms/step - loss: 0.0010 - accuracy: 1.0000 - val_loss: 0.0669 - val_accuracy: 1.0000\n"
     ]
    }
   ],
   "source": [
    "#\n",
    "# build a range of CNN models with different number of dense layers, layer sizes\n",
    "# convolution layers to optimize the performance\n",
    "#\n",
    "dense_layers = [0]\n",
    "layer_sizes = [32]\n",
    "conv_layers = [3]\n",
    "for dense_layer in dense_layers:\n",
    "    for layer_size in layer_sizes:\n",
    "        for conv_layer in conv_layers:\n",
    "            NAME = \"{}-conv-{}-nodes-{}-dense-{}\".format(conv_layer, layer_size, dense_layer, int(time.time()))\n",
    "            print('--> Running configuration: ',NAME)\n",
    "\n",
    "            inputs = keras.Input(shape=X.shape[1:])            \n",
    "            x = layers.Conv2D(filters=layer_size,kernel_size=conv_layer,activation=\"relu\",name=\"my_conv2d_1\")(inputs)\n",
    "            x = layers.MaxPooling2D(pool_size=2,name=\"my_pooling_1\")(x)\n",
    "            x = layers.Conv2D(filters=layer_size*2,kernel_size=conv_layer,activation=\"relu\",name=\"my_conv2d_2\")(x)\n",
    "            x = layers.MaxPooling2D(pool_size=2,name=\"my_pooling_2\")(x)\n",
    "            x = layers.Conv2D(filters=layer_size*4,kernel_size=conv_layer,activation=\"relu\",name=\"my_conv2d_3\")(x)\n",
    "            x = layers.MaxPooling2D(pool_size=2,name=\"my_pooling_3\")(x)\n",
    "            #x = layers.Conv2D(filters=256,kernel_size=conv_layer,activation=\"relu\",name=\"my_conv2d_4\")(x)\n",
    "            #x = layers.MaxPooling2D(pool_size=2,name=\"my_pooling_4\")(x)\n",
    "            #x = layers.Conv2D(filters=256,kernel_size=conv_layer,activation=\"relu\",name=\"my_conv2d_5\")(x)\n",
    "            x = layers.Flatten(name=\"my_flatten\")(x)\n",
    "            outputs = layers.Dense(1,activation=\"sigmoid\",name=\"my_dense\")(x)\n",
    "            model = keras.Model(inputs=inputs,outputs=outputs,name=\"my_TCG_model\")\n",
    "            model.summary()\n",
    "            keras.utils.plot_model(model)\n",
    "            \n",
    "            callbacks=[keras.callbacks.ModelCheckpoint(\"tcg_CNN.model\",save_best_only=True)]\n",
    "            model.compile(loss=\"binary_crossentropy\",optimizer=\"adam\",metrics=[\"accuracy\"])\n",
    "            history = model.fit(X, y, batch_size=90, epochs=30, validation_split=0.1, callbacks=callbacks)\n",
    "            \n",
    "            '''\n",
    "            model = Sequential()\n",
    "            model.add(Conv2D(layer_size, (3, 3), input_shape=X.shape[1:],data_format=\"channels_last\"))\n",
    "            model.add(Activation('relu'))\n",
    "            model.add(MaxPooling2D(pool_size=(2, 2)))\n",
    "\n",
    "            for l in range(conv_layer-1):\n",
    "                model.add(Conv2D(layer_size, (3, 3)))\n",
    "                model.add(Activation('relu'))\n",
    "                model.add(MaxPooling2D(pool_size=(2, 2)))\n",
    "\n",
    "            model.add(Flatten())\n",
    "\n",
    "            for _ in range(dense_layer):\n",
    "                model.add(Dense(layer_size))\n",
    "                model.add(Activation('relu'))\n",
    "\n",
    "            model.add(Dense(1))\n",
    "            model.add(Activation('sigmoid'))\n",
    "\n",
    "            tensorboard = TensorBoard(log_dir=\"./logs/{}\".format(NAME))\n",
    "\n",
    "            model.compile(loss='binary_crossentropy',\n",
    "                          optimizer='adam',\n",
    "                          metrics=['accuracy'])\n",
    "\n",
    "            model.fit(X, y, batch_size=90, epochs=30, validation_split=0.1, callbacks=[tensorboard])'''\n",
    "            \n",
    "#\n",
    "# save the model for the final step\n",
    "#\n",
    "#model.save('tcg_CNN.model')"
   ]
  },
  {
   "cell_type": "code",
   "execution_count": 36,
   "id": "b8ca670d",
   "metadata": {},
   "outputs": [
    {
     "name": "stdout",
     "output_type": "stream",
     "text": [
      "{'validation_data': None, 'model': <keras.engine.functional.Functional object at 0x2ae602e40670>, '_chief_worker_only': None, '_supports_tf_logs': False, 'history': {'loss': [0.6893151998519897, 0.6903136372566223, 0.5894260406494141, 0.5479647517204285, 0.4984433650970459, 0.42434191703796387, 0.38708946108818054, 0.3249386250972748, 0.2598164677619934, 0.22782225906848907, 0.1751927137374878, 0.14122381806373596, 0.11972656846046448, 0.08523750305175781, 0.0706387311220169, 0.055967461317777634, 0.03703024983406067, 0.03055713325738907, 0.023933155462145805, 0.0148340268060565, 0.01022348552942276, 0.00876737479120493, 0.006889680400490761, 0.004426881205290556, 0.0027051859069615602, 0.0019112960435450077, 0.0016292990185320377, 0.001484447973780334, 0.0012907130876556039, 0.0010271350620314479], 'accuracy': [0.4285714328289032, 0.5714285969734192, 0.5714285969734192, 0.9523809552192688, 0.9047619104385376, 1.0, 0.9047619104385376, 0.9047619104385376, 1.0, 1.0, 1.0, 1.0, 1.0, 1.0, 1.0, 1.0, 1.0, 1.0, 1.0, 1.0, 1.0, 1.0, 1.0, 1.0, 1.0, 1.0, 1.0, 1.0, 1.0, 1.0], 'val_loss': [1.280509352684021, 0.9020017981529236, 0.5637477040290833, 0.48785102367401123, 0.6120079159736633, 0.7581734657287598, 0.6691744923591614, 0.4239383935928345, 0.27559149265289307, 0.2908858358860016, 0.4074341952800751, 0.4350041151046753, 0.2958749234676361, 0.16509437561035156, 0.13653799891471863, 0.1873176097869873, 0.266106516122818, 0.2684005796909332, 0.18169032037258148, 0.09701106697320938, 0.05361422896385193, 0.03900013118982315, 0.038713857531547546, 0.04703687131404877, 0.0611283965408802, 0.07726699858903885, 0.08920249342918396, 0.09138815850019455, 0.08269111812114716, 0.06688834726810455], 'val_accuracy': [0.0, 0.0, 1.0, 1.0, 0.6666666865348816, 0.6666666865348816, 0.6666666865348816, 0.6666666865348816, 1.0, 1.0, 0.6666666865348816, 0.6666666865348816, 0.6666666865348816, 1.0, 1.0, 1.0, 0.6666666865348816, 0.6666666865348816, 1.0, 1.0, 1.0, 1.0, 1.0, 1.0, 1.0, 1.0, 1.0, 1.0, 1.0, 1.0]}, 'params': {'verbose': 1, 'epochs': 30, 'steps': 1}, 'epoch': [0, 1, 2, 3, 4, 5, 6, 7, 8, 9, 10, 11, 12, 13, 14, 15, 16, 17, 18, 19, 20, 21, 22, 23, 24, 25, 26, 27, 28, 29]}\n"
     ]
    },
    {
     "data": {
      "image/png": "[encoded data removed]",
      "text/plain": [
       "<Figure size 432x288 with 1 Axes>"
      ]
     },
     "metadata": {
      "needs_background": "light"
     },
     "output_type": "display_data"
    },
    {
     "data": {
      "image/png": "[encoded data removed]",
      "text/plain": [
       "<Figure size 432x288 with 1 Axes>"
      ]
     },
     "metadata": {
      "needs_background": "light"
     },
     "output_type": "display_data"
    }
   ],
   "source": [
    "import matplotlib.pyplot as plt\n",
    "print(history.__dict__)\n",
    "#print(history.history)\n",
    "val_accuracy = history.history['val_accuracy']\n",
    "accuracy = history.history['accuracy']\n",
    "epochs = history.epoch \n",
    "plt.plot(epochs,val_accuracy,'r',label=\"val accuracy\")\n",
    "plt.plot(epochs,accuracy,'b',label=\"train accuracy\")\n",
    "plt.legend()\n",
    "\n",
    "plt.figure()\n",
    "val_loss = history.history['val_loss']\n",
    "loss = history.history['loss']\n",
    "plt.plot(epochs,val_loss,'r',label=\"val loss\")\n",
    "plt.plot(epochs,loss,'b',label=\"train loss\")\n",
    "plt.legend()\n",
    "plt.show()"
   ]
  }
 ],
 "metadata": {
  "kernelspec": {
   "display_name": "Python 3 (ipykernel)",
   "language": "python",
   "name": "python3"
  },
  "language_info": {
   "codemirror_mode": {
    "name": "ipython",
    "version": 3
   },
   "file_extension": ".py",
   "mimetype": "text/x-python",
   "name": "python",
   "nbconvert_exporter": "python",
   "pygments_lexer": "ipython3",
   "version": "3.10.5"
  }
 },
 "nbformat": 4,
 "nbformat_minor": 5
}
