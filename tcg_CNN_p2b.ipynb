{
 "cells": [
  {
   "cell_type": "code",
   "execution_count": 2,
   "id": "e3bdf26c",
   "metadata": {},
   "outputs": [],
   "source": [
    "#\n",
    "# NOTE: This machine learning program is for predicting TC formation, using\n",
    "#       input dataset in the NETCDF format. The program treats different\n",
    "#       2D input fields as different channels of an image. This specific\n",
    "#       program requires a set of 12 2D-variables (12-channel image) and\n",
    "#       consists of three stages\n",
    "#       - Stage 1: reading NETCDF input and generating (X,y) data with a\n",
    "#                  given image sizes, which are then saved by pickle;\n",
    "#       - Stage 2: import the saved pickle (X,y) pair and build a CNN model\n",
    "#                  with a given training/validation ratio, and then save\n",
    "#                  the train model under tcg_CNN.model.\n",
    "#       - Stage 3: import the trained model from Stage 2, and make a list\n",
    "#                  of prediction from normalized test data.\n",
    "#\n",
    "# INPUT: This Stage 2 script requires two specific input datasets that are\n",
    "#        generated from Step 1, including\n",
    "#        1. tcg_X.pickle: data contains all images of yes/no TCG events, each\n",
    "#           of these images must have 12 channels\n",
    "#        2. tcg_y.pickle: data contains all labels of each image (i.e., yes\n",
    "#           or no) of TCG corresponding to each data in X.\n",
    "#\n",
    "#        Remarks: Note that each channel must be normalized separealy. Also\n",
    "#        the script requires a large memory allocation. So users need to have\n",
    "#        GPU version to run this.\n",
    "#\n",
    "# OUTPUT: A CNN model built from Keras saved under tcg_CNN.model\n",
    "#\n",
    "# HIST: - 27, Oct 22: Created by CK\n",
    "#       - 01, Nov 22: Modified to include more channels\n",
    "#       - 17, Nov 23: cusomize it for jupiter notebook\n",
    "#       - 21, Feb 23: use functional model instead of sequential model  \n",
    "#\n",
    "# AUTH: Chanh Kieu (Indiana University, Bloomington. Email: ckieu@iu.edu)\n",
    "#\n",
    "#==========================================================================\n",
    "import tensorflow as tf\n",
    "import numpy as np\n",
    "import pickle\n",
    "import time\n",
    "from tensorflow import keras\n",
    "from tensorflow.keras import layers\n",
    "from tensorflow.keras.callbacks import TensorBoard"
   ]
  },
  {
   "cell_type": "code",
   "execution_count": 3,
   "id": "80fbaaa0",
   "metadata": {
    "scrolled": false
   },
   "outputs": [
    {
     "name": "stdout",
     "output_type": "stream",
     "text": [
      "Input shape of the X features data:  (24, 30, 30, 12)\n",
      "Input shape of the y label data:  (24,)\n",
      "Number of input channel extracted from X is:  12\n",
      "Finish normalization...\n"
     ]
    }
   ],
   "source": [
    "#\n",
    "# read in data output from Part 1\n",
    "#\n",
    "pickle_in = open(\"tcg_X.pickle\",\"rb\")\n",
    "X = pickle.load(pickle_in)\n",
    "pickle_in = open(\"tcg_y.pickle\",\"rb\")\n",
    "y = pickle.load(pickle_in)\n",
    "y = np.array(y)\n",
    "number_channels=X.shape[3]\n",
    "print('Input shape of the X features data: ',X.shape)\n",
    "print('Input shape of the y label data: ',y.shape)\n",
    "print('Number of input channel extracted from X is: ',number_channels)\n",
    "#\n",
    "# normalize the data before training the model\n",
    "#\n",
    "nsample = X.shape[0]\n",
    "for i in range(nsample):\n",
    "    for var in range(number_channels):    \n",
    "        maxvalue = X[i,:,:,var].flat[np.abs(X[i,:,:,var]).argmax()]\n",
    "        #print('Normalization factor for sample and channel',i,var,', is: ',abs(maxvalue))\n",
    "        X[i,:,:,var] = X[i,:,:,var]/abs(maxvalue)\n",
    "        maxnew = X[i,:,:,var].flat[np.abs(X[i,:,:,var]).argmax()]\n",
    "        #print('-->After normalization of sample and channel',i,var,', is: ',abs(maxnew))\n",
    "        #input('Enter to continue...')\n",
    "print(\"Finish normalization...\")"
   ]
  },
  {
   "cell_type": "code",
   "execution_count": 5,
   "id": "0c0ad37c",
   "metadata": {
    "collapsed": true
   },
   "outputs": [
    {
     "name": "stdout",
     "output_type": "stream",
     "text": [
      "0 128 3 (30, 30, 12)\n",
      "0 128 5 (30, 30, 12)\n",
      "0 256 3 (30, 30, 12)\n",
      "0 256 5 (30, 30, 12)\n",
      "5 128 3 (30, 30, 12)\n",
      "5 128 5 (30, 30, 12)\n",
      "5 256 3 (30, 30, 12)\n",
      "5 256 5 (30, 30, 12)\n"
     ]
    }
   ],
   "source": [
    "#\n",
    "# test a range of loop for hyperparameter tuning. This is a test and have no impact to the rest of the\n",
    "# code. \n",
    "#\n",
    "dense_layers = [0, 5]\n",
    "layer_sizes = [128, 256]\n",
    "conv_layers = [3, 5]\n",
    "for dense_layer in dense_layers:\n",
    "    for layer_size in layer_sizes:\n",
    "        for conv_layer in conv_layers:\n",
    "            print(dense_layer, layer_size, conv_layer, X.shape[1:])"
   ]
  },
  {
   "cell_type": "code",
   "execution_count": 4,
   "id": "1c2aaa84",
   "metadata": {},
   "outputs": [
    {
     "name": "stdout",
     "output_type": "stream",
     "text": [
      "--> Running configuration:  3-conv-32-nodes-0-dense-1677100784\n"
     ]
    },
    {
     "name": "stderr",
     "output_type": "stream",
     "text": [
      "2023-02-22 16:19:44.224164: I tensorflow/core/platform/cpu_feature_guard.cc:193] This TensorFlow binary is optimized with oneAPI Deep Neural Network Library (oneDNN) to use the following CPU instructions in performance-critical operations:  SSE4.1 SSE4.2 AVX AVX2 FMA\n",
      "To enable them in other operations, rebuild TensorFlow with the appropriate compiler flags.\n"
     ]
    },
    {
     "name": "stdout",
     "output_type": "stream",
     "text": [
      "Model: \"my_TCG_model\"\n",
      "_________________________________________________________________\n",
      " Layer (type)                Output Shape              Param #   \n",
      "=================================================================\n",
      " input_1 (InputLayer)        [(None, 30, 30, 12)]      0         \n",
      "                                                                 \n",
      " my_conv2d_1 (Conv2D)        (None, 28, 28, 32)        3488      \n",
      "                                                                 \n",
      " my_pooling_1 (MaxPooling2D)  (None, 14, 14, 32)       0         \n",
      "                                                                 \n",
      " my_conv2d_2 (Conv2D)        (None, 12, 12, 64)        18496     \n",
      "                                                                 \n",
      " my_pooling_2 (MaxPooling2D)  (None, 6, 6, 64)         0         \n",
      "                                                                 \n",
      " my_conv2d_3 (Conv2D)        (None, 4, 4, 128)         73856     \n",
      "                                                                 \n",
      " my_pooling_3 (MaxPooling2D)  (None, 2, 2, 128)        0         \n",
      "                                                                 \n",
      " my_flatten (Flatten)        (None, 512)               0         \n",
      "                                                                 \n",
      " my_dense (Dense)            (None, 1)                 513       \n",
      "                                                                 \n",
      "=================================================================\n",
      "Total params: 96,353\n",
      "Trainable params: 96,353\n",
      "Non-trainable params: 0\n",
      "_________________________________________________________________\n",
      "Epoch 1/30\n",
      "1/1 [==============================] - ETA: 0s - loss: 0.7016 - accuracy: 0.5238"
     ]
    },
    {
     "name": "stderr",
     "output_type": "stream",
     "text": [
      "WARNING:absl:Found untraced functions such as _jit_compiled_convolution_op, _jit_compiled_convolution_op, _jit_compiled_convolution_op while saving (showing 3 of 3). These functions will not be directly callable after loading.\n"
     ]
    },
    {
     "name": "stdout",
     "output_type": "stream",
     "text": [
      "INFO:tensorflow:Assets written to: tcg_CNN.model/assets\n"
     ]
    },
    {
     "name": "stderr",
     "output_type": "stream",
     "text": [
      "INFO:tensorflow:Assets written to: tcg_CNN.model/assets\n"
     ]
    },
    {
     "name": "stdout",
     "output_type": "stream",
     "text": [
      "1/1 [==============================] - 2s 2s/step - loss: 0.7016 - accuracy: 0.5238 - val_loss: 0.6029 - val_accuracy: 0.6667\n",
      "Epoch 2/30\n",
      "1/1 [==============================] - 0s 50ms/step - loss: 0.6609 - accuracy: 0.4762 - val_loss: 0.6100 - val_accuracy: 1.0000\n",
      "Epoch 3/30\n",
      "1/1 [==============================] - ETA: 0s - loss: 0.6120 - accuracy: 0.9524"
     ]
    },
    {
     "name": "stderr",
     "output_type": "stream",
     "text": [
      "WARNING:absl:Found untraced functions such as _jit_compiled_convolution_op, _jit_compiled_convolution_op, _jit_compiled_convolution_op while saving (showing 3 of 3). These functions will not be directly callable after loading.\n"
     ]
    },
    {
     "name": "stdout",
     "output_type": "stream",
     "text": [
      "INFO:tensorflow:Assets written to: tcg_CNN.model/assets\n"
     ]
    },
    {
     "name": "stderr",
     "output_type": "stream",
     "text": [
      "INFO:tensorflow:Assets written to: tcg_CNN.model/assets\n"
     ]
    },
    {
     "name": "stdout",
     "output_type": "stream",
     "text": [
      "1/1 [==============================] - 1s 684ms/step - loss: 0.6120 - accuracy: 0.9524 - val_loss: 0.5857 - val_accuracy: 1.0000\n",
      "Epoch 4/30\n",
      "1/1 [==============================] - ETA: 0s - loss: 0.5705 - accuracy: 0.8095"
     ]
    },
    {
     "name": "stderr",
     "output_type": "stream",
     "text": [
      "WARNING:absl:Found untraced functions such as _jit_compiled_convolution_op, _jit_compiled_convolution_op, _jit_compiled_convolution_op while saving (showing 3 of 3). These functions will not be directly callable after loading.\n"
     ]
    },
    {
     "name": "stdout",
     "output_type": "stream",
     "text": [
      "INFO:tensorflow:Assets written to: tcg_CNN.model/assets\n"
     ]
    },
    {
     "name": "stderr",
     "output_type": "stream",
     "text": [
      "INFO:tensorflow:Assets written to: tcg_CNN.model/assets\n"
     ]
    },
    {
     "name": "stdout",
     "output_type": "stream",
     "text": [
      "1/1 [==============================] - 1s 698ms/step - loss: 0.5705 - accuracy: 0.8095 - val_loss: 0.4873 - val_accuracy: 1.0000\n",
      "Epoch 5/30\n",
      "1/1 [==============================] - ETA: 0s - loss: 0.5158 - accuracy: 1.0000"
     ]
    },
    {
     "name": "stderr",
     "output_type": "stream",
     "text": [
      "WARNING:absl:Found untraced functions such as _jit_compiled_convolution_op, _jit_compiled_convolution_op, _jit_compiled_convolution_op while saving (showing 3 of 3). These functions will not be directly callable after loading.\n"
     ]
    },
    {
     "name": "stdout",
     "output_type": "stream",
     "text": [
      "INFO:tensorflow:Assets written to: tcg_CNN.model/assets\n"
     ]
    },
    {
     "name": "stderr",
     "output_type": "stream",
     "text": [
      "INFO:tensorflow:Assets written to: tcg_CNN.model/assets\n"
     ]
    },
    {
     "name": "stdout",
     "output_type": "stream",
     "text": [
      "1/1 [==============================] - 1s 840ms/step - loss: 0.5158 - accuracy: 1.0000 - val_loss: 0.3849 - val_accuracy: 1.0000\n",
      "Epoch 6/30\n",
      "1/1 [==============================] - ETA: 0s - loss: 0.4628 - accuracy: 0.9524"
     ]
    },
    {
     "name": "stderr",
     "output_type": "stream",
     "text": [
      "WARNING:absl:Found untraced functions such as _jit_compiled_convolution_op, _jit_compiled_convolution_op, _jit_compiled_convolution_op while saving (showing 3 of 3). These functions will not be directly callable after loading.\n"
     ]
    },
    {
     "name": "stdout",
     "output_type": "stream",
     "text": [
      "INFO:tensorflow:Assets written to: tcg_CNN.model/assets\n"
     ]
    },
    {
     "name": "stderr",
     "output_type": "stream",
     "text": [
      "INFO:tensorflow:Assets written to: tcg_CNN.model/assets\n"
     ]
    },
    {
     "name": "stdout",
     "output_type": "stream",
     "text": [
      "1/1 [==============================] - 1s 687ms/step - loss: 0.4628 - accuracy: 0.9524 - val_loss: 0.3285 - val_accuracy: 1.0000\n",
      "Epoch 7/30\n",
      "1/1 [==============================] - ETA: 0s - loss: 0.3981 - accuracy: 1.0000"
     ]
    },
    {
     "name": "stderr",
     "output_type": "stream",
     "text": [
      "WARNING:absl:Found untraced functions such as _jit_compiled_convolution_op, _jit_compiled_convolution_op, _jit_compiled_convolution_op while saving (showing 3 of 3). These functions will not be directly callable after loading.\n"
     ]
    },
    {
     "name": "stdout",
     "output_type": "stream",
     "text": [
      "INFO:tensorflow:Assets written to: tcg_CNN.model/assets\n"
     ]
    },
    {
     "name": "stderr",
     "output_type": "stream",
     "text": [
      "INFO:tensorflow:Assets written to: tcg_CNN.model/assets\n"
     ]
    },
    {
     "name": "stdout",
     "output_type": "stream",
     "text": [
      "1/1 [==============================] - 1s 685ms/step - loss: 0.3981 - accuracy: 1.0000 - val_loss: 0.2822 - val_accuracy: 1.0000\n",
      "Epoch 8/30\n",
      "1/1 [==============================] - ETA: 0s - loss: 0.3377 - accuracy: 1.0000"
     ]
    },
    {
     "name": "stderr",
     "output_type": "stream",
     "text": [
      "WARNING:absl:Found untraced functions such as _jit_compiled_convolution_op, _jit_compiled_convolution_op, _jit_compiled_convolution_op while saving (showing 3 of 3). These functions will not be directly callable after loading.\n"
     ]
    },
    {
     "name": "stdout",
     "output_type": "stream",
     "text": [
      "INFO:tensorflow:Assets written to: tcg_CNN.model/assets\n"
     ]
    },
    {
     "name": "stderr",
     "output_type": "stream",
     "text": [
      "INFO:tensorflow:Assets written to: tcg_CNN.model/assets\n"
     ]
    },
    {
     "name": "stdout",
     "output_type": "stream",
     "text": [
      "1/1 [==============================] - 1s 682ms/step - loss: 0.3377 - accuracy: 1.0000 - val_loss: 0.1859 - val_accuracy: 1.0000\n",
      "Epoch 9/30\n",
      "1/1 [==============================] - ETA: 0s - loss: 0.2727 - accuracy: 1.0000"
     ]
    },
    {
     "name": "stderr",
     "output_type": "stream",
     "text": [
      "WARNING:absl:Found untraced functions such as _jit_compiled_convolution_op, _jit_compiled_convolution_op, _jit_compiled_convolution_op while saving (showing 3 of 3). These functions will not be directly callable after loading.\n"
     ]
    },
    {
     "name": "stdout",
     "output_type": "stream",
     "text": [
      "INFO:tensorflow:Assets written to: tcg_CNN.model/assets\n"
     ]
    },
    {
     "name": "stderr",
     "output_type": "stream",
     "text": [
      "INFO:tensorflow:Assets written to: tcg_CNN.model/assets\n"
     ]
    },
    {
     "name": "stdout",
     "output_type": "stream",
     "text": [
      "1/1 [==============================] - 1s 835ms/step - loss: 0.2727 - accuracy: 1.0000 - val_loss: 0.1165 - val_accuracy: 1.0000\n",
      "Epoch 10/30\n",
      "1/1 [==============================] - ETA: 0s - loss: 0.2177 - accuracy: 1.0000"
     ]
    },
    {
     "name": "stderr",
     "output_type": "stream",
     "text": [
      "WARNING:absl:Found untraced functions such as _jit_compiled_convolution_op, _jit_compiled_convolution_op, _jit_compiled_convolution_op while saving (showing 3 of 3). These functions will not be directly callable after loading.\n"
     ]
    },
    {
     "name": "stdout",
     "output_type": "stream",
     "text": [
      "INFO:tensorflow:Assets written to: tcg_CNN.model/assets\n"
     ]
    },
    {
     "name": "stderr",
     "output_type": "stream",
     "text": [
      "INFO:tensorflow:Assets written to: tcg_CNN.model/assets\n"
     ]
    },
    {
     "name": "stdout",
     "output_type": "stream",
     "text": [
      "1/1 [==============================] - 1s 687ms/step - loss: 0.2177 - accuracy: 1.0000 - val_loss: 0.0879 - val_accuracy: 1.0000\n",
      "Epoch 11/30\n",
      "1/1 [==============================] - ETA: 0s - loss: 0.1668 - accuracy: 1.0000"
     ]
    },
    {
     "name": "stderr",
     "output_type": "stream",
     "text": [
      "WARNING:absl:Found untraced functions such as _jit_compiled_convolution_op, _jit_compiled_convolution_op, _jit_compiled_convolution_op while saving (showing 3 of 3). These functions will not be directly callable after loading.\n"
     ]
    },
    {
     "name": "stdout",
     "output_type": "stream",
     "text": [
      "INFO:tensorflow:Assets written to: tcg_CNN.model/assets\n"
     ]
    },
    {
     "name": "stderr",
     "output_type": "stream",
     "text": [
      "INFO:tensorflow:Assets written to: tcg_CNN.model/assets\n"
     ]
    },
    {
     "name": "stdout",
     "output_type": "stream",
     "text": [
      "1/1 [==============================] - 1s 697ms/step - loss: 0.1668 - accuracy: 1.0000 - val_loss: 0.0509 - val_accuracy: 1.0000\n",
      "Epoch 12/30\n",
      "1/1 [==============================] - ETA: 0s - loss: 0.1241 - accuracy: 1.0000"
     ]
    },
    {
     "name": "stderr",
     "output_type": "stream",
     "text": [
      "WARNING:absl:Found untraced functions such as _jit_compiled_convolution_op, _jit_compiled_convolution_op, _jit_compiled_convolution_op while saving (showing 3 of 3). These functions will not be directly callable after loading.\n"
     ]
    },
    {
     "name": "stdout",
     "output_type": "stream",
     "text": [
      "INFO:tensorflow:Assets written to: tcg_CNN.model/assets\n"
     ]
    },
    {
     "name": "stderr",
     "output_type": "stream",
     "text": [
      "INFO:tensorflow:Assets written to: tcg_CNN.model/assets\n"
     ]
    },
    {
     "name": "stdout",
     "output_type": "stream",
     "text": [
      "1/1 [==============================] - 1s 698ms/step - loss: 0.1241 - accuracy: 1.0000 - val_loss: 0.0233 - val_accuracy: 1.0000\n",
      "Epoch 13/30\n",
      "1/1 [==============================] - ETA: 0s - loss: 0.0916 - accuracy: 1.0000"
     ]
    },
    {
     "name": "stderr",
     "output_type": "stream",
     "text": [
      "WARNING:absl:Found untraced functions such as _jit_compiled_convolution_op, _jit_compiled_convolution_op, _jit_compiled_convolution_op while saving (showing 3 of 3). These functions will not be directly callable after loading.\n"
     ]
    },
    {
     "name": "stdout",
     "output_type": "stream",
     "text": [
      "INFO:tensorflow:Assets written to: tcg_CNN.model/assets\n"
     ]
    },
    {
     "name": "stderr",
     "output_type": "stream",
     "text": [
      "INFO:tensorflow:Assets written to: tcg_CNN.model/assets\n"
     ]
    },
    {
     "name": "stdout",
     "output_type": "stream",
     "text": [
      "1/1 [==============================] - 1s 694ms/step - loss: 0.0916 - accuracy: 1.0000 - val_loss: 0.0150 - val_accuracy: 1.0000\n",
      "Epoch 14/30\n",
      "1/1 [==============================] - ETA: 0s - loss: 0.0627 - accuracy: 1.0000"
     ]
    },
    {
     "name": "stderr",
     "output_type": "stream",
     "text": [
      "WARNING:absl:Found untraced functions such as _jit_compiled_convolution_op, _jit_compiled_convolution_op, _jit_compiled_convolution_op while saving (showing 3 of 3). These functions will not be directly callable after loading.\n"
     ]
    },
    {
     "name": "stdout",
     "output_type": "stream",
     "text": [
      "INFO:tensorflow:Assets written to: tcg_CNN.model/assets\n"
     ]
    },
    {
     "name": "stderr",
     "output_type": "stream",
     "text": [
      "INFO:tensorflow:Assets written to: tcg_CNN.model/assets\n"
     ]
    },
    {
     "name": "stdout",
     "output_type": "stream",
     "text": [
      "1/1 [==============================] - 1s 849ms/step - loss: 0.0627 - accuracy: 1.0000 - val_loss: 0.0081 - val_accuracy: 1.0000\n",
      "Epoch 15/30\n",
      "1/1 [==============================] - ETA: 0s - loss: 0.0432 - accuracy: 1.0000"
     ]
    },
    {
     "name": "stderr",
     "output_type": "stream",
     "text": [
      "WARNING:absl:Found untraced functions such as _jit_compiled_convolution_op, _jit_compiled_convolution_op, _jit_compiled_convolution_op while saving (showing 3 of 3). These functions will not be directly callable after loading.\n"
     ]
    },
    {
     "name": "stdout",
     "output_type": "stream",
     "text": [
      "INFO:tensorflow:Assets written to: tcg_CNN.model/assets\n"
     ]
    },
    {
     "name": "stderr",
     "output_type": "stream",
     "text": [
      "INFO:tensorflow:Assets written to: tcg_CNN.model/assets\n"
     ]
    },
    {
     "name": "stdout",
     "output_type": "stream",
     "text": [
      "1/1 [==============================] - 1s 702ms/step - loss: 0.0432 - accuracy: 1.0000 - val_loss: 0.0031 - val_accuracy: 1.0000\n",
      "Epoch 16/30\n",
      "1/1 [==============================] - ETA: 0s - loss: 0.0283 - accuracy: 1.0000"
     ]
    },
    {
     "name": "stderr",
     "output_type": "stream",
     "text": [
      "WARNING:absl:Found untraced functions such as _jit_compiled_convolution_op, _jit_compiled_convolution_op, _jit_compiled_convolution_op while saving (showing 3 of 3). These functions will not be directly callable after loading.\n"
     ]
    },
    {
     "name": "stdout",
     "output_type": "stream",
     "text": [
      "INFO:tensorflow:Assets written to: tcg_CNN.model/assets\n"
     ]
    },
    {
     "name": "stderr",
     "output_type": "stream",
     "text": [
      "INFO:tensorflow:Assets written to: tcg_CNN.model/assets\n"
     ]
    },
    {
     "name": "stdout",
     "output_type": "stream",
     "text": [
      "1/1 [==============================] - 1s 696ms/step - loss: 0.0283 - accuracy: 1.0000 - val_loss: 0.0015 - val_accuracy: 1.0000\n",
      "Epoch 17/30\n",
      "1/1 [==============================] - ETA: 0s - loss: 0.0183 - accuracy: 1.0000"
     ]
    },
    {
     "name": "stderr",
     "output_type": "stream",
     "text": [
      "WARNING:absl:Found untraced functions such as _jit_compiled_convolution_op, _jit_compiled_convolution_op, _jit_compiled_convolution_op while saving (showing 3 of 3). These functions will not be directly callable after loading.\n"
     ]
    },
    {
     "name": "stdout",
     "output_type": "stream",
     "text": [
      "INFO:tensorflow:Assets written to: tcg_CNN.model/assets\n"
     ]
    },
    {
     "name": "stderr",
     "output_type": "stream",
     "text": [
      "INFO:tensorflow:Assets written to: tcg_CNN.model/assets\n"
     ]
    },
    {
     "name": "stdout",
     "output_type": "stream",
     "text": [
      "1/1 [==============================] - 1s 700ms/step - loss: 0.0183 - accuracy: 1.0000 - val_loss: 8.1551e-04 - val_accuracy: 1.0000\n",
      "Epoch 18/30\n",
      "1/1 [==============================] - ETA: 0s - loss: 0.0114 - accuracy: 1.0000"
     ]
    },
    {
     "name": "stderr",
     "output_type": "stream",
     "text": [
      "WARNING:absl:Found untraced functions such as _jit_compiled_convolution_op, _jit_compiled_convolution_op, _jit_compiled_convolution_op while saving (showing 3 of 3). These functions will not be directly callable after loading.\n"
     ]
    },
    {
     "name": "stdout",
     "output_type": "stream",
     "text": [
      "INFO:tensorflow:Assets written to: tcg_CNN.model/assets\n"
     ]
    },
    {
     "name": "stderr",
     "output_type": "stream",
     "text": [
      "INFO:tensorflow:Assets written to: tcg_CNN.model/assets\n"
     ]
    },
    {
     "name": "stdout",
     "output_type": "stream",
     "text": [
      "1/1 [==============================] - 1s 869ms/step - loss: 0.0114 - accuracy: 1.0000 - val_loss: 4.3166e-04 - val_accuracy: 1.0000\n",
      "Epoch 19/30\n",
      "1/1 [==============================] - ETA: 0s - loss: 0.0076 - accuracy: 1.0000"
     ]
    },
    {
     "name": "stderr",
     "output_type": "stream",
     "text": [
      "WARNING:absl:Found untraced functions such as _jit_compiled_convolution_op, _jit_compiled_convolution_op, _jit_compiled_convolution_op while saving (showing 3 of 3). These functions will not be directly callable after loading.\n"
     ]
    },
    {
     "name": "stdout",
     "output_type": "stream",
     "text": [
      "INFO:tensorflow:Assets written to: tcg_CNN.model/assets\n"
     ]
    },
    {
     "name": "stderr",
     "output_type": "stream",
     "text": [
      "INFO:tensorflow:Assets written to: tcg_CNN.model/assets\n"
     ]
    },
    {
     "name": "stdout",
     "output_type": "stream",
     "text": [
      "1/1 [==============================] - 1s 717ms/step - loss: 0.0076 - accuracy: 1.0000 - val_loss: 1.8698e-04 - val_accuracy: 1.0000\n",
      "Epoch 20/30\n",
      "1/1 [==============================] - ETA: 0s - loss: 0.0046 - accuracy: 1.0000"
     ]
    },
    {
     "name": "stderr",
     "output_type": "stream",
     "text": [
      "WARNING:absl:Found untraced functions such as _jit_compiled_convolution_op, _jit_compiled_convolution_op, _jit_compiled_convolution_op while saving (showing 3 of 3). These functions will not be directly callable after loading.\n"
     ]
    },
    {
     "name": "stdout",
     "output_type": "stream",
     "text": [
      "INFO:tensorflow:Assets written to: tcg_CNN.model/assets\n"
     ]
    },
    {
     "name": "stderr",
     "output_type": "stream",
     "text": [
      "INFO:tensorflow:Assets written to: tcg_CNN.model/assets\n"
     ]
    },
    {
     "name": "stdout",
     "output_type": "stream",
     "text": [
      "1/1 [==============================] - 1s 695ms/step - loss: 0.0046 - accuracy: 1.0000 - val_loss: 8.4731e-05 - val_accuracy: 1.0000\n",
      "Epoch 21/30\n",
      "1/1 [==============================] - ETA: 0s - loss: 0.0029 - accuracy: 1.0000"
     ]
    },
    {
     "name": "stderr",
     "output_type": "stream",
     "text": [
      "WARNING:absl:Found untraced functions such as _jit_compiled_convolution_op, _jit_compiled_convolution_op, _jit_compiled_convolution_op while saving (showing 3 of 3). These functions will not be directly callable after loading.\n"
     ]
    },
    {
     "name": "stdout",
     "output_type": "stream",
     "text": [
      "INFO:tensorflow:Assets written to: tcg_CNN.model/assets\n"
     ]
    },
    {
     "name": "stderr",
     "output_type": "stream",
     "text": [
      "INFO:tensorflow:Assets written to: tcg_CNN.model/assets\n"
     ]
    },
    {
     "name": "stdout",
     "output_type": "stream",
     "text": [
      "1/1 [==============================] - 1s 686ms/step - loss: 0.0029 - accuracy: 1.0000 - val_loss: 4.5639e-05 - val_accuracy: 1.0000\n",
      "Epoch 22/30\n",
      "1/1 [==============================] - ETA: 0s - loss: 0.0020 - accuracy: 1.0000"
     ]
    },
    {
     "name": "stderr",
     "output_type": "stream",
     "text": [
      "WARNING:absl:Found untraced functions such as _jit_compiled_convolution_op, _jit_compiled_convolution_op, _jit_compiled_convolution_op while saving (showing 3 of 3). These functions will not be directly callable after loading.\n"
     ]
    },
    {
     "name": "stdout",
     "output_type": "stream",
     "text": [
      "INFO:tensorflow:Assets written to: tcg_CNN.model/assets\n"
     ]
    },
    {
     "name": "stderr",
     "output_type": "stream",
     "text": [
      "INFO:tensorflow:Assets written to: tcg_CNN.model/assets\n"
     ]
    },
    {
     "name": "stdout",
     "output_type": "stream",
     "text": [
      "1/1 [==============================] - 1s 691ms/step - loss: 0.0020 - accuracy: 1.0000 - val_loss: 2.6004e-05 - val_accuracy: 1.0000\n",
      "Epoch 23/30\n",
      "1/1 [==============================] - ETA: 0s - loss: 0.0014 - accuracy: 1.0000"
     ]
    },
    {
     "name": "stderr",
     "output_type": "stream",
     "text": [
      "WARNING:absl:Found untraced functions such as _jit_compiled_convolution_op, _jit_compiled_convolution_op, _jit_compiled_convolution_op while saving (showing 3 of 3). These functions will not be directly callable after loading.\n"
     ]
    },
    {
     "name": "stdout",
     "output_type": "stream",
     "text": [
      "INFO:tensorflow:Assets written to: tcg_CNN.model/assets\n"
     ]
    },
    {
     "name": "stderr",
     "output_type": "stream",
     "text": [
      "INFO:tensorflow:Assets written to: tcg_CNN.model/assets\n"
     ]
    },
    {
     "name": "stdout",
     "output_type": "stream",
     "text": [
      "1/1 [==============================] - 1s 872ms/step - loss: 0.0014 - accuracy: 1.0000 - val_loss: 1.4480e-05 - val_accuracy: 1.0000\n",
      "Epoch 24/30\n",
      "1/1 [==============================] - ETA: 0s - loss: 9.1638e-04 - accuracy: 1.0000"
     ]
    },
    {
     "name": "stderr",
     "output_type": "stream",
     "text": [
      "WARNING:absl:Found untraced functions such as _jit_compiled_convolution_op, _jit_compiled_convolution_op, _jit_compiled_convolution_op while saving (showing 3 of 3). These functions will not be directly callable after loading.\n"
     ]
    },
    {
     "name": "stdout",
     "output_type": "stream",
     "text": [
      "INFO:tensorflow:Assets written to: tcg_CNN.model/assets\n"
     ]
    },
    {
     "name": "stderr",
     "output_type": "stream",
     "text": [
      "INFO:tensorflow:Assets written to: tcg_CNN.model/assets\n"
     ]
    },
    {
     "name": "stdout",
     "output_type": "stream",
     "text": [
      "1/1 [==============================] - 1s 683ms/step - loss: 9.1638e-04 - accuracy: 1.0000 - val_loss: 7.9906e-06 - val_accuracy: 1.0000\n",
      "Epoch 25/30\n",
      "1/1 [==============================] - ETA: 0s - loss: 6.0972e-04 - accuracy: 1.0000"
     ]
    },
    {
     "name": "stderr",
     "output_type": "stream",
     "text": [
      "WARNING:absl:Found untraced functions such as _jit_compiled_convolution_op, _jit_compiled_convolution_op, _jit_compiled_convolution_op while saving (showing 3 of 3). These functions will not be directly callable after loading.\n"
     ]
    },
    {
     "name": "stdout",
     "output_type": "stream",
     "text": [
      "INFO:tensorflow:Assets written to: tcg_CNN.model/assets\n"
     ]
    },
    {
     "name": "stderr",
     "output_type": "stream",
     "text": [
      "INFO:tensorflow:Assets written to: tcg_CNN.model/assets\n"
     ]
    },
    {
     "name": "stdout",
     "output_type": "stream",
     "text": [
      "1/1 [==============================] - 1s 686ms/step - loss: 6.0972e-04 - accuracy: 1.0000 - val_loss: 4.4667e-06 - val_accuracy: 1.0000\n",
      "Epoch 26/30\n",
      "1/1 [==============================] - ETA: 0s - loss: 4.3248e-04 - accuracy: 1.0000"
     ]
    },
    {
     "name": "stderr",
     "output_type": "stream",
     "text": [
      "WARNING:absl:Found untraced functions such as _jit_compiled_convolution_op, _jit_compiled_convolution_op, _jit_compiled_convolution_op while saving (showing 3 of 3). These functions will not be directly callable after loading.\n"
     ]
    },
    {
     "name": "stdout",
     "output_type": "stream",
     "text": [
      "INFO:tensorflow:Assets written to: tcg_CNN.model/assets\n"
     ]
    },
    {
     "name": "stderr",
     "output_type": "stream",
     "text": [
      "INFO:tensorflow:Assets written to: tcg_CNN.model/assets\n"
     ]
    },
    {
     "name": "stdout",
     "output_type": "stream",
     "text": [
      "1/1 [==============================] - 1s 683ms/step - loss: 4.3248e-04 - accuracy: 1.0000 - val_loss: 2.5822e-06 - val_accuracy: 1.0000\n",
      "Epoch 27/30\n",
      "1/1 [==============================] - ETA: 0s - loss: 3.3105e-04 - accuracy: 1.0000"
     ]
    },
    {
     "name": "stderr",
     "output_type": "stream",
     "text": [
      "WARNING:absl:Found untraced functions such as _jit_compiled_convolution_op, _jit_compiled_convolution_op, _jit_compiled_convolution_op while saving (showing 3 of 3). These functions will not be directly callable after loading.\n"
     ]
    },
    {
     "name": "stdout",
     "output_type": "stream",
     "text": [
      "INFO:tensorflow:Assets written to: tcg_CNN.model/assets\n"
     ]
    },
    {
     "name": "stderr",
     "output_type": "stream",
     "text": [
      "INFO:tensorflow:Assets written to: tcg_CNN.model/assets\n"
     ]
    },
    {
     "name": "stdout",
     "output_type": "stream",
     "text": [
      "1/1 [==============================] - 1s 680ms/step - loss: 3.3105e-04 - accuracy: 1.0000 - val_loss: 1.5591e-06 - val_accuracy: 1.0000\n",
      "Epoch 28/30\n",
      "1/1 [==============================] - ETA: 0s - loss: 2.6565e-04 - accuracy: 1.0000"
     ]
    },
    {
     "name": "stderr",
     "output_type": "stream",
     "text": [
      "WARNING:absl:Found untraced functions such as _jit_compiled_convolution_op, _jit_compiled_convolution_op, _jit_compiled_convolution_op while saving (showing 3 of 3). These functions will not be directly callable after loading.\n"
     ]
    },
    {
     "name": "stdout",
     "output_type": "stream",
     "text": [
      "INFO:tensorflow:Assets written to: tcg_CNN.model/assets\n"
     ]
    },
    {
     "name": "stderr",
     "output_type": "stream",
     "text": [
      "INFO:tensorflow:Assets written to: tcg_CNN.model/assets\n"
     ]
    },
    {
     "name": "stdout",
     "output_type": "stream",
     "text": [
      "1/1 [==============================] - 1s 828ms/step - loss: 2.6565e-04 - accuracy: 1.0000 - val_loss: 9.8562e-07 - val_accuracy: 1.0000\n",
      "Epoch 29/30\n",
      "1/1 [==============================] - ETA: 0s - loss: 2.1555e-04 - accuracy: 1.0000"
     ]
    },
    {
     "name": "stderr",
     "output_type": "stream",
     "text": [
      "WARNING:absl:Found untraced functions such as _jit_compiled_convolution_op, _jit_compiled_convolution_op, _jit_compiled_convolution_op while saving (showing 3 of 3). These functions will not be directly callable after loading.\n"
     ]
    },
    {
     "name": "stdout",
     "output_type": "stream",
     "text": [
      "INFO:tensorflow:Assets written to: tcg_CNN.model/assets\n"
     ]
    },
    {
     "name": "stderr",
     "output_type": "stream",
     "text": [
      "INFO:tensorflow:Assets written to: tcg_CNN.model/assets\n"
     ]
    },
    {
     "name": "stdout",
     "output_type": "stream",
     "text": [
      "1/1 [==============================] - 1s 679ms/step - loss: 2.1555e-04 - accuracy: 1.0000 - val_loss: 6.5538e-07 - val_accuracy: 1.0000\n",
      "Epoch 30/30\n",
      "1/1 [==============================] - ETA: 0s - loss: 1.7293e-04 - accuracy: 1.0000"
     ]
    },
    {
     "name": "stderr",
     "output_type": "stream",
     "text": [
      "WARNING:absl:Found untraced functions such as _jit_compiled_convolution_op, _jit_compiled_convolution_op, _jit_compiled_convolution_op while saving (showing 3 of 3). These functions will not be directly callable after loading.\n"
     ]
    },
    {
     "name": "stdout",
     "output_type": "stream",
     "text": [
      "INFO:tensorflow:Assets written to: tcg_CNN.model/assets\n"
     ]
    },
    {
     "name": "stderr",
     "output_type": "stream",
     "text": [
      "INFO:tensorflow:Assets written to: tcg_CNN.model/assets\n"
     ]
    },
    {
     "name": "stdout",
     "output_type": "stream",
     "text": [
      "\b\b\b\b\b\b\b\b\b\b\b\b\b\b\b\b\b\b\b\b\b\b\b\b\b\b\b\b\b\b\b\b\b\b\b\b\b\b\b\b\b\b\b\b\b\b\b\b\b\b\b\b\b\b\b\b\b\b\b\b\b\b\b\b\b\b\b\b\b\b\b\b\b\b\b\b\b\b\b\b\b\b\b\b\r",
      "1/1 [==============================] - 1s 704ms/step - loss: 1.7293e-04 - accuracy: 1.0000 - val_loss: 4.6139e-07 - val_accuracy: 1.0000\n"
     ]
    }
   ],
   "source": [
    "#\n",
    "# build a range of CNN models with different number of dense layers, layer sizes\n",
    "# convolution layers to optimize the performance\n",
    "#\n",
    "dense_layers = [0]\n",
    "layer_sizes = [32]\n",
    "conv_layers = [3]\n",
    "for dense_layer in dense_layers:\n",
    "    for layer_size in layer_sizes:\n",
    "        for conv_layer in conv_layers:\n",
    "            NAME = \"{}-conv-{}-nodes-{}-dense-{}\".format(conv_layer, layer_size, dense_layer, int(time.time()))\n",
    "            print('--> Running configuration: ',NAME)\n",
    "\n",
    "            inputs = keras.Input(shape=X.shape[1:])            \n",
    "            x = layers.Conv2D(filters=layer_size,kernel_size=conv_layer,activation=\"relu\",name=\"my_conv2d_1\")(inputs)\n",
    "            x = layers.MaxPooling2D(pool_size=2,name=\"my_pooling_1\")(x)\n",
    "            x = layers.Conv2D(filters=layer_size*2,kernel_size=conv_layer,activation=\"relu\",name=\"my_conv2d_2\")(x)\n",
    "            x = layers.MaxPooling2D(pool_size=2,name=\"my_pooling_2\")(x)\n",
    "            x = layers.Conv2D(filters=layer_size*4,kernel_size=conv_layer,activation=\"relu\",name=\"my_conv2d_3\")(x)\n",
    "            x = layers.MaxPooling2D(pool_size=2,name=\"my_pooling_3\")(x)\n",
    "            #x = layers.Conv2D(filters=256,kernel_size=conv_layer,activation=\"relu\",name=\"my_conv2d_4\")(x)\n",
    "            #x = layers.MaxPooling2D(pool_size=2,name=\"my_pooling_4\")(x)\n",
    "            #x = layers.Conv2D(filters=256,kernel_size=conv_layer,activation=\"relu\",name=\"my_conv2d_5\")(x)\n",
    "            x = layers.Flatten(name=\"my_flatten\")(x)\n",
    "            outputs = layers.Dense(1,activation=\"sigmoid\",name=\"my_dense\")(x)\n",
    "            model = keras.Model(inputs=inputs,outputs=outputs,name=\"my_TCG_model\")\n",
    "            model.summary()\n",
    "            keras.utils.plot_model(model)\n",
    "            \n",
    "            callbacks=[keras.callbacks.ModelCheckpoint(\"tcg_CNN.model\",save_best_only=True)]\n",
    "            model.compile(loss=\"binary_crossentropy\",optimizer=\"adam\",metrics=[\"accuracy\"])\n",
    "            history = model.fit(X, y, batch_size=90, epochs=30, validation_split=0.1, callbacks=callbacks)\n",
    "            \n",
    "            '''\n",
    "            model = Sequential()\n",
    "            model.add(Conv2D(layer_size, (3, 3), input_shape=X.shape[1:],data_format=\"channels_last\"))\n",
    "            model.add(Activation('relu'))\n",
    "            model.add(MaxPooling2D(pool_size=(2, 2)))\n",
    "\n",
    "            for l in range(conv_layer-1):\n",
    "                model.add(Conv2D(layer_size, (3, 3)))\n",
    "                model.add(Activation('relu'))\n",
    "                model.add(MaxPooling2D(pool_size=(2, 2)))\n",
    "\n",
    "            model.add(Flatten())\n",
    "\n",
    "            for _ in range(dense_layer):\n",
    "                model.add(Dense(layer_size))\n",
    "                model.add(Activation('relu'))\n",
    "\n",
    "            model.add(Dense(1))\n",
    "            model.add(Activation('sigmoid'))\n",
    "\n",
    "            tensorboard = TensorBoard(log_dir=\"./logs/{}\".format(NAME))\n",
    "\n",
    "            model.compile(loss='binary_crossentropy',\n",
    "                          optimizer='adam',\n",
    "                          metrics=['accuracy'])\n",
    "\n",
    "            model.fit(X, y, batch_size=90, epochs=30, validation_split=0.1, callbacks=[tensorboard])'''\n",
    "            \n",
    "#\n",
    "# save the model for the final step\n",
    "#\n",
    "#model.save('tcg_CNN.model')"
   ]
  },
  {
   "cell_type": "code",
   "execution_count": 5,
   "id": "b8ca670d",
   "metadata": {},
   "outputs": [
    {
     "data": {
      "image/png": "[encoded data removed]",
      "text/plain": [
       "<Figure size 432x288 with 1 Axes>"
      ]
     },
     "metadata": {
      "needs_background": "light"
     },
     "output_type": "display_data"
    },
    {
     "data": {
      "image/png": "[encoded data removed]",
      "text/plain": [
       "<Figure size 432x288 with 1 Axes>"
      ]
     },
     "metadata": {
      "needs_background": "light"
     },
     "output_type": "display_data"
    }
   ],
   "source": [
    "import matplotlib.pyplot as plt\n",
    "#print(history.__dict__)\n",
    "#print(history.history)\n",
    "val_accuracy = history.history['val_accuracy']\n",
    "accuracy = history.history['accuracy']\n",
    "epochs = history.epoch \n",
    "plt.plot(epochs,val_accuracy,'r',label=\"val accuracy\")\n",
    "plt.plot(epochs,accuracy,'b',label=\"train accuracy\")\n",
    "plt.legend()\n",
    "\n",
    "plt.figure()\n",
    "val_loss = history.history['val_loss']\n",
    "loss = history.history['loss']\n",
    "plt.plot(epochs,val_loss,'r',label=\"val loss\")\n",
    "plt.plot(epochs,loss,'b',label=\"train loss\")\n",
    "plt.legend()\n",
    "plt.show()"
   ]
  }
 ],
 "metadata": {
  "kernelspec": {
   "display_name": "Python 3 (ipykernel)",
   "language": "python",
   "name": "python3"
  },
  "language_info": {
   "codemirror_mode": {
    "name": "ipython",
    "version": 3
   },
   "file_extension": ".py",
   "mimetype": "text/x-python",
   "name": "python",
   "nbconvert_exporter": "python",
   "pygments_lexer": "ipython3",
   "version": "3.9.13"
  }
 },
 "nbformat": 4,
 "nbformat_minor": 5
}
