{
 "cells": [
  {
   "cell_type": "code",
   "execution_count": 1,
   "id": "80518cb4",
   "metadata": {},
   "outputs": [
    {
     "name": "stderr",
     "output_type": "stream",
     "text": [
      "2023-02-20 16:50:41.476055: I tensorflow/core/platform/cpu_feature_guard.cc:193] This TensorFlow binary is optimized with oneAPI Deep Neural Network Library (oneDNN) to use the following CPU instructions in performance-critical operations:  SSE4.1 SSE4.2 AVX AVX2 AVX512F AVX512_VNNI FMA\n",
      "To enable them in other operations, rebuild TensorFlow with the appropriate compiler flags.\n",
      "2023-02-20 16:50:44.007574: I tensorflow/core/util/port.cc:104] oneDNN custom operations are on. You may see slightly different numerical results due to floating-point round-off errors from different computation orders. To turn them off, set the environment variable `TF_ENABLE_ONEDNN_OPTS=0`.\n"
     ]
    }
   ],
   "source": [
    "#\n",
    "# NOTE: This machine learning program is for predicting TC formation, using\n",
    "#       input dataset in the NETCDF format. The program treats different\n",
    "#       2D input fields as different channels of an image. This specific\n",
    "#       program requires a set of 12 2D-variables (12-channel image) and\n",
    "#       consists of three stages\n",
    "#       - Stage 1: reading NETCDF input and generating (X,y) data with a\n",
    "#                  given image sizes, which are then saved by pickle;\n",
    "#       - Stage 2: import the saved pickle (X,y) pair and build a CNN model\n",
    "#                  with a given training/validation ratio, and then save\n",
    "#                  the train model under tcg_CNN.model.\n",
    "#       - Stage 3: import the trained model from Stage 2, and make a list\n",
    "#                  of prediction from normalized test data.\n",
    "#\n",
    "# INPUT: This Stage 3 script reads in the CNN trained model \"tcg_CNN.model\"\n",
    "#        that is generated from Step 2.\n",
    "#\n",
    "#        Remarks: Note that the input data for this script must be on the\n",
    "#        same as in Step 1 with standard 19 vertical\n",
    "#        levels 1000, 975, 950, 925, 900, 850, 800, 750, 700, 650, 600,\n",
    "#        550, 500, 450, 400, 350, 300, 250, 200. Also, all field vars must\n",
    "#        be resize to cover an area of 30x30 around the TC center for the\n",
    "#        positive data cases.\n",
    "#        Similar to Step 2, this Step 3 needs to also have a large mem\n",
    "#        allocation so that it can be run properly.\n",
    "#\n",
    "# OUTPUT: A list of probability forecast with the same dimension as the\n",
    "#        number of input 12-channel images.\n",
    "#\n",
    "# HIST: - 01, Nov 22: Created by CK\n",
    "#       - 02, Nov 22: Modified to optimize it\n",
    "#\n",
    "# AUTH: Chanh Kieu (Indiana University, Bloomington. Email: ckieu@iu.edu)\n",
    "#\n",
    "#==========================================================================\n",
    "import cv2\n",
    "import tensorflow as tf\n",
    "import os\n",
    "from tqdm import tqdm\n",
    "import netCDF4\n",
    "import numpy as np"
   ]
  },
  {
   "cell_type": "code",
   "execution_count": 2,
   "id": "70d857fe",
   "metadata": {},
   "outputs": [],
   "source": [
    "#\n",
    "# Function to return input data as an numpy array\n",
    "#\n",
    "def prepare(filepath):\n",
    "    IMG_SIZE = 30\n",
    "    number_channels = 12\n",
    "    f = netCDF4.Dataset(filepath)\n",
    "    abv = f.variables['absvprs']\n",
    "    nx = np.size(abv[0,0,:])\n",
    "    ny = np.size(abv[0,:,0])\n",
    "    nz = np.size(abv[:,0,0])\n",
    "    #print('Dimension of input NETCDF is: ',nx,ny,nz)\n",
    "    a2 = np.zeros((nx,ny,number_channels))\n",
    "    for i in range(a2.shape[0]):\n",
    "        for j in range(a2.shape[1]):\n",
    "            a2[i,j,0] = abv[1,j,i]    # abs vort at 950 mb\n",
    "    rel = f.variables['rhprs']\n",
    "    for i in range(a2.shape[0]):\n",
    "        for j in range(a2.shape[1]):\n",
    "            a2[i,j,1] = rel[7,j,i]    # RH at 750 mb\n",
    "    sfc = f.variables['pressfc']\n",
    "    for i in range(a2.shape[0]):\n",
    "        for j in range(a2.shape[1]):\n",
    "            a2[i,j,2] = sfc[j,i]      # surface pressure\n",
    "    tmp = f.variables['tmpprs']\n",
    "    for i in range(a2.shape[0]):\n",
    "        for j in range(a2.shape[1]):\n",
    "            a2[i,j,3] = tmp[15,j,i]   # temperature at 400 mb\n",
    "    tsf = f.variables['tmpsfc']\n",
    "    for i in range(a2.shape[0]):\n",
    "        for j in range(a2.shape[1]):\n",
    "            a2[i,j,4] = tsf[j,i]      # surface temperature\n",
    "    ugr = f.variables['ugrdprs']\n",
    "    for i in range(a2.shape[0]):\n",
    "        for j in range(a2.shape[1]):\n",
    "            a2[i,j,5] = ugr[3,j,i]    # u-wind at 900 mb\n",
    "            a2[i,j,6] = ugr[17,j,i]   # u-wind at 300 mb\n",
    "    vgr = f.variables['vgrdprs']\n",
    "    for i in range(a2.shape[0]):\n",
    "        for j in range(a2.shape[1]):\n",
    "            a2[i,j,7] = vgr[3,j,i]    # v-wind at 900 mb\n",
    "            a2[i,j,8] = vgr[17,j,i]   # v-wind at 300 mb\n",
    "    hgt = f.variables['hgtprs']\n",
    "    for i in range(a2.shape[0]):\n",
    "        for j in range(a2.shape[1]):\n",
    "            a2[i,j,9] = hgt[3,j,i]    # geopotential at 850 mb\n",
    "    wgr = f.variables['vvelprs']\n",
    "    for i in range(a2.shape[0]):\n",
    "        for j in range(a2.shape[1]):\n",
    "            a2[i,j,10] = wgr[3,j,i]   # w-wind at 900 mb\n",
    "            a2[i,j,11] = wgr[17,j,i]  # w-wind at 300 mb\n",
    "    new_array = cv2.resize(a2, (IMG_SIZE, IMG_SIZE))\n",
    "    #\n",
    "    # normalize the data\n",
    "    #\n",
    "    #print('Number of channels to normalize is: ',number_channels)\n",
    "    for var in range(number_channels):\n",
    "        maxvalue = new_array[:,:,var].flat[np.abs(new_array[:,:,var]).argmax()]\n",
    "        #print('Normalization factor for channel',var,', is: ',abs(maxvalue))\n",
    "        new_array[:,:,var] = new_array[:,:,var]/abs(maxvalue)\n",
    "    out_array = np.reshape(new_array, (-1, IMG_SIZE, IMG_SIZE, number_channels))\n",
    "    #print('reshape new_array returns: ',out_array.shape)\n",
    "    #input('Enter to continue...')\n",
    "    return out_array"
   ]
  },
  {
   "cell_type": "code",
   "execution_count": 7,
   "id": "3c2815a5",
   "metadata": {},
   "outputs": [
    {
     "name": "stdout",
     "output_type": "stream",
     "text": [
      "/N/project/pfec_climo/qmnguyen/tc_prediction/binary_datasets/ncep_WP_binary_0h/pos\n"
     ]
    },
    {
     "name": "stderr",
     "output_type": "stream",
     "text": [
      "\r",
      "  0%|                                                                                                                                                                 | 0/352 [00:00<?, ?it/s]"
     ]
    },
    {
     "name": "stdout",
     "output_type": "stream",
     "text": [
      "Processing image: /N/project/pfec_climo/qmnguyen/tc_prediction/binary_datasets/ncep_WP_binary_0h//pos/20140905_06_00_18.6_128.5_2014248N19129.nc\n",
      "Input image dimension is:  (1, 30, 30, 12)\n",
      "1/1 [==============================] - 0s 51ms/step\n"
     ]
    },
    {
     "name": "stderr",
     "output_type": "stream",
     "text": [
      "\r",
      "  0%|▍                                                                                                                                                        | 1/352 [00:03<20:24,  3.49s/it]"
     ]
    },
    {
     "name": "stdout",
     "output_type": "stream",
     "text": [
      "TC formation prediction is [[0.5049806]] 1 Yes\n",
      "Processing image: /N/project/pfec_climo/qmnguyen/tc_prediction/binary_datasets/ncep_WP_binary_0h//pos/20100913_06_00_16.6_137.4_2010256N17137.nc\n",
      "Input image dimension is:  (1, 30, 30, 12)\n",
      "1/1 [==============================] - 0s 15ms/step\n"
     ]
    },
    {
     "name": "stderr",
     "output_type": "stream",
     "text": [
      "\r",
      "  1%|▊                                                                                                                                                        | 2/352 [00:06<20:21,  3.49s/it]"
     ]
    },
    {
     "name": "stdout",
     "output_type": "stream",
     "text": [
      "TC formation prediction is [[0.5091719]] 1 Yes\n",
      "Processing image: /N/project/pfec_climo/qmnguyen/tc_prediction/binary_datasets/ncep_WP_binary_0h//pos/20120713_18_00_18.7_143.8_2012196N19144.nc\n",
      "Input image dimension is:  (1, 30, 30, 12)\n",
      "1/1 [==============================] - 0s 16ms/step\n"
     ]
    },
    {
     "name": "stderr",
     "output_type": "stream",
     "text": [
      "\r",
      "  1%|█▎                                                                                                                                                       | 3/352 [00:10<20:29,  3.52s/it]"
     ]
    },
    {
     "name": "stdout",
     "output_type": "stream",
     "text": [
      "TC formation prediction is [[0.5132446]] 1 Yes\n",
      "Processing image: /N/project/pfec_climo/qmnguyen/tc_prediction/binary_datasets/ncep_WP_binary_0h//pos/20101004_12_00_17.5_110.1_2010278N18110.nc\n",
      "Input image dimension is:  (1, 30, 30, 12)\n",
      "1/1 [==============================] - 0s 15ms/step\n"
     ]
    },
    {
     "name": "stderr",
     "output_type": "stream",
     "text": [
      "\r",
      "  1%|█▋                                                                                                                                                       | 4/352 [00:14<20:33,  3.54s/it]"
     ]
    },
    {
     "name": "stdout",
     "output_type": "stream",
     "text": [
      "TC formation prediction is [[0.5019077]] 1 Yes\n",
      "Processing image: /N/project/pfec_climo/qmnguyen/tc_prediction/binary_datasets/ncep_WP_binary_0h//pos/20201109_06_00_12.0_130.9_2020314N12131.nc\n",
      "Input image dimension is:  (1, 30, 30, 12)\n",
      "1/1 [==============================] - 0s 16ms/step\n"
     ]
    },
    {
     "name": "stderr",
     "output_type": "stream",
     "text": [
      "\r",
      "  1%|██▏                                                                                                                                                      | 5/352 [00:17<20:42,  3.58s/it]"
     ]
    },
    {
     "name": "stdout",
     "output_type": "stream",
     "text": [
      "TC formation prediction is [[0.5024623]] 1 Yes\n",
      "Processing image: /N/project/pfec_climo/qmnguyen/tc_prediction/binary_datasets/ncep_WP_binary_0h//pos/20080526_00_00_9.9_140.8_2008147N10141.nc\n",
      "Input image dimension is:  (1, 30, 30, 12)\n",
      "1/1 [==============================] - 0s 16ms/step\n"
     ]
    },
    {
     "name": "stderr",
     "output_type": "stream",
     "text": [
      "\r",
      "  2%|██▌                                                                                                                                                      | 6/352 [00:21<20:30,  3.56s/it]"
     ]
    },
    {
     "name": "stdout",
     "output_type": "stream",
     "text": [
      "TC formation prediction is [[0.50389373]] 1 Yes\n",
      "Processing image: /N/project/pfec_climo/qmnguyen/tc_prediction/binary_datasets/ncep_WP_binary_0h//pos/20131027_18_00_12.7_142.2_2013301N13142.nc\n",
      "Input image dimension is:  (1, 30, 30, 12)\n",
      "1/1 [==============================] - 0s 16ms/step\n"
     ]
    },
    {
     "name": "stderr",
     "output_type": "stream",
     "text": [
      "\r",
      "  2%|███                                                                                                                                                      | 7/352 [00:24<20:24,  3.55s/it]"
     ]
    },
    {
     "name": "stdout",
     "output_type": "stream",
     "text": [
      "TC formation prediction is [[0.50544286]] 1 Yes\n",
      "Processing image: /N/project/pfec_climo/qmnguyen/tc_prediction/binary_datasets/ncep_WP_binary_0h//pos/20100906_06_00_23.9_124.8_2010249N24125.nc\n",
      "Input image dimension is:  (1, 30, 30, 12)\n",
      "1/1 [==============================] - 0s 16ms/step\n"
     ]
    },
    {
     "name": "stderr",
     "output_type": "stream",
     "text": [
      "\r",
      "  2%|███▍                                                                                                                                                     | 8/352 [00:28<20:11,  3.52s/it]"
     ]
    },
    {
     "name": "stdout",
     "output_type": "stream",
     "text": [
      "TC formation prediction is [[0.5035114]] 1 Yes\n",
      "Processing image: /N/project/pfec_climo/qmnguyen/tc_prediction/binary_datasets/ncep_WP_binary_0h//pos/20151013_00_00_12.6_161.4_2015286N13161.nc\n",
      "Input image dimension is:  (1, 30, 30, 12)\n",
      "1/1 [==============================] - 0s 16ms/step\n"
     ]
    },
    {
     "name": "stderr",
     "output_type": "stream",
     "text": [
      "\r",
      "  3%|███▉                                                                                                                                                     | 9/352 [00:31<20:07,  3.52s/it]"
     ]
    },
    {
     "name": "stdout",
     "output_type": "stream",
     "text": [
      "TC formation prediction is [[0.5092538]] 1 Yes\n",
      "Processing image: /N/project/pfec_climo/qmnguyen/tc_prediction/binary_datasets/ncep_WP_binary_0h//pos/20131111_12_00_6.0_129.8_2013316N06130.nc\n",
      "Input image dimension is:  (1, 30, 30, 12)\n",
      "1/1 [==============================] - 0s 16ms/step\n"
     ]
    },
    {
     "name": "stderr",
     "output_type": "stream",
     "text": [
      "\r",
      "  3%|████▎                                                                                                                                                   | 10/352 [00:35<20:11,  3.54s/it]"
     ]
    },
    {
     "name": "stdout",
     "output_type": "stream",
     "text": [
      "TC formation prediction is [[0.49718365]] 0 No\n",
      "Processing image: /N/project/pfec_climo/qmnguyen/tc_prediction/binary_datasets/ncep_WP_binary_0h//pos/20160922_00_00_11.0_144.0_2016266N11144.nc\n",
      "Input image dimension is:  (1, 30, 30, 12)\n",
      "1/1 [==============================] - 0s 16ms/step\n"
     ]
    },
    {
     "name": "stderr",
     "output_type": "stream",
     "text": [
      "\r",
      "  3%|████▊                                                                                                                                                   | 11/352 [00:39<20:26,  3.60s/it]"
     ]
    },
    {
     "name": "stdout",
     "output_type": "stream",
     "text": [
      "TC formation prediction is [[0.50711805]] 1 Yes\n",
      "Processing image: /N/project/pfec_climo/qmnguyen/tc_prediction/binary_datasets/ncep_WP_binary_0h//pos/20130816_12_00_25.8_131.5_2013229N26132.nc\n",
      "Input image dimension is:  (1, 30, 30, 12)\n",
      "1/1 [==============================] - 0s 15ms/step\n"
     ]
    },
    {
     "name": "stderr",
     "output_type": "stream",
     "text": [
      "\r",
      "  3%|█████▏                                                                                                                                                  | 12/352 [00:42<20:19,  3.59s/it]"
     ]
    },
    {
     "name": "stdout",
     "output_type": "stream",
     "text": [
      "TC formation prediction is [[0.51028514]] 1 Yes\n",
      "Processing image: /N/project/pfec_climo/qmnguyen/tc_prediction/binary_datasets/ncep_WP_binary_0h//pos/20120718_12_00_14.9_128.6_2012201N15129.nc\n",
      "Input image dimension is:  (1, 30, 30, 12)\n",
      "1/1 [==============================] - 0s 16ms/step\n"
     ]
    },
    {
     "name": "stderr",
     "output_type": "stream",
     "text": [
      "\r",
      "  4%|█████▌                                                                                                                                                  | 13/352 [00:46<20:05,  3.56s/it]"
     ]
    },
    {
     "name": "stdout",
     "output_type": "stream",
     "text": [
      "TC formation prediction is [[0.50869405]] 1 Yes\n",
      "Processing image: /N/project/pfec_climo/qmnguyen/tc_prediction/binary_datasets/ncep_WP_binary_0h//pos/20160722_18_00_24.7_151.5_2016205N25152.nc\n",
      "Input image dimension is:  (1, 30, 30, 12)\n",
      "1/1 [==============================] - 0s 15ms/step\n"
     ]
    },
    {
     "name": "stderr",
     "output_type": "stream",
     "text": [
      "\r",
      "  4%|██████                                                                                                                                                  | 14/352 [00:49<19:59,  3.55s/it]"
     ]
    },
    {
     "name": "stdout",
     "output_type": "stream",
     "text": [
      "TC formation prediction is [[0.5020163]] 1 Yes\n",
      "Processing image: /N/project/pfec_climo/qmnguyen/tc_prediction/binary_datasets/ncep_WP_binary_0h//pos/20150913_18_00_13.9_151.6_2015257N14152.nc\n",
      "Input image dimension is:  (1, 30, 30, 12)\n",
      "1/1 [==============================] - 0s 17ms/step\n"
     ]
    },
    {
     "name": "stderr",
     "output_type": "stream",
     "text": [
      "\r",
      "  4%|██████▍                                                                                                                                                 | 15/352 [00:53<19:53,  3.54s/it]"
     ]
    },
    {
     "name": "stdout",
     "output_type": "stream",
     "text": [
      "TC formation prediction is [[0.5061499]] 1 Yes\n",
      "Processing image: /N/project/pfec_climo/qmnguyen/tc_prediction/binary_datasets/ncep_WP_binary_0h//pos/20080506_18_00_7.2_134.2_2008128N07134.nc\n",
      "Input image dimension is:  (1, 30, 30, 12)\n",
      "1/1 [==============================] - 0s 16ms/step\n"
     ]
    },
    {
     "name": "stderr",
     "output_type": "stream",
     "text": [
      "\r",
      "  5%|██████▉                                                                                                                                                 | 16/352 [00:56<19:46,  3.53s/it]"
     ]
    },
    {
     "name": "stdout",
     "output_type": "stream",
     "text": [
      "TC formation prediction is [[0.4987657]] 0 No\n",
      "Processing image: /N/project/pfec_climo/qmnguyen/tc_prediction/binary_datasets/ncep_WP_binary_0h//pos/20080927_18_00_8.2_139.4_2008272N08139.nc\n",
      "Input image dimension is:  (1, 30, 30, 12)\n",
      "1/1 [==============================] - 0s 16ms/step\n"
     ]
    },
    {
     "name": "stderr",
     "output_type": "stream",
     "text": [
      "\r",
      "  5%|███████▎                                                                                                                                                | 17/352 [01:00<19:38,  3.52s/it]"
     ]
    },
    {
     "name": "stdout",
     "output_type": "stream",
     "text": [
      "TC formation prediction is [[0.50570434]] 1 Yes\n",
      "Processing image: /N/project/pfec_climo/qmnguyen/tc_prediction/binary_datasets/ncep_WP_binary_0h//pos/20210719_00_00_20.9_113.1_2021200N21113.nc\n",
      "Input image dimension is:  (1, 30, 30, 12)\n",
      "1/1 [==============================] - 0s 16ms/step\n"
     ]
    },
    {
     "name": "stderr",
     "output_type": "stream",
     "text": [
      "\r",
      "  5%|███████▊                                                                                                                                                | 18/352 [01:03<19:36,  3.52s/it]"
     ]
    },
    {
     "name": "stdout",
     "output_type": "stream",
     "text": [
      "TC formation prediction is [[0.50829446]] 1 Yes\n",
      "Processing image: /N/project/pfec_climo/qmnguyen/tc_prediction/binary_datasets/ncep_WP_binary_0h//pos/20151012_00_00_13.9_150.8_2015285N14151.nc\n",
      "Input image dimension is:  (1, 30, 30, 12)\n",
      "1/1 [==============================] - 0s 16ms/step\n"
     ]
    },
    {
     "name": "stderr",
     "output_type": "stream",
     "text": [
      "\r",
      "  5%|████████▏                                                                                                                                               | 19/352 [01:07<19:32,  3.52s/it]"
     ]
    },
    {
     "name": "stdout",
     "output_type": "stream",
     "text": [
      "TC formation prediction is [[0.5010751]] 1 Yes\n",
      "Processing image: /N/project/pfec_climo/qmnguyen/tc_prediction/binary_datasets/ncep_WP_binary_0h//pos/20091120_06_00_6.2_128.9_2009324N06129.nc\n",
      "Input image dimension is:  (1, 30, 30, 12)\n",
      "1/1 [==============================] - 0s 16ms/step\n"
     ]
    },
    {
     "name": "stderr",
     "output_type": "stream",
     "text": [
      "\r",
      "  6%|████████▋                                                                                                                                               | 20/352 [01:10<19:33,  3.53s/it]"
     ]
    },
    {
     "name": "stdout",
     "output_type": "stream",
     "text": [
      "TC formation prediction is [[0.5060963]] 1 Yes\n",
      "Processing image: /N/project/pfec_climo/qmnguyen/tc_prediction/binary_datasets/ncep_WP_binary_0h//pos/20131009_00_00_14.0_149.0_2013282N14149.nc\n",
      "Input image dimension is:  (1, 30, 30, 12)\n",
      "1/1 [==============================] - 0s 16ms/step\n"
     ]
    },
    {
     "name": "stderr",
     "output_type": "stream",
     "text": [
      "\r",
      "  6%|█████████                                                                                                                                               | 21/352 [01:14<19:49,  3.59s/it]"
     ]
    },
    {
     "name": "stdout",
     "output_type": "stream",
     "text": [
      "TC formation prediction is [[0.50918317]] 1 Yes\n",
      "Processing image: /N/project/pfec_climo/qmnguyen/tc_prediction/binary_datasets/ncep_WP_binary_0h//pos/20180721_06_00_20.6_158.8_2018202N21159.nc\n",
      "Input image dimension is:  (1, 30, 30, 12)\n",
      "1/1 [==============================] - 0s 18ms/step\n"
     ]
    },
    {
     "name": "stderr",
     "output_type": "stream",
     "text": [
      "\r",
      "  6%|█████████▌                                                                                                                                              | 22/352 [01:18<19:45,  3.59s/it]"
     ]
    },
    {
     "name": "stdout",
     "output_type": "stream",
     "text": [
      "TC formation prediction is [[0.50256205]] 1 Yes\n",
      "Processing image: /N/project/pfec_climo/qmnguyen/tc_prediction/binary_datasets/ncep_WP_binary_0h//pos/20210906_06_00_14.0_138.3_2021249N14138.nc\n",
      "Input image dimension is:  (1, 30, 30, 12)\n",
      "1/1 [==============================] - 0s 17ms/step\n"
     ]
    },
    {
     "name": "stderr",
     "output_type": "stream",
     "text": [
      "\r",
      "  7%|█████████▉                                                                                                                                              | 23/352 [01:21<19:49,  3.61s/it]"
     ]
    },
    {
     "name": "stdout",
     "output_type": "stream",
     "text": [
      "TC formation prediction is [[0.50615615]] 1 Yes\n",
      "Processing image: /N/project/pfec_climo/qmnguyen/tc_prediction/binary_datasets/ncep_WP_binary_0h//pos/20110808_12_00_17.0_139.4_2011221N17139.nc\n",
      "Input image dimension is:  (1, 30, 30, 12)\n",
      "1/1 [==============================] - 0s 16ms/step\n"
     ]
    },
    {
     "name": "stderr",
     "output_type": "stream",
     "text": [
      "\r",
      "  7%|██████████▎                                                                                                                                             | 24/352 [01:25<19:45,  3.61s/it]"
     ]
    },
    {
     "name": "stdout",
     "output_type": "stream",
     "text": [
      "TC formation prediction is [[0.50471145]] 1 Yes\n",
      "Processing image: /N/project/pfec_climo/qmnguyen/tc_prediction/binary_datasets/ncep_WP_binary_0h//pos/20171008_12_00_16.5_113.4_2017282N17113.nc\n",
      "Input image dimension is:  (1, 30, 30, 12)\n",
      "1/1 [==============================] - 0s 16ms/step\n"
     ]
    },
    {
     "name": "stderr",
     "output_type": "stream",
     "text": [
      "\r",
      "  7%|██████████▊                                                                                                                                             | 25/352 [01:28<19:34,  3.59s/it]"
     ]
    },
    {
     "name": "stdout",
     "output_type": "stream",
     "text": [
      "TC formation prediction is [[0.50856245]] 1 Yes\n",
      "Processing image: /N/project/pfec_climo/qmnguyen/tc_prediction/binary_datasets/ncep_WP_binary_0h//pos/20210512_18_00_7.1_129.8_2021133N07130.nc\n",
      "Input image dimension is:  (1, 30, 30, 12)\n",
      "1/1 [==============================] - 0s 16ms/step\n"
     ]
    },
    {
     "name": "stderr",
     "output_type": "stream",
     "text": [
      "\r",
      "  7%|███████████▏                                                                                                                                            | 26/352 [01:32<19:20,  3.56s/it]"
     ]
    },
    {
     "name": "stdout",
     "output_type": "stream",
     "text": [
      "TC formation prediction is [[0.49964982]] 0 No\n",
      "Processing image: /N/project/pfec_climo/qmnguyen/tc_prediction/binary_datasets/ncep_WP_binary_0h//pos/20200809_12_00_16.8_118.3_2020223N17118.nc\n",
      "Input image dimension is:  (1, 30, 30, 12)\n",
      "1/1 [==============================] - 0s 15ms/step\n"
     ]
    },
    {
     "name": "stderr",
     "output_type": "stream",
     "text": [
      "\r",
      "  8%|███████████▋                                                                                                                                            | 27/352 [01:35<19:15,  3.55s/it]"
     ]
    },
    {
     "name": "stdout",
     "output_type": "stream",
     "text": [
      "TC formation prediction is [[0.499396]] 0 No\n",
      "Processing image: /N/project/pfec_climo/qmnguyen/tc_prediction/binary_datasets/ncep_WP_binary_0h//pos/20190830_00_00_18.2_126.3_2019242N18126.nc\n",
      "Input image dimension is:  (1, 30, 30, 12)\n",
      "1/1 [==============================] - 0s 16ms/step\n"
     ]
    },
    {
     "name": "stderr",
     "output_type": "stream",
     "text": [
      "\r",
      "  8%|████████████                                                                                                                                            | 28/352 [01:39<19:10,  3.55s/it]"
     ]
    },
    {
     "name": "stdout",
     "output_type": "stream",
     "text": [
      "TC formation prediction is [[0.5129694]] 1 Yes\n",
      "Processing image: /N/project/pfec_climo/qmnguyen/tc_prediction/binary_datasets/ncep_WP_binary_0h//pos/20080923_12_00_11.7_139.6_2008268N12140.nc\n",
      "Input image dimension is:  (1, 30, 30, 12)\n",
      "1/1 [==============================] - 0s 16ms/step\n"
     ]
    },
    {
     "name": "stderr",
     "output_type": "stream",
     "text": [
      "\r",
      "  8%|████████████▌                                                                                                                                           | 29/352 [01:43<19:07,  3.55s/it]"
     ]
    },
    {
     "name": "stdout",
     "output_type": "stream",
     "text": [
      "TC formation prediction is [[0.5101017]] 1 Yes\n",
      "Processing image: /N/project/pfec_climo/qmnguyen/tc_prediction/binary_datasets/ncep_WP_binary_0h//pos/20081017_18_00_20.3_152.2_2008292N20152.nc\n",
      "Input image dimension is:  (1, 30, 30, 12)\n",
      "1/1 [==============================] - 0s 16ms/step\n"
     ]
    },
    {
     "name": "stderr",
     "output_type": "stream",
     "text": [
      "\r",
      "  9%|████████████▉                                                                                                                                           | 30/352 [01:46<19:00,  3.54s/it]"
     ]
    },
    {
     "name": "stdout",
     "output_type": "stream",
     "text": [
      "TC formation prediction is [[0.5051969]] 1 Yes\n",
      "Processing image: /N/project/pfec_climo/qmnguyen/tc_prediction/binary_datasets/ncep_WP_binary_0h//pos/20130831_00_00_25.6_121.5_2013243N26122.nc\n",
      "Input image dimension is:  (1, 30, 30, 12)\n",
      "1/1 [==============================] - 0s 16ms/step\n"
     ]
    },
    {
     "name": "stderr",
     "output_type": "stream",
     "text": [
      "\r",
      "  9%|█████████████▍                                                                                                                                          | 31/352 [01:50<18:55,  3.54s/it]"
     ]
    },
    {
     "name": "stdout",
     "output_type": "stream",
     "text": [
      "TC formation prediction is [[0.50279623]] 1 Yes\n",
      "Processing image: /N/project/pfec_climo/qmnguyen/tc_prediction/binary_datasets/ncep_WP_binary_0h//pos/20081012_00_00_16.8_109.3_2008286N17109.nc\n",
      "Input image dimension is:  (1, 30, 30, 12)\n",
      "1/1 [==============================] - 0s 16ms/step\n"
     ]
    },
    {
     "name": "stderr",
     "output_type": "stream",
     "text": [
      "\r",
      "  9%|█████████████▊                                                                                                                                          | 32/352 [01:53<18:45,  3.52s/it]"
     ]
    },
    {
     "name": "stdout",
     "output_type": "stream",
     "text": [
      "TC formation prediction is [[0.5093295]] 1 Yes\n",
      "Processing image: /N/project/pfec_climo/qmnguyen/tc_prediction/binary_datasets/ncep_WP_binary_0h//pos/20160830_18_00_20.8_123.0_2016244N21123.nc\n",
      "Input image dimension is:  (1, 30, 30, 12)\n",
      "1/1 [==============================] - 0s 16ms/step\n"
     ]
    },
    {
     "name": "stderr",
     "output_type": "stream",
     "text": [
      "\r",
      "  9%|██████████████▎                                                                                                                                         | 33/352 [01:57<18:51,  3.55s/it]"
     ]
    },
    {
     "name": "stdout",
     "output_type": "stream",
     "text": [
      "TC formation prediction is [[0.50017035]] 1 Yes\n",
      "Processing image: /N/project/pfec_climo/qmnguyen/tc_prediction/binary_datasets/ncep_WP_binary_0h//pos/20090622_00_00_10.0_132.3_2009173N10132.nc\n",
      "Input image dimension is:  (1, 30, 30, 12)\n",
      "1/1 [==============================] - 0s 16ms/step\n"
     ]
    },
    {
     "name": "stderr",
     "output_type": "stream",
     "text": [
      "\r",
      " 10%|██████████████▋                                                                                                                                         | 34/352 [02:00<18:56,  3.57s/it]"
     ]
    },
    {
     "name": "stdout",
     "output_type": "stream",
     "text": [
      "TC formation prediction is [[0.50733477]] 1 Yes\n",
      "Processing image: /N/project/pfec_climo/qmnguyen/tc_prediction/binary_datasets/ncep_WP_binary_0h//pos/20150506_12_00_4.1_157.9_2015127N04158.nc\n",
      "Input image dimension is:  (1, 30, 30, 12)\n",
      "1/1 [==============================] - 0s 16ms/step\n"
     ]
    },
    {
     "name": "stderr",
     "output_type": "stream",
     "text": [
      "\r",
      " 10%|███████████████                                                                                                                                         | 35/352 [02:04<18:45,  3.55s/it]"
     ]
    },
    {
     "name": "stdout",
     "output_type": "stream",
     "text": [
      "TC formation prediction is [[0.50404304]] 1 Yes\n",
      "Processing image: /N/project/pfec_climo/qmnguyen/tc_prediction/binary_datasets/ncep_WP_binary_0h//pos/20160818_12_00_22.3_152.8_2016232N22153.nc\n",
      "Input image dimension is:  (1, 30, 30, 12)\n",
      "1/1 [==============================] - 0s 16ms/step\n"
     ]
    },
    {
     "name": "stderr",
     "output_type": "stream",
     "text": [
      "\r",
      " 10%|███████████████▌                                                                                                                                        | 36/352 [02:07<18:43,  3.56s/it]"
     ]
    },
    {
     "name": "stdout",
     "output_type": "stream",
     "text": [
      "TC formation prediction is [[0.50572574]] 1 Yes\n",
      "Processing image: /N/project/pfec_climo/qmnguyen/tc_prediction/binary_datasets/ncep_WP_binary_0h//pos/20160702_12_00_8.2_145.2_2016185N08145.nc\n",
      "Input image dimension is:  (1, 30, 30, 12)\n",
      "1/1 [==============================] - 0s 16ms/step\n"
     ]
    },
    {
     "name": "stderr",
     "output_type": "stream",
     "text": [
      "\r",
      " 11%|███████████████▉                                                                                                                                        | 37/352 [02:11<18:42,  3.56s/it]"
     ]
    },
    {
     "name": "stdout",
     "output_type": "stream",
     "text": [
      "TC formation prediction is [[0.5072001]] 1 Yes\n",
      "Processing image: /N/project/pfec_climo/qmnguyen/tc_prediction/binary_datasets/ncep_WP_binary_0h//pos/20171011_00_00_15.5_134.0_2017284N15134.nc\n",
      "Input image dimension is:  (1, 30, 30, 12)\n",
      "1/1 [==============================] - 0s 15ms/step\n"
     ]
    },
    {
     "name": "stderr",
     "output_type": "stream",
     "text": [
      "\r",
      " 11%|████████████████▍                                                                                                                                       | 38/352 [02:15<18:44,  3.58s/it]"
     ]
    },
    {
     "name": "stdout",
     "output_type": "stream",
     "text": [
      "TC formation prediction is [[0.5032141]] 1 Yes\n",
      "Processing image: /N/project/pfec_climo/qmnguyen/tc_prediction/binary_datasets/ncep_WP_binary_0h//pos/20150801_06_00_28.7_145.7_2015213N29146.nc\n",
      "Input image dimension is:  (1, 30, 30, 12)\n",
      "1/1 [==============================] - 0s 16ms/step\n"
     ]
    },
    {
     "name": "stderr",
     "output_type": "stream",
     "text": [
      "\r",
      " 11%|████████████████▊                                                                                                                                       | 39/352 [02:18<18:41,  3.58s/it]"
     ]
    },
    {
     "name": "stdout",
     "output_type": "stream",
     "text": [
      "TC formation prediction is [[0.5027148]] 1 Yes\n",
      "Processing image: /N/project/pfec_climo/qmnguyen/tc_prediction/binary_datasets/ncep_WP_binary_0h//pos/20201024_00_00_12.5_131.2_2020298N13131.nc\n",
      "Input image dimension is:  (1, 30, 30, 12)\n",
      "1/1 [==============================] - 0s 16ms/step\n"
     ]
    },
    {
     "name": "stderr",
     "output_type": "stream",
     "text": [
      "\r",
      " 11%|█████████████████▎                                                                                                                                      | 40/352 [02:22<18:33,  3.57s/it]"
     ]
    },
    {
     "name": "stdout",
     "output_type": "stream",
     "text": [
      "TC formation prediction is [[0.51408666]] 1 Yes\n",
      "Processing image: /N/project/pfec_climo/qmnguyen/tc_prediction/binary_datasets/ncep_WP_binary_0h//pos/20191028_12_00_10.6_118.2_2019302N11118.nc\n",
      "Input image dimension is:  (1, 30, 30, 12)\n",
      "1/1 [==============================] - 0s 16ms/step\n"
     ]
    },
    {
     "name": "stderr",
     "output_type": "stream",
     "text": [
      "\r",
      " 12%|█████████████████▋                                                                                                                                      | 41/352 [02:25<18:18,  3.53s/it]"
     ]
    },
    {
     "name": "stdout",
     "output_type": "stream",
     "text": [
      "TC formation prediction is [[0.49815327]] 0 No\n",
      "Processing image: /N/project/pfec_climo/qmnguyen/tc_prediction/binary_datasets/ncep_WP_binary_0h//pos/20181116_18_00_9.9_113.1_2018321N10113.nc\n",
      "Input image dimension is:  (1, 30, 30, 12)\n",
      "1/1 [==============================] - 0s 16ms/step\n"
     ]
    },
    {
     "name": "stderr",
     "output_type": "stream",
     "text": [
      "\r",
      " 12%|██████████████████▏                                                                                                                                     | 42/352 [02:29<18:14,  3.53s/it]"
     ]
    },
    {
     "name": "stdout",
     "output_type": "stream",
     "text": [
      "TC formation prediction is [[0.50309557]] 1 Yes\n",
      "Processing image: /N/project/pfec_climo/qmnguyen/tc_prediction/binary_datasets/ncep_WP_binary_0h//pos/20180814_00_00_23.2_128.2_2018226N23128.nc\n",
      "Input image dimension is:  (1, 30, 30, 12)\n",
      "1/1 [==============================] - 0s 16ms/step\n"
     ]
    },
    {
     "name": "stderr",
     "output_type": "stream",
     "text": [
      "\r",
      " 12%|██████████████████▌                                                                                                                                     | 43/352 [02:32<18:12,  3.54s/it]"
     ]
    },
    {
     "name": "stdout",
     "output_type": "stream",
     "text": [
      "TC formation prediction is [[0.5075868]] 1 Yes\n",
      "Processing image: /N/project/pfec_climo/qmnguyen/tc_prediction/binary_datasets/ncep_WP_binary_0h//pos/20120923_06_00_15.6_140.5_2012267N16141.nc\n",
      "Input image dimension is:  (1, 30, 30, 12)\n",
      "1/1 [==============================] - 0s 15ms/step\n"
     ]
    },
    {
     "name": "stderr",
     "output_type": "stream",
     "text": [
      "\r",
      " 12%|███████████████████                                                                                                                                     | 44/352 [02:36<18:12,  3.55s/it]"
     ]
    },
    {
     "name": "stdout",
     "output_type": "stream",
     "text": [
      "TC formation prediction is [[0.504121]] 1 Yes\n",
      "Processing image: /N/project/pfec_climo/qmnguyen/tc_prediction/binary_datasets/ncep_WP_binary_0h//pos/20110713_12_00_15.3_133.6_2011195N15134.nc\n",
      "Input image dimension is:  (1, 30, 30, 12)\n",
      "1/1 [==============================] - 0s 16ms/step\n"
     ]
    },
    {
     "name": "stderr",
     "output_type": "stream",
     "text": [
      "\r",
      " 13%|███████████████████▍                                                                                                                                    | 45/352 [02:39<18:10,  3.55s/it]"
     ]
    },
    {
     "name": "stdout",
     "output_type": "stream",
     "text": [
      "TC formation prediction is [[0.51497203]] 1 Yes\n",
      "Processing image: /N/project/pfec_climo/qmnguyen/tc_prediction/binary_datasets/ncep_WP_binary_0h//pos/20201108_12_00_12.9_117.9_2020314N13118.nc\n",
      "Input image dimension is:  (1, 30, 30, 12)\n",
      "1/1 [==============================] - 0s 15ms/step\n"
     ]
    },
    {
     "name": "stderr",
     "output_type": "stream",
     "text": [
      "\r",
      " 13%|███████████████████▊                                                                                                                                    | 46/352 [02:43<18:08,  3.56s/it]"
     ]
    },
    {
     "name": "stdout",
     "output_type": "stream",
     "text": [
      "TC formation prediction is [[0.50572276]] 1 Yes\n",
      "Processing image: /N/project/pfec_climo/qmnguyen/tc_prediction/binary_datasets/ncep_WP_binary_0h//pos/20180806_00_00_18.2_134.1_2018218N18134.nc\n",
      "Input image dimension is:  (1, 30, 30, 12)\n",
      "1/1 [==============================] - 0s 16ms/step\n"
     ]
    },
    {
     "name": "stderr",
     "output_type": "stream",
     "text": [
      "\r",
      " 13%|████████████████████▎                                                                                                                                   | 47/352 [02:47<18:02,  3.55s/it]"
     ]
    },
    {
     "name": "stdout",
     "output_type": "stream",
     "text": [
      "TC formation prediction is [[0.50734586]] 1 Yes\n",
      "Processing image: /N/project/pfec_climo/qmnguyen/tc_prediction/binary_datasets/ncep_WP_binary_0h//pos/20200915_18_00_12.8_118.4_2020260N13118.nc\n",
      "Input image dimension is:  (1, 30, 30, 12)\n",
      "1/1 [==============================] - 0s 16ms/step\n"
     ]
    },
    {
     "name": "stderr",
     "output_type": "stream",
     "text": [
      "\r",
      " 14%|████████████████████▋                                                                                                                                   | 48/352 [02:50<17:52,  3.53s/it]"
     ]
    },
    {
     "name": "stdout",
     "output_type": "stream",
     "text": [
      "TC formation prediction is [[0.5075666]] 1 Yes\n",
      "Processing image: /N/project/pfec_climo/qmnguyen/tc_prediction/binary_datasets/ncep_WP_binary_0h//pos/20110923_18_00_16.2_110.6_2011267N16111.nc\n",
      "Input image dimension is:  (1, 30, 30, 12)\n",
      "1/1 [==============================] - 0s 16ms/step\n"
     ]
    },
    {
     "name": "stderr",
     "output_type": "stream",
     "text": [
      "\r",
      " 14%|█████████████████████▏                                                                                                                                  | 49/352 [02:53<17:40,  3.50s/it]"
     ]
    },
    {
     "name": "stdout",
     "output_type": "stream",
     "text": [
      "TC formation prediction is [[0.5024599]] 1 Yes\n",
      "Processing image: /N/project/pfec_climo/qmnguyen/tc_prediction/binary_datasets/ncep_WP_binary_0h//pos/20151001_06_00_16.9_166.9_2015274N17167.nc\n",
      "Input image dimension is:  (1, 30, 30, 12)\n",
      "1/1 [==============================] - 0s 16ms/step\n"
     ]
    },
    {
     "name": "stderr",
     "output_type": "stream",
     "text": [
      "\r",
      " 14%|█████████████████████▌                                                                                                                                  | 50/352 [02:57<17:35,  3.49s/it]"
     ]
    },
    {
     "name": "stdout",
     "output_type": "stream",
     "text": [
      "TC formation prediction is [[0.49717057]] 0 No\n",
      "Processing image: /N/project/pfec_climo/qmnguyen/tc_prediction/binary_datasets/ncep_WP_binary_0h//pos/20160924_18_00_14.9_164.6_2016269N15165.nc\n",
      "Input image dimension is:  (1, 30, 30, 12)\n",
      "1/1 [==============================] - 0s 16ms/step\n"
     ]
    },
    {
     "name": "stderr",
     "output_type": "stream",
     "text": [
      "\r",
      " 14%|██████████████████████                                                                                                                                  | 51/352 [03:00<17:36,  3.51s/it]"
     ]
    },
    {
     "name": "stdout",
     "output_type": "stream",
     "text": [
      "TC formation prediction is [[0.50894016]] 1 Yes\n",
      "Processing image: /N/project/pfec_climo/qmnguyen/tc_prediction/binary_datasets/ncep_WP_binary_0h//pos/20130728_18_00_12.7_121.7_2013210N13122.nc\n",
      "Input image dimension is:  (1, 30, 30, 12)\n",
      "1/1 [==============================] - 0s 16ms/step\n"
     ]
    },
    {
     "name": "stderr",
     "output_type": "stream",
     "text": [
      "\r",
      " 15%|██████████████████████▍                                                                                                                                 | 52/352 [03:04<17:32,  3.51s/it]"
     ]
    },
    {
     "name": "stdout",
     "output_type": "stream",
     "text": [
      "TC formation prediction is [[0.50852406]] 1 Yes\n",
      "Processing image: /N/project/pfec_climo/qmnguyen/tc_prediction/binary_datasets/ncep_WP_binary_0h//pos/20160815_06_00_21.8_117.0_2016228N22117.nc\n",
      "Input image dimension is:  (1, 30, 30, 12)\n",
      "1/1 [==============================] - 0s 16ms/step\n"
     ]
    },
    {
     "name": "stderr",
     "output_type": "stream",
     "text": [
      "\r",
      " 15%|██████████████████████▉                                                                                                                                 | 53/352 [03:08<17:33,  3.52s/it]"
     ]
    },
    {
     "name": "stdout",
     "output_type": "stream",
     "text": [
      "TC formation prediction is [[0.5076284]] 1 Yes\n",
      "Processing image: /N/project/pfec_climo/qmnguyen/tc_prediction/binary_datasets/ncep_WP_binary_0h//pos/20110923_00_00_12.8_139.4_2011266N13139.nc\n",
      "Input image dimension is:  (1, 30, 30, 12)\n",
      "1/1 [==============================] - 0s 17ms/step\n"
     ]
    },
    {
     "name": "stderr",
     "output_type": "stream",
     "text": [
      "\r",
      " 15%|███████████████████████▎                                                                                                                                | 54/352 [03:11<17:29,  3.52s/it]"
     ]
    },
    {
     "name": "stdout",
     "output_type": "stream",
     "text": [
      "TC formation prediction is [[0.5066661]] 1 Yes\n",
      "Processing image: /N/project/pfec_climo/qmnguyen/tc_prediction/binary_datasets/ncep_WP_binary_0h//pos/20170720_00_00_22.9_177.9_2017201N23178.nc\n",
      "Input image dimension is:  (1, 30, 30, 12)\n",
      "1/1 [==============================] - 0s 16ms/step\n"
     ]
    },
    {
     "name": "stderr",
     "output_type": "stream",
     "text": [
      "\r",
      " 16%|███████████████████████▊                                                                                                                                | 55/352 [03:15<17:25,  3.52s/it]"
     ]
    },
    {
     "name": "stdout",
     "output_type": "stream",
     "text": [
      "TC formation prediction is [[0.50135624]] 1 Yes\n",
      "Processing image: /N/project/pfec_climo/qmnguyen/tc_prediction/binary_datasets/ncep_WP_binary_0h//pos/20170714_00_00_16.0_114.1_2017195N16114.nc\n",
      "Input image dimension is:  (1, 30, 30, 12)\n",
      "1/1 [==============================] - 0s 16ms/step\n"
     ]
    },
    {
     "name": "stderr",
     "output_type": "stream",
     "text": [
      "\r",
      " 16%|████████████████████████▏                                                                                                                               | 56/352 [03:18<17:25,  3.53s/it]"
     ]
    },
    {
     "name": "stdout",
     "output_type": "stream",
     "text": [
      "TC formation prediction is [[0.5122425]] 1 Yes\n",
      "Processing image: /N/project/pfec_climo/qmnguyen/tc_prediction/binary_datasets/ncep_WP_binary_0h//pos/20100717_00_00_15.3_123.3_2010198N15123.nc\n",
      "Input image dimension is:  (1, 30, 30, 12)\n",
      "1/1 [==============================] - 0s 16ms/step\n"
     ]
    },
    {
     "name": "stderr",
     "output_type": "stream",
     "text": [
      "\r",
      " 16%|████████████████████████▌                                                                                                                               | 57/352 [03:22<17:24,  3.54s/it]"
     ]
    },
    {
     "name": "stdout",
     "output_type": "stream",
     "text": [
      "TC formation prediction is [[0.5123067]] 1 Yes\n",
      "Processing image: /N/project/pfec_climo/qmnguyen/tc_prediction/binary_datasets/ncep_WP_binary_0h//pos/20080912_18_00_28.1_147.5_2008257N28148.nc\n",
      "Input image dimension is:  (1, 30, 30, 12)\n",
      "1/1 [==============================] - 0s 16ms/step\n"
     ]
    },
    {
     "name": "stderr",
     "output_type": "stream",
     "text": [
      "\r",
      " 16%|█████████████████████████                                                                                                                               | 58/352 [03:25<17:23,  3.55s/it]"
     ]
    },
    {
     "name": "stdout",
     "output_type": "stream",
     "text": [
      "TC formation prediction is [[0.5092542]] 1 Yes\n",
      "Processing image: /N/project/pfec_climo/qmnguyen/tc_prediction/binary_datasets/ncep_WP_binary_0h//pos/20180816_12_00_11.3_160.3_2018229N11160.nc\n",
      "Input image dimension is:  (1, 30, 30, 12)\n",
      "1/1 [==============================] - 0s 16ms/step\n"
     ]
    },
    {
     "name": "stderr",
     "output_type": "stream",
     "text": [
      "\r",
      " 17%|█████████████████████████▍                                                                                                                              | 59/352 [03:29<17:19,  3.55s/it]"
     ]
    },
    {
     "name": "stdout",
     "output_type": "stream",
     "text": [
      "TC formation prediction is [[0.5062231]] 1 Yes\n",
      "Processing image: /N/project/pfec_climo/qmnguyen/tc_prediction/binary_datasets/ncep_WP_binary_0h//pos/20080907_12_00_15.8_127.6_2008252N16128.nc\n",
      "Input image dimension is:  (1, 30, 30, 12)\n",
      "1/1 [==============================] - 0s 16ms/step\n"
     ]
    },
    {
     "name": "stderr",
     "output_type": "stream",
     "text": [
      "\r",
      " 17%|█████████████████████████▉                                                                                                                              | 60/352 [03:33<17:58,  3.69s/it]"
     ]
    },
    {
     "name": "stdout",
     "output_type": "stream",
     "text": [
      "TC formation prediction is [[0.5071635]] 1 Yes\n",
      "Processing image: /N/project/pfec_climo/qmnguyen/tc_prediction/binary_datasets/ncep_WP_binary_0h//pos/20110620_18_00_11.2_133.4_2011172N11133.nc\n",
      "Input image dimension is:  (1, 30, 30, 12)\n",
      "1/1 [==============================] - 0s 16ms/step\n"
     ]
    },
    {
     "name": "stderr",
     "output_type": "stream",
     "text": [
      "\r",
      " 17%|██████████████████████████▎                                                                                                                             | 61/352 [03:36<17:39,  3.64s/it]"
     ]
    },
    {
     "name": "stdout",
     "output_type": "stream",
     "text": [
      "TC formation prediction is [[0.5035317]] 1 Yes\n",
      "Processing image: /N/project/pfec_climo/qmnguyen/tc_prediction/binary_datasets/ncep_WP_binary_0h//pos/20130816_00_00_23.1_123.6_2013228N23124.nc\n",
      "Input image dimension is:  (1, 30, 30, 12)\n",
      "1/1 [==============================] - 0s 17ms/step\n"
     ]
    },
    {
     "name": "stderr",
     "output_type": "stream",
     "text": [
      "\r",
      " 18%|██████████████████████████▊                                                                                                                             | 62/352 [03:40<17:26,  3.61s/it]"
     ]
    },
    {
     "name": "stdout",
     "output_type": "stream",
     "text": [
      "TC formation prediction is [[0.51106054]] 1 Yes\n",
      "Processing image: /N/project/pfec_climo/qmnguyen/tc_prediction/binary_datasets/ncep_WP_binary_0h//pos/20140716_06_00_10.0_136.8_2014197N10137.nc\n",
      "Input image dimension is:  (1, 30, 30, 12)\n",
      "1/1 [==============================] - 0s 16ms/step\n"
     ]
    },
    {
     "name": "stderr",
     "output_type": "stream",
     "text": [
      "\r",
      " 18%|███████████████████████████▏                                                                                                                            | 63/352 [03:44<17:26,  3.62s/it]"
     ]
    },
    {
     "name": "stdout",
     "output_type": "stream",
     "text": [
      "TC formation prediction is [[0.5083201]] 1 Yes\n",
      "Processing image: /N/project/pfec_climo/qmnguyen/tc_prediction/binary_datasets/ncep_WP_binary_0h//pos/20090806_18_00_19.2_140.3_2009219N19140.nc\n",
      "Input image dimension is:  (1, 30, 30, 12)\n",
      "1/1 [==============================] - 0s 16ms/step\n"
     ]
    },
    {
     "name": "stderr",
     "output_type": "stream",
     "text": [
      "\r",
      " 18%|███████████████████████████▋                                                                                                                            | 64/352 [03:47<17:14,  3.59s/it]"
     ]
    },
    {
     "name": "stdout",
     "output_type": "stream",
     "text": [
      "TC formation prediction is [[0.5084476]] 1 Yes\n",
      "Processing image: /N/project/pfec_climo/qmnguyen/tc_prediction/binary_datasets/ncep_WP_binary_0h//pos/20161123_06_00_9.3_129.9_2016328N09130.nc\n",
      "Input image dimension is:  (1, 30, 30, 12)\n",
      "1/1 [==============================] - 0s 16ms/step\n"
     ]
    },
    {
     "name": "stderr",
     "output_type": "stream",
     "text": [
      "\r",
      " 18%|████████████████████████████                                                                                                                            | 65/352 [03:51<17:01,  3.56s/it]"
     ]
    },
    {
     "name": "stdout",
     "output_type": "stream",
     "text": [
      "TC formation prediction is [[0.5010105]] 1 Yes\n",
      "Processing image: /N/project/pfec_climo/qmnguyen/tc_prediction/binary_datasets/ncep_WP_binary_0h//pos/20171103_00_00_7.2_102.4_2017307N07102.nc\n",
      "Input image dimension is:  (1, 30, 30, 12)\n",
      "1/1 [==============================] - 0s 16ms/step\n"
     ]
    },
    {
     "name": "stderr",
     "output_type": "stream",
     "text": [
      "\r",
      " 19%|████████████████████████████▌                                                                                                                           | 66/352 [03:54<16:55,  3.55s/it]"
     ]
    },
    {
     "name": "stdout",
     "output_type": "stream",
     "text": [
      "TC formation prediction is [[0.5116146]] 1 Yes\n",
      "Processing image: /N/project/pfec_climo/qmnguyen/tc_prediction/binary_datasets/ncep_WP_binary_0h//pos/20120910_00_00_8.6_134.8_2012254N09135.nc\n",
      "Input image dimension is:  (1, 30, 30, 12)\n",
      "1/1 [==============================] - 0s 16ms/step\n"
     ]
    },
    {
     "name": "stderr",
     "output_type": "stream",
     "text": [
      "\r",
      " 19%|████████████████████████████▉                                                                                                                           | 67/352 [03:58<16:52,  3.55s/it]"
     ]
    },
    {
     "name": "stdout",
     "output_type": "stream",
     "text": [
      "TC formation prediction is [[0.50551784]] 1 Yes\n",
      "Processing image: /N/project/pfec_climo/qmnguyen/tc_prediction/binary_datasets/ncep_WP_binary_0h//pos/20160716_18_00_18.3_130.9_2016199N18131.nc\n",
      "Input image dimension is:  (1, 30, 30, 12)\n",
      "1/1 [==============================] - 0s 16ms/step\n"
     ]
    },
    {
     "name": "stderr",
     "output_type": "stream",
     "text": [
      "\r",
      " 19%|█████████████████████████████▎                                                                                                                          | 68/352 [04:01<16:49,  3.55s/it]"
     ]
    },
    {
     "name": "stdout",
     "output_type": "stream",
     "text": [
      "TC formation prediction is [[0.505765]] 1 Yes\n",
      "Processing image: /N/project/pfec_climo/qmnguyen/tc_prediction/binary_datasets/ncep_WP_binary_0h//pos/20131017_00_00_13.8_152.6_2013290N14153.nc\n",
      "Input image dimension is:  (1, 30, 30, 12)\n",
      "1/1 [==============================] - 0s 16ms/step\n"
     ]
    },
    {
     "name": "stderr",
     "output_type": "stream",
     "text": [
      "\r",
      " 20%|█████████████████████████████▊                                                                                                                          | 69/352 [04:05<16:55,  3.59s/it]"
     ]
    },
    {
     "name": "stdout",
     "output_type": "stream",
     "text": [
      "TC formation prediction is [[0.50427145]] 1 Yes\n",
      "Processing image: /N/project/pfec_climo/qmnguyen/tc_prediction/binary_datasets/ncep_WP_binary_0h//pos/20080927_18_00_14.6_112.9_2008272N15113.nc\n",
      "Input image dimension is:  (1, 30, 30, 12)\n",
      "1/1 [==============================] - 0s 16ms/step\n"
     ]
    },
    {
     "name": "stderr",
     "output_type": "stream",
     "text": [
      "\r",
      " 20%|██████████████████████████████▏                                                                                                                         | 70/352 [04:08<16:54,  3.60s/it]"
     ]
    },
    {
     "name": "stdout",
     "output_type": "stream",
     "text": [
      "TC formation prediction is [[0.50990385]] 1 Yes\n",
      "Processing image: /N/project/pfec_climo/qmnguyen/tc_prediction/binary_datasets/ncep_WP_binary_0h//pos/20121021_12_00_6.4_135.0_2012296N06135.nc\n",
      "Input image dimension is:  (1, 30, 30, 12)\n",
      "1/1 [==============================] - 0s 17ms/step\n"
     ]
    },
    {
     "name": "stderr",
     "output_type": "stream",
     "text": [
      "\r",
      " 20%|██████████████████████████████▋                                                                                                                         | 71/352 [04:12<17:01,  3.63s/it]"
     ]
    },
    {
     "name": "stdout",
     "output_type": "stream",
     "text": [
      "TC formation prediction is [[0.49998248]] 0 No\n",
      "Processing image: /N/project/pfec_climo/qmnguyen/tc_prediction/binary_datasets/ncep_WP_binary_0h//pos/20091121_06_00_5.6_147.9_2009325N06148.nc\n",
      "Input image dimension is:  (1, 30, 30, 12)\n",
      "1/1 [==============================] - 0s 16ms/step\n"
     ]
    },
    {
     "name": "stderr",
     "output_type": "stream",
     "text": [
      "\r",
      " 20%|███████████████████████████████                                                                                                                         | 72/352 [04:16<16:44,  3.59s/it]"
     ]
    },
    {
     "name": "stdout",
     "output_type": "stream",
     "text": [
      "TC formation prediction is [[0.5035573]] 1 Yes\n",
      "Processing image: /N/project/pfec_climo/qmnguyen/tc_prediction/binary_datasets/ncep_WP_binary_0h//pos/20100820_18_00_17.1_118.6_2010233N17119.nc\n",
      "Input image dimension is:  (1, 30, 30, 12)\n",
      "1/1 [==============================] - 0s 16ms/step\n"
     ]
    },
    {
     "name": "stderr",
     "output_type": "stream",
     "text": [
      "\r",
      " 21%|███████████████████████████████▌                                                                                                                        | 73/352 [04:19<16:33,  3.56s/it]"
     ]
    },
    {
     "name": "stdout",
     "output_type": "stream",
     "text": [
      "TC formation prediction is [[0.5145065]] 1 Yes\n",
      "Processing image: /N/project/pfec_climo/qmnguyen/tc_prediction/binary_datasets/ncep_WP_binary_0h//pos/20100831_06_00_11.8_145.7_2010243N12146.nc\n",
      "Input image dimension is:  (1, 30, 30, 12)\n",
      "1/1 [==============================] - 0s 16ms/step\n"
     ]
    },
    {
     "name": "stderr",
     "output_type": "stream",
     "text": [
      "\r",
      " 21%|███████████████████████████████▉                                                                                                                        | 74/352 [04:23<16:28,  3.56s/it]"
     ]
    },
    {
     "name": "stdout",
     "output_type": "stream",
     "text": [
      "TC formation prediction is [[0.50914025]] 1 Yes\n",
      "Processing image: /N/project/pfec_climo/qmnguyen/tc_prediction/binary_datasets/ncep_WP_binary_0h//pos/20080811_00_00_23.7_122.2_2008224N24122.nc\n",
      "Input image dimension is:  (1, 30, 30, 12)\n",
      "1/1 [==============================] - 0s 16ms/step\n"
     ]
    },
    {
     "name": "stderr",
     "output_type": "stream",
     "text": [
      "\r",
      " 21%|████████████████████████████████▍                                                                                                                       | 75/352 [04:26<16:24,  3.56s/it]"
     ]
    },
    {
     "name": "stdout",
     "output_type": "stream",
     "text": [
      "TC formation prediction is [[0.5064695]] 1 Yes\n",
      "Processing image: /N/project/pfec_climo/qmnguyen/tc_prediction/binary_datasets/ncep_WP_binary_0h//pos/20110913_12_00_19.4_153.7_2011257N19154.nc\n",
      "Input image dimension is:  (1, 30, 30, 12)\n",
      "1/1 [==============================] - 0s 16ms/step\n"
     ]
    },
    {
     "name": "stderr",
     "output_type": "stream",
     "text": [
      "\r",
      " 22%|████████████████████████████████▊                                                                                                                       | 76/352 [04:30<16:25,  3.57s/it]"
     ]
    },
    {
     "name": "stdout",
     "output_type": "stream",
     "text": [
      "TC formation prediction is [[0.50606257]] 1 Yes\n",
      "Processing image: /N/project/pfec_climo/qmnguyen/tc_prediction/binary_datasets/ncep_WP_binary_0h//pos/20160526_00_00_17.6_114.6_2016147N18115.nc\n",
      "Input image dimension is:  (1, 30, 30, 12)\n",
      "1/1 [==============================] - 0s 16ms/step\n"
     ]
    },
    {
     "name": "stderr",
     "output_type": "stream",
     "text": [
      "\r",
      " 22%|█████████████████████████████████▎                                                                                                                      | 77/352 [04:33<16:26,  3.59s/it]"
     ]
    },
    {
     "name": "stdout",
     "output_type": "stream",
     "text": [
      "TC formation prediction is [[0.5044722]] 1 Yes\n",
      "Processing image: /N/project/pfec_climo/qmnguyen/tc_prediction/binary_datasets/ncep_WP_binary_0h//pos/20170826_18_00_17.8_147.0_2017239N18147.nc\n",
      "Input image dimension is:  (1, 30, 30, 12)\n",
      "1/1 [==============================] - 0s 16ms/step\n"
     ]
    },
    {
     "name": "stderr",
     "output_type": "stream",
     "text": [
      "\r",
      " 22%|█████████████████████████████████▋                                                                                                                      | 78/352 [04:37<16:31,  3.62s/it]"
     ]
    },
    {
     "name": "stdout",
     "output_type": "stream",
     "text": [
      "TC formation prediction is [[0.5021222]] 1 Yes\n",
      "Processing image: /N/project/pfec_climo/qmnguyen/tc_prediction/binary_datasets/ncep_WP_binary_0h//pos/20100827_18_00_14.6_142.2_2010240N15142.nc\n",
      "Input image dimension is:  (1, 30, 30, 12)\n",
      "1/1 [==============================] - 0s 16ms/step\n"
     ]
    },
    {
     "name": "stderr",
     "output_type": "stream",
     "text": [
      "\r",
      " 22%|██████████████████████████████████                                                                                                                      | 79/352 [04:41<16:24,  3.60s/it]"
     ]
    },
    {
     "name": "stdout",
     "output_type": "stream",
     "text": [
      "TC formation prediction is [[0.50879496]] 1 Yes\n",
      "Processing image: /N/project/pfec_climo/qmnguyen/tc_prediction/binary_datasets/ncep_WP_binary_0h//pos/20200831_12_00_22.9_145.8_2020245N23146.nc\n",
      "Input image dimension is:  (1, 30, 30, 12)\n",
      "1/1 [==============================] - 0s 16ms/step\n"
     ]
    },
    {
     "name": "stderr",
     "output_type": "stream",
     "text": [
      "\r",
      " 23%|██████████████████████████████████▌                                                                                                                     | 80/352 [04:44<16:14,  3.58s/it]"
     ]
    },
    {
     "name": "stdout",
     "output_type": "stream",
     "text": [
      "TC formation prediction is [[0.50306463]] 1 Yes\n",
      "Processing image: /N/project/pfec_climo/qmnguyen/tc_prediction/binary_datasets/ncep_WP_binary_0h//pos/20140917_00_00_12.6_135.0_2014260N13135.nc\n",
      "Input image dimension is:  (1, 30, 30, 12)\n",
      "1/1 [==============================] - 0s 20ms/step\n"
     ]
    },
    {
     "name": "stderr",
     "output_type": "stream",
     "text": [
      "\r",
      " 23%|██████████████████████████████████▉                                                                                                                     | 81/352 [04:48<16:21,  3.62s/it]"
     ]
    },
    {
     "name": "stdout",
     "output_type": "stream",
     "text": [
      "TC formation prediction is [[0.49871323]] 0 No\n",
      "Processing image: /N/project/pfec_climo/qmnguyen/tc_prediction/binary_datasets/ncep_WP_binary_0h//pos/20201019_00_00_13.8_129.4_2020293N14129.nc\n",
      "Input image dimension is:  (1, 30, 30, 12)\n",
      "1/1 [==============================] - 0s 17ms/step\n"
     ]
    },
    {
     "name": "stderr",
     "output_type": "stream",
     "text": [
      "\r",
      " 23%|███████████████████████████████████▍                                                                                                                    | 82/352 [04:52<16:16,  3.62s/it]"
     ]
    },
    {
     "name": "stdout",
     "output_type": "stream",
     "text": [
      "TC formation prediction is [[0.5003341]] 1 Yes\n",
      "Processing image: /N/project/pfec_climo/qmnguyen/tc_prediction/binary_datasets/ncep_WP_binary_0h//pos/20090928_12_00_7.3_163.8_2009272N07164.nc\n",
      "Input image dimension is:  (1, 30, 30, 12)\n",
      "1/1 [==============================] - 0s 17ms/step\n"
     ]
    },
    {
     "name": "stderr",
     "output_type": "stream",
     "text": [
      "\r",
      " 24%|███████████████████████████████████▊                                                                                                                    | 83/352 [04:55<16:17,  3.63s/it]"
     ]
    },
    {
     "name": "stdout",
     "output_type": "stream",
     "text": [
      "TC formation prediction is [[0.4986147]] 0 No\n",
      "Processing image: /N/project/pfec_climo/qmnguyen/tc_prediction/binary_datasets/ncep_WP_binary_0h//pos/20131102_06_00_6.6_161.6_2013306N07162.nc\n",
      "Input image dimension is:  (1, 30, 30, 12)\n",
      "1/1 [==============================] - 0s 17ms/step\n"
     ]
    },
    {
     "name": "stderr",
     "output_type": "stream",
     "text": [
      "\r",
      " 24%|████████████████████████████████████▎                                                                                                                   | 84/352 [04:59<16:35,  3.71s/it]"
     ]
    },
    {
     "name": "stdout",
     "output_type": "stream",
     "text": [
      "TC formation prediction is [[0.5056338]] 1 Yes\n",
      "Processing image: /N/project/pfec_climo/qmnguyen/tc_prediction/binary_datasets/ncep_WP_binary_0h//pos/20180603_18_00_9.7_131.8_2018155N10132.nc\n",
      "Input image dimension is:  (1, 30, 30, 12)\n",
      "1/1 [==============================] - 0s 16ms/step\n"
     ]
    },
    {
     "name": "stderr",
     "output_type": "stream",
     "text": [
      "\r",
      " 24%|████████████████████████████████████▋                                                                                                                   | 85/352 [05:03<16:25,  3.69s/it]"
     ]
    },
    {
     "name": "stdout",
     "output_type": "stream",
     "text": [
      "TC formation prediction is [[0.5051926]] 1 Yes\n",
      "Processing image: /N/project/pfec_climo/qmnguyen/tc_prediction/binary_datasets/ncep_WP_binary_0h//pos/20180509_00_00_14.5_153.0_2018129N15153.nc\n",
      "Input image dimension is:  (1, 30, 30, 12)\n",
      "1/1 [==============================] - 0s 16ms/step\n"
     ]
    },
    {
     "name": "stderr",
     "output_type": "stream",
     "text": [
      "\r",
      " 24%|█████████████████████████████████████▏                                                                                                                  | 86/352 [05:07<16:24,  3.70s/it]"
     ]
    },
    {
     "name": "stdout",
     "output_type": "stream",
     "text": [
      "TC formation prediction is [[0.50427526]] 1 Yes\n",
      "Processing image: /N/project/pfec_climo/qmnguyen/tc_prediction/binary_datasets/ncep_WP_binary_0h//pos/20080514_06_00_11.5_115.6_2008135N12116.nc\n",
      "Input image dimension is:  (1, 30, 30, 12)\n",
      "1/1 [==============================] - 0s 16ms/step\n"
     ]
    },
    {
     "name": "stderr",
     "output_type": "stream",
     "text": [
      "\r",
      " 25%|█████████████████████████████████████▌                                                                                                                  | 87/352 [05:10<16:13,  3.67s/it]"
     ]
    },
    {
     "name": "stdout",
     "output_type": "stream",
     "text": [
      "TC formation prediction is [[0.5089661]] 1 Yes\n",
      "Processing image: /N/project/pfec_climo/qmnguyen/tc_prediction/binary_datasets/ncep_WP_binary_0h//pos/20170819_12_00_19.1_130.1_2017232N19130.nc\n",
      "Input image dimension is:  (1, 30, 30, 12)\n",
      "1/1 [==============================] - 0s 16ms/step\n"
     ]
    },
    {
     "name": "stderr",
     "output_type": "stream",
     "text": [
      "\r",
      " 25%|██████████████████████████████████████                                                                                                                  | 88/352 [05:14<15:49,  3.60s/it]"
     ]
    },
    {
     "name": "stdout",
     "output_type": "stream",
     "text": [
      "TC formation prediction is [[0.5035964]] 1 Yes\n",
      "Processing image: /N/project/pfec_climo/qmnguyen/tc_prediction/binary_datasets/ncep_WP_binary_0h//pos/20170725_00_00_12.7_128.9_2017206N13129.nc\n",
      "Input image dimension is:  (1, 30, 30, 12)\n",
      "1/1 [==============================] - 0s 16ms/step\n"
     ]
    },
    {
     "name": "stderr",
     "output_type": "stream",
     "text": [
      "\r",
      " 25%|██████████████████████████████████████▍                                                                                                                 | 89/352 [05:17<15:38,  3.57s/it]"
     ]
    },
    {
     "name": "stdout",
     "output_type": "stream",
     "text": [
      "TC formation prediction is [[0.5111856]] 1 Yes\n",
      "Processing image: /N/project/pfec_climo/qmnguyen/tc_prediction/binary_datasets/ncep_WP_binary_0h//pos/20200801_06_00_20.9_127.9_2020214N21128.nc\n",
      "Input image dimension is:  (1, 30, 30, 12)\n",
      "1/1 [==============================] - 0s 17ms/step\n"
     ]
    },
    {
     "name": "stderr",
     "output_type": "stream",
     "text": [
      "\r",
      " 26%|██████████████████████████████████████▊                                                                                                                 | 90/352 [05:21<15:39,  3.59s/it]"
     ]
    },
    {
     "name": "stdout",
     "output_type": "stream",
     "text": [
      "TC formation prediction is [[0.5037014]] 1 Yes\n",
      "Processing image: /N/project/pfec_climo/qmnguyen/tc_prediction/binary_datasets/ncep_WP_binary_0h//pos/20080812_18_00_22.4_134.3_2008226N22134.nc\n",
      "Input image dimension is:  (1, 30, 30, 12)\n",
      "1/1 [==============================] - 0s 17ms/step\n"
     ]
    },
    {
     "name": "stderr",
     "output_type": "stream",
     "text": [
      "\r",
      " 26%|███████████████████████████████████████▎                                                                                                                | 91/352 [05:24<15:35,  3.59s/it]"
     ]
    },
    {
     "name": "stdout",
     "output_type": "stream",
     "text": [
      "TC formation prediction is [[0.50572073]] 1 Yes\n",
      "Processing image: /N/project/pfec_climo/qmnguyen/tc_prediction/binary_datasets/ncep_WP_binary_0h//pos/20100919_12_00_15.4_149.1_2010263N15149.nc\n",
      "Input image dimension is:  (1, 30, 30, 12)\n",
      "1/1 [==============================] - 0s 17ms/step\n"
     ]
    },
    {
     "name": "stderr",
     "output_type": "stream",
     "text": [
      "\r",
      " 26%|███████████████████████████████████████▋                                                                                                                | 92/352 [05:28<15:39,  3.62s/it]"
     ]
    },
    {
     "name": "stdout",
     "output_type": "stream",
     "text": [
      "TC formation prediction is [[0.5064362]] 1 Yes\n",
      "Processing image: /N/project/pfec_climo/qmnguyen/tc_prediction/binary_datasets/ncep_WP_binary_0h//pos/20150729_18_00_13.3_162.2_2015211N13162.nc\n",
      "Input image dimension is:  (1, 30, 30, 12)\n",
      "1/1 [==============================] - 0s 17ms/step\n"
     ]
    },
    {
     "name": "stderr",
     "output_type": "stream",
     "text": [
      "\r",
      " 26%|████████████████████████████████████████▏                                                                                                               | 93/352 [05:32<15:41,  3.63s/it]"
     ]
    },
    {
     "name": "stdout",
     "output_type": "stream",
     "text": [
      "TC formation prediction is [[0.49971452]] 0 No\n",
      "Processing image: /N/project/pfec_climo/qmnguyen/tc_prediction/binary_datasets/ncep_WP_binary_0h//pos/20110726_12_00_9.0_144.5_2011208N09145.nc\n",
      "Input image dimension is:  (1, 30, 30, 12)\n",
      "1/1 [==============================] - 0s 17ms/step\n"
     ]
    },
    {
     "name": "stderr",
     "output_type": "stream",
     "text": [
      "\r",
      " 27%|████████████████████████████████████████▌                                                                                                               | 94/352 [05:35<15:52,  3.69s/it]"
     ]
    },
    {
     "name": "stdout",
     "output_type": "stream",
     "text": [
      "TC formation prediction is [[0.50452536]] 1 Yes\n",
      "Processing image: /N/project/pfec_climo/qmnguyen/tc_prediction/binary_datasets/ncep_WP_binary_0h//pos/20101110_12_00_14.4_111.7_2010315N14112.nc\n",
      "Input image dimension is:  (1, 30, 30, 12)\n",
      "1/1 [==============================] - 0s 18ms/step\n"
     ]
    },
    {
     "name": "stderr",
     "output_type": "stream",
     "text": [
      "\r",
      " 27%|█████████████████████████████████████████                                                                                                               | 95/352 [05:39<15:51,  3.70s/it]"
     ]
    },
    {
     "name": "stdout",
     "output_type": "stream",
     "text": [
      "TC formation prediction is [[0.5055754]] 1 Yes\n",
      "Processing image: /N/project/pfec_climo/qmnguyen/tc_prediction/binary_datasets/ncep_WP_binary_0h//pos/20091013_18_00_9.6_153.5_2009287N10154.nc\n",
      "Input image dimension is:  (1, 30, 30, 12)\n",
      "1/1 [==============================] - 0s 17ms/step\n"
     ]
    },
    {
     "name": "stderr",
     "output_type": "stream",
     "text": [
      "\r",
      " 27%|█████████████████████████████████████████▍                                                                                                              | 96/352 [05:43<15:40,  3.68s/it]"
     ]
    },
    {
     "name": "stdout",
     "output_type": "stream",
     "text": [
      "TC formation prediction is [[0.5080182]] 1 Yes\n",
      "Processing image: /N/project/pfec_climo/qmnguyen/tc_prediction/binary_datasets/ncep_WP_binary_0h//pos/20150619_18_00_14.9_112.2_2015171N15112.nc\n",
      "Input image dimension is:  (1, 30, 30, 12)\n",
      "1/1 [==============================] - 0s 17ms/step\n"
     ]
    },
    {
     "name": "stderr",
     "output_type": "stream",
     "text": [
      "\r",
      " 28%|█████████████████████████████████████████▉                                                                                                              | 97/352 [05:46<15:33,  3.66s/it]"
     ]
    },
    {
     "name": "stdout",
     "output_type": "stream",
     "text": [
      "TC formation prediction is [[0.50788045]] 1 Yes\n",
      "Processing image: /N/project/pfec_climo/qmnguyen/tc_prediction/binary_datasets/ncep_WP_binary_0h//pos/20140702_12_00_8.5_147.3_2014184N08147.nc\n",
      "Input image dimension is:  (1, 30, 30, 12)\n",
      "1/1 [==============================] - 0s 17ms/step\n"
     ]
    },
    {
     "name": "stderr",
     "output_type": "stream",
     "text": [
      "\r",
      " 28%|██████████████████████████████████████████▎                                                                                                             | 98/352 [05:50<15:28,  3.65s/it]"
     ]
    },
    {
     "name": "stdout",
     "output_type": "stream",
     "text": [
      "TC formation prediction is [[0.5083884]] 1 Yes\n",
      "Processing image: /N/project/pfec_climo/qmnguyen/tc_prediction/binary_datasets/ncep_WP_binary_0h//pos/20161012_18_00_12.5_129.7_2016287N13130.nc\n",
      "Input image dimension is:  (1, 30, 30, 12)\n",
      "1/1 [==============================] - 0s 18ms/step\n"
     ]
    },
    {
     "name": "stderr",
     "output_type": "stream",
     "text": [
      "\r",
      " 28%|██████████████████████████████████████████▊                                                                                                             | 99/352 [05:54<15:24,  3.66s/it]"
     ]
    },
    {
     "name": "stdout",
     "output_type": "stream",
     "text": [
      "TC formation prediction is [[0.5047403]] 1 Yes\n",
      "Processing image: /N/project/pfec_climo/qmnguyen/tc_prediction/binary_datasets/ncep_WP_binary_0h//pos/20170610_00_00_13.2_119.4_2017161N13119.nc\n",
      "Input image dimension is:  (1, 30, 30, 12)\n",
      "1/1 [==============================] - 0s 17ms/step\n"
     ]
    },
    {
     "name": "stderr",
     "output_type": "stream",
     "text": [
      "\r",
      " 28%|██████████████████████████████████████████▉                                                                                                            | 100/352 [05:57<15:27,  3.68s/it]"
     ]
    },
    {
     "name": "stdout",
     "output_type": "stream",
     "text": [
      "TC formation prediction is [[0.50564474]] 1 Yes\n",
      "Processing image: /N/project/pfec_climo/qmnguyen/tc_prediction/binary_datasets/ncep_WP_binary_0h//pos/20150919_18_00_13.5_148.1_2015263N14148.nc\n",
      "Input image dimension is:  (1, 30, 30, 12)\n",
      "1/1 [==============================] - 0s 17ms/step\n"
     ]
    },
    {
     "name": "stderr",
     "output_type": "stream",
     "text": [
      "\r",
      " 29%|███████████████████████████████████████████▎                                                                                                           | 101/352 [06:01<15:26,  3.69s/it]"
     ]
    },
    {
     "name": "stdout",
     "output_type": "stream",
     "text": [
      "TC formation prediction is [[0.5090455]] 1 Yes\n",
      "Processing image: /N/project/pfec_climo/qmnguyen/tc_prediction/binary_datasets/ncep_WP_binary_0h//pos/20151116_18_00_4.0_163.8_2015321N04164.nc\n",
      "Input image dimension is:  (1, 30, 30, 12)\n",
      "1/1 [==============================] - 0s 17ms/step\n"
     ]
    },
    {
     "name": "stderr",
     "output_type": "stream",
     "text": [
      "\r",
      " 29%|███████████████████████████████████████████▊                                                                                                           | 102/352 [06:05<15:24,  3.70s/it]"
     ]
    },
    {
     "name": "stdout",
     "output_type": "stream",
     "text": [
      "TC formation prediction is [[0.5001468]] 1 Yes\n",
      "Processing image: /N/project/pfec_climo/qmnguyen/tc_prediction/binary_datasets/ncep_WP_binary_0h//pos/20110905_18_00_18.1_132.9_2011249N18133.nc\n",
      "Input image dimension is:  (1, 30, 30, 12)\n",
      "1/1 [==============================] - 0s 18ms/step\n"
     ]
    },
    {
     "name": "stderr",
     "output_type": "stream",
     "text": [
      "\r",
      " 29%|████████████████████████████████████████████▏                                                                                                          | 103/352 [06:09<15:20,  3.70s/it]"
     ]
    },
    {
     "name": "stdout",
     "output_type": "stream",
     "text": [
      "TC formation prediction is [[0.503506]] 1 Yes\n",
      "Processing image: /N/project/pfec_climo/qmnguyen/tc_prediction/binary_datasets/ncep_WP_binary_0h//pos/20081114_18_00_8.2_121.9_2008320N08122.nc\n",
      "Input image dimension is:  (1, 30, 30, 12)\n",
      "1/1 [==============================] - 0s 18ms/step\n"
     ]
    },
    {
     "name": "stderr",
     "output_type": "stream",
     "text": [
      "\r",
      " 30%|████████████████████████████████████████████▌                                                                                                          | 104/352 [06:12<15:12,  3.68s/it]"
     ]
    },
    {
     "name": "stdout",
     "output_type": "stream",
     "text": [
      "TC formation prediction is [[0.5011394]] 1 Yes\n",
      "Processing image: /N/project/pfec_climo/qmnguyen/tc_prediction/binary_datasets/ncep_WP_binary_0h//pos/20101020_06_00_16.3_146.5_2010293N16147.nc\n",
      "Input image dimension is:  (1, 30, 30, 12)\n",
      "1/1 [==============================] - 0s 17ms/step\n"
     ]
    },
    {
     "name": "stderr",
     "output_type": "stream",
     "text": [
      "\r",
      " 30%|█████████████████████████████████████████████                                                                                                          | 105/352 [06:16<15:03,  3.66s/it]"
     ]
    },
    {
     "name": "stdout",
     "output_type": "stream",
     "text": [
      "TC formation prediction is [[0.50520617]] 1 Yes\n",
      "Processing image: /N/project/pfec_climo/qmnguyen/tc_prediction/binary_datasets/ncep_WP_binary_0h//pos/20210705_00_00_18.2_125.3_2021186N18125.nc\n",
      "Input image dimension is:  (1, 30, 30, 12)\n",
      "1/1 [==============================] - 0s 17ms/step\n"
     ]
    },
    {
     "name": "stderr",
     "output_type": "stream",
     "text": [
      "\r",
      " 30%|█████████████████████████████████████████████▍                                                                                                         | 106/352 [06:19<14:57,  3.65s/it]"
     ]
    },
    {
     "name": "stdout",
     "output_type": "stream",
     "text": [
      "TC formation prediction is [[0.5010427]] 1 Yes\n",
      "Processing image: /N/project/pfec_climo/qmnguyen/tc_prediction/binary_datasets/ncep_WP_binary_0h//pos/20190802_06_00_14.5_134.3_2019214N15134.nc\n",
      "Input image dimension is:  (1, 30, 30, 12)\n",
      "1/1 [==============================] - 0s 18ms/step\n"
     ]
    },
    {
     "name": "stderr",
     "output_type": "stream",
     "text": [
      "\r",
      " 30%|█████████████████████████████████████████████▉                                                                                                         | 107/352 [06:23<14:58,  3.67s/it]"
     ]
    },
    {
     "name": "stdout",
     "output_type": "stream",
     "text": [
      "TC formation prediction is [[0.509573]] 1 Yes\n",
      "Processing image: /N/project/pfec_climo/qmnguyen/tc_prediction/binary_datasets/ncep_WP_binary_0h//pos/20190924_12_00_9.6_155.0_2019268N10155.nc\n",
      "Input image dimension is:  (1, 30, 30, 12)\n",
      "1/1 [==============================] - 0s 18ms/step\n"
     ]
    },
    {
     "name": "stderr",
     "output_type": "stream",
     "text": [
      "\r",
      " 31%|██████████████████████████████████████████████▎                                                                                                        | 108/352 [06:27<15:06,  3.71s/it]"
     ]
    },
    {
     "name": "stdout",
     "output_type": "stream",
     "text": [
      "TC formation prediction is [[0.50881284]] 1 Yes\n",
      "Processing image: /N/project/pfec_climo/qmnguyen/tc_prediction/binary_datasets/ncep_WP_binary_0h//pos/20210803_00_00_21.3_113.4_2021215N21113.nc\n",
      "Input image dimension is:  (1, 30, 30, 12)\n",
      "1/1 [==============================] - 0s 17ms/step\n"
     ]
    },
    {
     "name": "stderr",
     "output_type": "stream",
     "text": [
      "\r",
      " 31%|██████████████████████████████████████████████▊                                                                                                        | 109/352 [06:31<15:03,  3.72s/it]"
     ]
    },
    {
     "name": "stdout",
     "output_type": "stream",
     "text": [
      "TC formation prediction is [[0.5123725]] 1 Yes\n",
      "Processing image: /N/project/pfec_climo/qmnguyen/tc_prediction/binary_datasets/ncep_WP_binary_0h//pos/20090927_00_00_9.9_147.5_2009270N10148.nc\n",
      "Input image dimension is:  (1, 30, 30, 12)\n",
      "1/1 [==============================] - 0s 17ms/step\n"
     ]
    },
    {
     "name": "stderr",
     "output_type": "stream",
     "text": [
      "\r",
      " 31%|███████████████████████████████████████████████▏                                                                                                       | 110/352 [06:34<15:00,  3.72s/it]"
     ]
    },
    {
     "name": "stdout",
     "output_type": "stream",
     "text": [
      "TC formation prediction is [[0.50479484]] 1 Yes\n",
      "Processing image: /N/project/pfec_climo/qmnguyen/tc_prediction/binary_datasets/ncep_WP_binary_0h//pos/20080513_18_00_16.2_125.1_2008135N16125.nc\n",
      "Input image dimension is:  (1, 30, 30, 12)\n",
      "1/1 [==============================] - 0s 17ms/step\n"
     ]
    },
    {
     "name": "stderr",
     "output_type": "stream",
     "text": [
      "\r",
      " 32%|███████████████████████████████████████████████▌                                                                                                       | 111/352 [06:38<14:54,  3.71s/it]"
     ]
    },
    {
     "name": "stdout",
     "output_type": "stream",
     "text": [
      "TC formation prediction is [[0.49568477]] 0 No\n",
      "Processing image: /N/project/pfec_climo/qmnguyen/tc_prediction/binary_datasets/ncep_WP_binary_0h//pos/20170721_06_00_18.6_124.0_2017202N19124.nc\n",
      "Input image dimension is:  (1, 30, 30, 12)\n",
      "1/1 [==============================] - 0s 17ms/step\n"
     ]
    },
    {
     "name": "stderr",
     "output_type": "stream",
     "text": [
      "\r",
      " 32%|████████████████████████████████████████████████                                                                                                       | 112/352 [06:42<14:46,  3.69s/it]"
     ]
    },
    {
     "name": "stdout",
     "output_type": "stream",
     "text": [
      "TC formation prediction is [[0.5011987]] 1 Yes\n",
      "Processing image: /N/project/pfec_climo/qmnguyen/tc_prediction/binary_datasets/ncep_WP_binary_0h//pos/20130917_00_00_15.4_112.2_2013260N15112.nc\n",
      "Input image dimension is:  (1, 30, 30, 12)\n",
      "1/1 [==============================] - 0s 18ms/step\n"
     ]
    },
    {
     "name": "stderr",
     "output_type": "stream",
     "text": [
      "\r",
      " 32%|████████████████████████████████████████████████▍                                                                                                      | 113/352 [06:45<14:41,  3.69s/it]"
     ]
    },
    {
     "name": "stdout",
     "output_type": "stream",
     "text": [
      "TC formation prediction is [[0.5001124]] 1 Yes\n",
      "Processing image: /N/project/pfec_climo/qmnguyen/tc_prediction/binary_datasets/ncep_WP_binary_0h//pos/20180810_00_00_16.1_146.6_2018222N16147.nc\n",
      "Input image dimension is:  (1, 30, 30, 12)\n",
      "1/1 [==============================] - 0s 17ms/step\n"
     ]
    },
    {
     "name": "stderr",
     "output_type": "stream",
     "text": [
      "\r",
      " 32%|████████████████████████████████████████████████▉                                                                                                      | 114/352 [06:49<14:29,  3.65s/it]"
     ]
    },
    {
     "name": "stdout",
     "output_type": "stream",
     "text": [
      "TC formation prediction is [[0.5085962]] 1 Yes\n",
      "Processing image: /N/project/pfec_climo/qmnguyen/tc_prediction/binary_datasets/ncep_WP_binary_0h//pos/20210728_00_00_32.6_117.8_2021209N33118.nc\n",
      "Input image dimension is:  (1, 30, 30, 12)\n",
      "1/1 [==============================] - 0s 16ms/step\n"
     ]
    },
    {
     "name": "stderr",
     "output_type": "stream",
     "text": [
      "\r",
      " 33%|█████████████████████████████████████████████████▎                                                                                                     | 115/352 [06:53<14:14,  3.61s/it]"
     ]
    },
    {
     "name": "stdout",
     "output_type": "stream",
     "text": [
      "TC formation prediction is [[0.5074228]] 1 Yes\n",
      "Processing image: /N/project/pfec_climo/qmnguyen/tc_prediction/binary_datasets/ncep_WP_binary_0h//pos/20080809_12_00_27.3_151.4_2008223N27151.nc\n",
      "Input image dimension is:  (1, 30, 30, 12)\n",
      "1/1 [==============================] - 0s 15ms/step\n"
     ]
    },
    {
     "name": "stderr",
     "output_type": "stream",
     "text": [
      "\r",
      " 33%|█████████████████████████████████████████████████▊                                                                                                     | 116/352 [06:56<14:05,  3.58s/it]"
     ]
    },
    {
     "name": "stdout",
     "output_type": "stream",
     "text": [
      "TC formation prediction is [[0.50270855]] 1 Yes\n",
      "Processing image: /N/project/pfec_climo/qmnguyen/tc_prediction/binary_datasets/ncep_WP_binary_0h//pos/20110608_00_00_13.4_121.5_2011159N13122.nc\n",
      "Input image dimension is:  (1, 30, 30, 12)\n",
      "1/1 [==============================] - 0s 17ms/step\n"
     ]
    },
    {
     "name": "stderr",
     "output_type": "stream",
     "text": [
      "\r",
      " 33%|██████████████████████████████████████████████████▏                                                                                                    | 117/352 [07:00<14:05,  3.60s/it]"
     ]
    },
    {
     "name": "stdout",
     "output_type": "stream",
     "text": [
      "TC formation prediction is [[0.5106467]] 1 Yes\n",
      "Processing image: /N/project/pfec_climo/qmnguyen/tc_prediction/binary_datasets/ncep_WP_binary_0h//pos/20161030_18_00_10.1_146.9_2016305N10147.nc\n",
      "Input image dimension is:  (1, 30, 30, 12)\n",
      "1/1 [==============================] - 0s 16ms/step\n"
     ]
    },
    {
     "name": "stderr",
     "output_type": "stream",
     "text": [
      "\r",
      " 34%|██████████████████████████████████████████████████▌                                                                                                    | 118/352 [07:03<13:58,  3.58s/it]"
     ]
    },
    {
     "name": "stdout",
     "output_type": "stream",
     "text": [
      "TC formation prediction is [[0.49641386]] 0 No\n",
      "Processing image: /N/project/pfec_climo/qmnguyen/tc_prediction/binary_datasets/ncep_WP_binary_0h//pos/20190804_00_00_15.5_146.6_2019216N16147.nc\n",
      "Input image dimension is:  (1, 30, 30, 12)\n",
      "1/1 [==============================] - 0s 18ms/step\n"
     ]
    },
    {
     "name": "stderr",
     "output_type": "stream",
     "text": [
      "\r",
      " 34%|███████████████████████████████████████████████████                                                                                                    | 119/352 [07:07<13:58,  3.60s/it]"
     ]
    },
    {
     "name": "stdout",
     "output_type": "stream",
     "text": [
      "TC formation prediction is [[0.5086652]] 1 Yes\n",
      "Processing image: /N/project/pfec_climo/qmnguyen/tc_prediction/binary_datasets/ncep_WP_binary_0h//pos/20130929_06_00_26.3_151.6_2013272N26152.nc\n",
      "Input image dimension is:  (1, 30, 30, 12)\n",
      "1/1 [==============================] - 0s 18ms/step\n"
     ]
    },
    {
     "name": "stderr",
     "output_type": "stream",
     "text": [
      "\r",
      " 34%|███████████████████████████████████████████████████▍                                                                                                   | 120/352 [07:11<13:57,  3.61s/it]"
     ]
    },
    {
     "name": "stdout",
     "output_type": "stream",
     "text": [
      "TC formation prediction is [[0.4985178]] 0 No\n",
      "Processing image: /N/project/pfec_climo/qmnguyen/tc_prediction/binary_datasets/ncep_WP_binary_0h//pos/20180730_00_00_26.5_152.3_2018211N27152.nc\n",
      "Input image dimension is:  (1, 30, 30, 12)\n",
      "1/1 [==============================] - 0s 19ms/step\n"
     ]
    },
    {
     "name": "stderr",
     "output_type": "stream",
     "text": [
      "\r",
      " 34%|███████████████████████████████████████████████████▉                                                                                                   | 121/352 [07:14<14:06,  3.66s/it]"
     ]
    },
    {
     "name": "stdout",
     "output_type": "stream",
     "text": [
      "TC formation prediction is [[0.50122875]] 1 Yes\n",
      "Processing image: /N/project/pfec_climo/qmnguyen/tc_prediction/binary_datasets/ncep_WP_binary_0h//pos/20110821_06_00_11.9_128.8_2011233N12129.nc\n",
      "Input image dimension is:  (1, 30, 30, 12)\n",
      "1/1 [==============================] - 0s 19ms/step\n"
     ]
    },
    {
     "name": "stderr",
     "output_type": "stream",
     "text": [
      "\r",
      " 35%|████████████████████████████████████████████████████▎                                                                                                  | 122/352 [07:18<14:04,  3.67s/it]"
     ]
    },
    {
     "name": "stdout",
     "output_type": "stream",
     "text": [
      "TC formation prediction is [[0.509202]] 1 Yes\n",
      "Processing image: /N/project/pfec_climo/qmnguyen/tc_prediction/binary_datasets/ncep_WP_binary_0h//pos/20180713_12_00_19.0_137.8_2018195N19138.nc\n",
      "Input image dimension is:  (1, 30, 30, 12)\n",
      "1/1 [==============================] - 0s 18ms/step\n"
     ]
    },
    {
     "name": "stderr",
     "output_type": "stream",
     "text": [
      "\r",
      " 35%|████████████████████████████████████████████████████▊                                                                                                  | 123/352 [07:22<14:14,  3.73s/it]"
     ]
    },
    {
     "name": "stdout",
     "output_type": "stream",
     "text": [
      "TC formation prediction is [[0.50692165]] 1 Yes\n",
      "Processing image: /N/project/pfec_climo/qmnguyen/tc_prediction/binary_datasets/ncep_WP_binary_0h//pos/20171031_12_00_7.5_107.8_2017305N08108.nc\n",
      "Input image dimension is:  (1, 30, 30, 12)\n",
      "1/1 [==============================] - 0s 18ms/step\n"
     ]
    },
    {
     "name": "stderr",
     "output_type": "stream",
     "text": [
      "\r",
      " 35%|█████████████████████████████████████████████████████▏                                                                                                 | 124/352 [07:26<14:13,  3.74s/it]"
     ]
    },
    {
     "name": "stdout",
     "output_type": "stream",
     "text": [
      "TC formation prediction is [[0.5107702]] 1 Yes\n",
      "Processing image: /N/project/pfec_climo/qmnguyen/tc_prediction/binary_datasets/ncep_WP_binary_0h//pos/20170910_00_00_14.3_130.0_2017253N14130.nc\n",
      "Input image dimension is:  (1, 30, 30, 12)\n",
      "1/1 [==============================] - 0s 18ms/step\n"
     ]
    },
    {
     "name": "stderr",
     "output_type": "stream",
     "text": [
      "\r",
      " 36%|█████████████████████████████████████████████████████▌                                                                                                 | 125/352 [07:29<14:13,  3.76s/it]"
     ]
    },
    {
     "name": "stdout",
     "output_type": "stream",
     "text": [
      "TC formation prediction is [[0.51092875]] 1 Yes\n",
      "Processing image: /N/project/pfec_climo/qmnguyen/tc_prediction/binary_datasets/ncep_WP_binary_0h//pos/20150701_18_00_13.3_129.8_2015183N13130.nc\n",
      "Input image dimension is:  (1, 30, 30, 12)\n",
      "1/1 [==============================] - 0s 18ms/step\n"
     ]
    },
    {
     "name": "stderr",
     "output_type": "stream",
     "text": [
      "\r",
      " 36%|██████████████████████████████████████████████████████                                                                                                 | 126/352 [07:33<14:11,  3.77s/it]"
     ]
    },
    {
     "name": "stdout",
     "output_type": "stream",
     "text": [
      "TC formation prediction is [[0.5140734]] 1 Yes\n",
      "Processing image: /N/project/pfec_climo/qmnguyen/tc_prediction/binary_datasets/ncep_WP_binary_0h//pos/20141030_00_00_12.8_140.9_2014303N13141.nc\n",
      "Input image dimension is:  (1, 30, 30, 12)\n",
      "1/1 [==============================] - 0s 18ms/step\n"
     ]
    },
    {
     "name": "stderr",
     "output_type": "stream",
     "text": [
      "\r",
      " 36%|██████████████████████████████████████████████████████▍                                                                                                | 127/352 [07:37<14:02,  3.74s/it]"
     ]
    },
    {
     "name": "stdout",
     "output_type": "stream",
     "text": [
      "TC formation prediction is [[0.49851894]] 0 No\n",
      "Processing image: /N/project/pfec_climo/qmnguyen/tc_prediction/binary_datasets/ncep_WP_binary_0h//pos/20121012_18_00_16.1_147.2_2012287N16147.nc\n",
      "Input image dimension is:  (1, 30, 30, 12)\n",
      "1/1 [==============================] - 0s 16ms/step\n"
     ]
    },
    {
     "name": "stderr",
     "output_type": "stream",
     "text": [
      "\r",
      " 36%|██████████████████████████████████████████████████████▉                                                                                                | 128/352 [07:40<13:44,  3.68s/it]"
     ]
    },
    {
     "name": "stdout",
     "output_type": "stream",
     "text": [
      "TC formation prediction is [[0.51043826]] 1 Yes\n",
      "Processing image: /N/project/pfec_climo/qmnguyen/tc_prediction/binary_datasets/ncep_WP_binary_0h//pos/20180809_00_00_16.9_111.7_2018221N17112.nc\n",
      "Input image dimension is:  (1, 30, 30, 12)\n",
      "1/1 [==============================] - 0s 16ms/step\n"
     ]
    },
    {
     "name": "stderr",
     "output_type": "stream",
     "text": [
      "\r",
      " 37%|███████████████████████████████████████████████████████▎                                                                                               | 129/352 [07:44<13:24,  3.61s/it]"
     ]
    },
    {
     "name": "stdout",
     "output_type": "stream",
     "text": [
      "TC formation prediction is [[0.50358415]] 1 Yes\n",
      "Processing image: /N/project/pfec_climo/qmnguyen/tc_prediction/binary_datasets/ncep_WP_binary_0h//pos/20210805_00_00_26.4_126.5_2021217N26127.nc\n",
      "Input image dimension is:  (1, 30, 30, 12)\n",
      "1/1 [==============================] - 0s 15ms/step\n"
     ]
    },
    {
     "name": "stderr",
     "output_type": "stream",
     "text": [
      "\r",
      " 37%|███████████████████████████████████████████████████████▊                                                                                               | 130/352 [07:47<13:11,  3.56s/it]"
     ]
    },
    {
     "name": "stdout",
     "output_type": "stream",
     "text": [
      "TC formation prediction is [[0.50777245]] 1 Yes\n",
      "Processing image: /N/project/pfec_climo/qmnguyen/tc_prediction/binary_datasets/ncep_WP_binary_0h//pos/20121125_12_00_3.4_157.4_2012331N03157.nc\n",
      "Input image dimension is:  (1, 30, 30, 12)\n",
      "1/1 [==============================] - 0s 17ms/step\n"
     ]
    },
    {
     "name": "stderr",
     "output_type": "stream",
     "text": [
      "\r",
      " 37%|████████████████████████████████████████████████████████▏                                                                                              | 131/352 [07:51<13:06,  3.56s/it]"
     ]
    },
    {
     "name": "stdout",
     "output_type": "stream",
     "text": [
      "TC formation prediction is [[0.49719268]] 0 No\n",
      "Processing image: /N/project/pfec_climo/qmnguyen/tc_prediction/binary_datasets/ncep_WP_binary_0h//pos/20140609_00_00_20.9_120.0_2014160N21120.nc\n",
      "Input image dimension is:  (1, 30, 30, 12)\n",
      "1/1 [==============================] - 0s 16ms/step\n"
     ]
    },
    {
     "name": "stderr",
     "output_type": "stream",
     "text": [
      "\r",
      " 38%|████████████████████████████████████████████████████████▋                                                                                              | 132/352 [07:54<13:02,  3.56s/it]"
     ]
    },
    {
     "name": "stdout",
     "output_type": "stream",
     "text": [
      "TC formation prediction is [[0.4975662]] 0 No\n",
      "Processing image: /N/project/pfec_climo/qmnguyen/tc_prediction/binary_datasets/ncep_WP_binary_0h//pos/20091031_12_00_14.1_134.0_2009305N14134.nc\n",
      "Input image dimension is:  (1, 30, 30, 12)\n",
      "1/1 [==============================] - 0s 15ms/step\n"
     ]
    },
    {
     "name": "stderr",
     "output_type": "stream",
     "text": [
      "\r",
      " 38%|█████████████████████████████████████████████████████████                                                                                              | 133/352 [07:58<13:03,  3.58s/it]"
     ]
    },
    {
     "name": "stdout",
     "output_type": "stream",
     "text": [
      "TC formation prediction is [[0.5051331]] 1 Yes\n",
      "Processing image: /N/project/pfec_climo/qmnguyen/tc_prediction/binary_datasets/ncep_WP_binary_0h//pos/20180815_00_00_11.4_145.1_2018227N11145.nc\n",
      "Input image dimension is:  (1, 30, 30, 12)\n",
      "1/1 [==============================] - 0s 16ms/step\n"
     ]
    },
    {
     "name": "stderr",
     "output_type": "stream",
     "text": [
      "\r",
      " 38%|█████████████████████████████████████████████████████████▍                                                                                             | 134/352 [08:02<12:56,  3.56s/it]"
     ]
    },
    {
     "name": "stdout",
     "output_type": "stream",
     "text": [
      "TC formation prediction is [[0.50263613]] 1 Yes\n",
      "Processing image: /N/project/pfec_climo/qmnguyen/tc_prediction/binary_datasets/ncep_WP_binary_0h//pos/20180927_12_00_6.3_153.5_2018271N06154.nc\n",
      "Input image dimension is:  (1, 30, 30, 12)\n",
      "1/1 [==============================] - 0s 18ms/step\n"
     ]
    },
    {
     "name": "stderr",
     "output_type": "stream",
     "text": [
      "\r",
      " 38%|█████████████████████████████████████████████████████████▉                                                                                             | 135/352 [08:05<12:51,  3.56s/it]"
     ]
    },
    {
     "name": "stdout",
     "output_type": "stream",
     "text": [
      "TC formation prediction is [[0.50543314]] 1 Yes\n",
      "Processing image: /N/project/pfec_climo/qmnguyen/tc_prediction/binary_datasets/ncep_WP_binary_0h//pos/20140818_12_00_20.9_117.2_2014231N21117.nc\n",
      "Input image dimension is:  (1, 30, 30, 12)\n",
      "1/1 [==============================] - 0s 17ms/step\n"
     ]
    },
    {
     "name": "stderr",
     "output_type": "stream",
     "text": [
      "\r",
      " 39%|██████████████████████████████████████████████████████████▎                                                                                            | 136/352 [08:09<12:49,  3.56s/it]"
     ]
    },
    {
     "name": "stdout",
     "output_type": "stream",
     "text": [
      "TC formation prediction is [[0.50575894]] 1 Yes\n",
      "Processing image: /N/project/pfec_climo/qmnguyen/tc_prediction/binary_datasets/ncep_WP_binary_0h//pos/20110505_18_00_10.5_129.0_2011126N11129.nc\n",
      "Input image dimension is:  (1, 30, 30, 12)\n",
      "1/1 [==============================] - 0s 17ms/step\n"
     ]
    },
    {
     "name": "stderr",
     "output_type": "stream",
     "text": [
      "\r",
      " 39%|██████████████████████████████████████████████████████████▊                                                                                            | 137/352 [08:12<12:51,  3.59s/it]"
     ]
    },
    {
     "name": "stdout",
     "output_type": "stream",
     "text": [
      "TC formation prediction is [[0.50243694]] 1 Yes\n",
      "Processing image: /N/project/pfec_climo/qmnguyen/tc_prediction/binary_datasets/ncep_WP_binary_0h//pos/20190729_00_00_15.9_117.0_2019210N16117.nc\n",
      "Input image dimension is:  (1, 30, 30, 12)\n",
      "1/1 [==============================] - 0s 17ms/step\n"
     ]
    },
    {
     "name": "stderr",
     "output_type": "stream",
     "text": [
      "\r",
      " 39%|███████████████████████████████████████████████████████████▏                                                                                           | 138/352 [08:16<12:53,  3.62s/it]"
     ]
    },
    {
     "name": "stdout",
     "output_type": "stream",
     "text": [
      "TC formation prediction is [[0.51110935]] 1 Yes\n",
      "Processing image: /N/project/pfec_climo/qmnguyen/tc_prediction/binary_datasets/ncep_WP_binary_0h//pos/20131119_18_00_7.3_103.3_2013324N07103.nc\n",
      "Input image dimension is:  (1, 30, 30, 12)\n",
      "1/1 [==============================] - 0s 16ms/step\n"
     ]
    },
    {
     "name": "stderr",
     "output_type": "stream",
     "text": [
      "\r",
      " 39%|███████████████████████████████████████████████████████████▋                                                                                           | 139/352 [08:20<12:51,  3.62s/it]"
     ]
    },
    {
     "name": "stdout",
     "output_type": "stream",
     "text": [
      "TC formation prediction is [[0.50643355]] 1 Yes\n",
      "Processing image: /N/project/pfec_climo/qmnguyen/tc_prediction/binary_datasets/ncep_WP_binary_0h//pos/20180906_12_00_11.8_170.2_2018250N12170.nc\n",
      "Input image dimension is:  (1, 30, 30, 12)\n",
      "1/1 [==============================] - 0s 16ms/step\n"
     ]
    },
    {
     "name": "stderr",
     "output_type": "stream",
     "text": [
      "\r",
      " 40%|████████████████████████████████████████████████████████████                                                                                           | 140/352 [08:23<12:41,  3.59s/it]"
     ]
    },
    {
     "name": "stdout",
     "output_type": "stream",
     "text": [
      "TC formation prediction is [[0.5055066]] 1 Yes\n",
      "Processing image: /N/project/pfec_climo/qmnguyen/tc_prediction/binary_datasets/ncep_WP_binary_0h//pos/20170923_12_00_17.5_116.3_2017267N18116.nc\n",
      "Input image dimension is:  (1, 30, 30, 12)\n",
      "1/1 [==============================] - 0s 15ms/step\n"
     ]
    },
    {
     "name": "stderr",
     "output_type": "stream",
     "text": [
      "\r",
      " 40%|████████████████████████████████████████████████████████████▍                                                                                          | 141/352 [08:27<12:30,  3.56s/it]"
     ]
    },
    {
     "name": "stdout",
     "output_type": "stream",
     "text": [
      "TC formation prediction is [[0.5059037]] 1 Yes\n",
      "Processing image: /N/project/pfec_climo/qmnguyen/tc_prediction/binary_datasets/ncep_WP_binary_0h//pos/20160725_06_00_17.1_115.9_2016207N17116.nc\n",
      "Input image dimension is:  (1, 30, 30, 12)\n",
      "1/1 [==============================] - 0s 17ms/step\n"
     ]
    },
    {
     "name": "stderr",
     "output_type": "stream",
     "text": [
      "\r",
      " 40%|████████████████████████████████████████████████████████████▉                                                                                          | 142/352 [08:30<12:27,  3.56s/it]"
     ]
    },
    {
     "name": "stdout",
     "output_type": "stream",
     "text": [
      "TC formation prediction is [[0.51174545]] 1 Yes\n",
      "Processing image: /N/project/pfec_climo/qmnguyen/tc_prediction/binary_datasets/ncep_WP_binary_0h//pos/20190917_00_00_20.1_128.8_2019260N20129.nc\n",
      "Input image dimension is:  (1, 30, 30, 12)\n",
      "1/1 [==============================] - 0s 18ms/step\n"
     ]
    },
    {
     "name": "stderr",
     "output_type": "stream",
     "text": [
      "\r",
      " 41%|█████████████████████████████████████████████████████████████▎                                                                                         | 143/352 [08:34<12:24,  3.56s/it]"
     ]
    },
    {
     "name": "stdout",
     "output_type": "stream",
     "text": [
      "TC formation prediction is [[0.5008282]] 1 Yes\n",
      "Processing image: /N/project/pfec_climo/qmnguyen/tc_prediction/binary_datasets/ncep_WP_binary_0h//pos/20150930_00_00_11.9_130.3_2015273N12130.nc\n",
      "Input image dimension is:  (1, 30, 30, 12)\n",
      "1/1 [==============================] - 0s 16ms/step\n"
     ]
    },
    {
     "name": "stderr",
     "output_type": "stream",
     "text": [
      "\r",
      " 41%|█████████████████████████████████████████████████████████████▊                                                                                         | 144/352 [08:37<12:17,  3.54s/it]"
     ]
    },
    {
     "name": "stdout",
     "output_type": "stream",
     "text": [
      "TC formation prediction is [[0.5133912]] 1 Yes\n",
      "Processing image: /N/project/pfec_climo/qmnguyen/tc_prediction/binary_datasets/ncep_WP_binary_0h//pos/20120803_06_00_24.0_161.9_2012216N24162.nc\n",
      "Input image dimension is:  (1, 30, 30, 12)\n",
      "1/1 [==============================] - 0s 16ms/step\n"
     ]
    },
    {
     "name": "stderr",
     "output_type": "stream",
     "text": [
      "\r",
      " 41%|██████████████████████████████████████████████████████████████▏                                                                                        | 145/352 [08:41<12:15,  3.55s/it]"
     ]
    },
    {
     "name": "stdout",
     "output_type": "stream",
     "text": [
      "TC formation prediction is [[0.50750685]] 1 Yes\n",
      "Processing image: /N/project/pfec_climo/qmnguyen/tc_prediction/binary_datasets/ncep_WP_binary_0h//pos/20170824_00_00_15.3_128.8_2017236N15129.nc\n",
      "Input image dimension is:  (1, 30, 30, 12)\n",
      "1/1 [==============================] - 0s 16ms/step\n"
     ]
    },
    {
     "name": "stderr",
     "output_type": "stream",
     "text": [
      "\r",
      " 41%|██████████████████████████████████████████████████████████████▋                                                                                        | 146/352 [08:44<12:06,  3.53s/it]"
     ]
    },
    {
     "name": "stdout",
     "output_type": "stream",
     "text": [
      "TC formation prediction is [[0.5138771]] 1 Yes\n",
      "Processing image: /N/project/pfec_climo/qmnguyen/tc_prediction/binary_datasets/ncep_WP_binary_0h//pos/20130808_06_00_12.2_137.3_2013220N12137.nc\n",
      "Input image dimension is:  (1, 30, 30, 12)\n",
      "1/1 [==============================] - 0s 16ms/step\n"
     ]
    },
    {
     "name": "stderr",
     "output_type": "stream",
     "text": [
      "\r",
      " 42%|███████████████████████████████████████████████████████████████                                                                                        | 147/352 [08:48<12:06,  3.55s/it]"
     ]
    },
    {
     "name": "stdout",
     "output_type": "stream",
     "text": [
      "TC formation prediction is [[0.5091488]] 1 Yes\n",
      "Processing image: /N/project/pfec_climo/qmnguyen/tc_prediction/binary_datasets/ncep_WP_binary_0h//pos/20160911_12_00_12.4_146.1_2016256N12146.nc\n",
      "Input image dimension is:  (1, 30, 30, 12)\n",
      "1/1 [==============================] - 0s 16ms/step\n"
     ]
    },
    {
     "name": "stderr",
     "output_type": "stream",
     "text": [
      "\r",
      " 42%|███████████████████████████████████████████████████████████████▍                                                                                       | 148/352 [08:52<12:05,  3.56s/it]"
     ]
    },
    {
     "name": "stdout",
     "output_type": "stream",
     "text": [
      "TC formation prediction is [[0.5065552]] 1 Yes\n",
      "Processing image: /N/project/pfec_climo/qmnguyen/tc_prediction/binary_datasets/ncep_WP_binary_0h//pos/20130706_00_00_19.9_156.2_2013187N20156.nc\n",
      "Input image dimension is:  (1, 30, 30, 12)\n",
      "1/1 [==============================] - 0s 20ms/step\n"
     ]
    },
    {
     "name": "stderr",
     "output_type": "stream",
     "text": [
      "\r",
      " 42%|███████████████████████████████████████████████████████████████▉                                                                                       | 149/352 [08:55<12:03,  3.56s/it]"
     ]
    },
    {
     "name": "stdout",
     "output_type": "stream",
     "text": [
      "TC formation prediction is [[0.4994067]] 0 No\n",
      "Processing image: /N/project/pfec_climo/qmnguyen/tc_prediction/binary_datasets/ncep_WP_binary_0h//pos/20200511_18_00_9.6_128.8_2020133N10129.nc\n",
      "Input image dimension is:  (1, 30, 30, 12)\n",
      "1/1 [==============================] - 0s 17ms/step\n"
     ]
    },
    {
     "name": "stderr",
     "output_type": "stream",
     "text": [
      "\r",
      " 43%|████████████████████████████████████████████████████████████████▎                                                                                      | 150/352 [08:59<12:04,  3.59s/it]"
     ]
    },
    {
     "name": "stdout",
     "output_type": "stream",
     "text": [
      "TC formation prediction is [[0.50445783]] 1 Yes\n",
      "Processing image: /N/project/pfec_climo/qmnguyen/tc_prediction/binary_datasets/ncep_WP_binary_0h//pos/20140709_06_00_8.0_154.3_2014190N08154.nc\n",
      "Input image dimension is:  (1, 30, 30, 12)\n",
      "1/1 [==============================] - 0s 17ms/step\n"
     ]
    },
    {
     "name": "stderr",
     "output_type": "stream",
     "text": [
      "\r",
      " 43%|████████████████████████████████████████████████████████████████▊                                                                                      | 151/352 [09:03<12:13,  3.65s/it]"
     ]
    },
    {
     "name": "stdout",
     "output_type": "stream",
     "text": [
      "TC formation prediction is [[0.5055437]] 1 Yes\n",
      "Processing image: /N/project/pfec_climo/qmnguyen/tc_prediction/binary_datasets/ncep_WP_binary_0h//pos/20210810_12_00_12.2_179.0_2021223N12179.nc\n",
      "Input image dimension is:  (1, 30, 30, 12)\n",
      "1/1 [==============================] - 0s 16ms/step\n"
     ]
    },
    {
     "name": "stderr",
     "output_type": "stream",
     "text": [
      "\r",
      " 43%|█████████████████████████████████████████████████████████████████▏                                                                                     | 152/352 [09:06<12:15,  3.68s/it]"
     ]
    },
    {
     "name": "stdout",
     "output_type": "stream",
     "text": [
      "TC formation prediction is [[0.5020938]] 1 Yes\n",
      "Processing image: /N/project/pfec_climo/qmnguyen/tc_prediction/binary_datasets/ncep_WP_binary_0h//pos/20130619_18_00_14.9_116.8_2013171N15117.nc\n",
      "Input image dimension is:  (1, 30, 30, 12)\n",
      "1/1 [==============================] - 0s 16ms/step\n"
     ]
    },
    {
     "name": "stderr",
     "output_type": "stream",
     "text": [
      "\r",
      " 43%|█████████████████████████████████████████████████████████████████▋                                                                                     | 153/352 [09:10<12:08,  3.66s/it]"
     ]
    },
    {
     "name": "stdout",
     "output_type": "stream",
     "text": [
      "TC formation prediction is [[0.51053226]] 1 Yes\n",
      "Processing image: /N/project/pfec_climo/qmnguyen/tc_prediction/binary_datasets/ncep_WP_binary_0h//pos/20180720_12_00_18.0_116.4_2018202N18116.nc\n",
      "Input image dimension is:  (1, 30, 30, 12)\n",
      "1/1 [==============================] - 0s 16ms/step\n"
     ]
    },
    {
     "name": "stderr",
     "output_type": "stream",
     "text": [
      "\r",
      " 44%|██████████████████████████████████████████████████████████████████                                                                                     | 154/352 [09:14<12:10,  3.69s/it]"
     ]
    },
    {
     "name": "stdout",
     "output_type": "stream",
     "text": [
      "TC formation prediction is [[0.5091842]] 1 Yes\n",
      "Processing image: /N/project/pfec_climo/qmnguyen/tc_prediction/binary_datasets/ncep_WP_binary_0h//pos/20200920_12_00_23.9_133.9_2020265N24134.nc\n",
      "Input image dimension is:  (1, 30, 30, 12)\n",
      "1/1 [==============================] - 0s 16ms/step\n"
     ]
    },
    {
     "name": "stderr",
     "output_type": "stream",
     "text": [
      "\r",
      " 44%|██████████████████████████████████████████████████████████████████▍                                                                                    | 155/352 [09:17<12:03,  3.67s/it]"
     ]
    },
    {
     "name": "stdout",
     "output_type": "stream",
     "text": [
      "TC formation prediction is [[0.5010741]] 1 Yes\n",
      "Processing image: /N/project/pfec_climo/qmnguyen/tc_prediction/binary_datasets/ncep_WP_binary_0h//pos/20191004_12_00_15.8_164.6_2019278N16165.nc\n",
      "Input image dimension is:  (1, 30, 30, 12)\n",
      "1/1 [==============================] - 0s 17ms/step\n"
     ]
    },
    {
     "name": "stderr",
     "output_type": "stream",
     "text": [
      "\r",
      " 44%|██████████████████████████████████████████████████████████████████▉                                                                                    | 156/352 [09:21<12:01,  3.68s/it]"
     ]
    },
    {
     "name": "stdout",
     "output_type": "stream",
     "text": [
      "TC formation prediction is [[0.5071374]] 1 Yes\n",
      "Processing image: /N/project/pfec_climo/qmnguyen/tc_prediction/binary_datasets/ncep_WP_binary_0h//pos/20190714_00_00_12.8_136.3_2019195N13136.nc\n",
      "Input image dimension is:  (1, 30, 30, 12)\n",
      "1/1 [==============================] - 0s 17ms/step\n"
     ]
    },
    {
     "name": "stderr",
     "output_type": "stream",
     "text": [
      "\r",
      " 45%|███████████████████████████████████████████████████████████████████▎                                                                                   | 157/352 [09:25<11:57,  3.68s/it]"
     ]
    },
    {
     "name": "stdout",
     "output_type": "stream",
     "text": [
      "TC formation prediction is [[0.50604105]] 1 Yes\n",
      "Processing image: /N/project/pfec_climo/qmnguyen/tc_prediction/binary_datasets/ncep_WP_binary_0h//pos/20140927_18_00_9.5_159.5_2014271N10160.nc\n",
      "Input image dimension is:  (1, 30, 30, 12)\n",
      "1/1 [==============================] - 0s 16ms/step\n"
     ]
    },
    {
     "name": "stderr",
     "output_type": "stream",
     "text": [
      "\r",
      " 45%|███████████████████████████████████████████████████████████████████▊                                                                                   | 158/352 [09:28<11:56,  3.70s/it]"
     ]
    },
    {
     "name": "stdout",
     "output_type": "stream",
     "text": [
      "TC formation prediction is [[0.5118958]] 1 Yes\n",
      "Processing image: /N/project/pfec_climo/qmnguyen/tc_prediction/binary_datasets/ncep_WP_binary_0h//pos/20200926_18_00_20.0_159.4_2020271N20159.nc\n",
      "Input image dimension is:  (1, 30, 30, 12)\n",
      "1/1 [==============================] - 0s 17ms/step\n"
     ]
    },
    {
     "name": "stderr",
     "output_type": "stream",
     "text": [
      "\r",
      " 45%|████████████████████████████████████████████████████████████████████▏                                                                                  | 159/352 [09:32<11:59,  3.73s/it]"
     ]
    },
    {
     "name": "stdout",
     "output_type": "stream",
     "text": [
      "TC formation prediction is [[0.5129006]] 1 Yes\n",
      "Processing image: /N/project/pfec_climo/qmnguyen/tc_prediction/binary_datasets/ncep_WP_binary_0h//pos/20200801_06_00_18.9_108.4_2020214N19108.nc\n",
      "Input image dimension is:  (1, 30, 30, 12)\n",
      "1/1 [==============================] - 0s 16ms/step\n"
     ]
    },
    {
     "name": "stderr",
     "output_type": "stream",
     "text": [
      "\r",
      " 45%|████████████████████████████████████████████████████████████████████▋                                                                                  | 160/352 [09:36<11:50,  3.70s/it]"
     ]
    },
    {
     "name": "stdout",
     "output_type": "stream",
     "text": [
      "TC formation prediction is [[0.5080757]] 1 Yes\n",
      "Processing image: /N/project/pfec_climo/qmnguyen/tc_prediction/binary_datasets/ncep_WP_binary_0h//pos/20160812_00_00_16.0_137.6_2016225N16138.nc\n",
      "Input image dimension is:  (1, 30, 30, 12)\n",
      "1/1 [==============================] - 0s 16ms/step\n"
     ]
    },
    {
     "name": "stderr",
     "output_type": "stream",
     "text": [
      "\r",
      " 46%|█████████████████████████████████████████████████████████████████████                                                                                  | 161/352 [09:40<11:46,  3.70s/it]"
     ]
    },
    {
     "name": "stdout",
     "output_type": "stream",
     "text": [
      "TC formation prediction is [[0.5089777]] 1 Yes\n",
      "Processing image: /N/project/pfec_climo/qmnguyen/tc_prediction/binary_datasets/ncep_WP_binary_0h//pos/20130606_18_00_12.9_128.5_2013158N13129.nc\n",
      "Input image dimension is:  (1, 30, 30, 12)\n",
      "1/1 [==============================] - 0s 17ms/step\n"
     ]
    },
    {
     "name": "stderr",
     "output_type": "stream",
     "text": [
      "\r",
      " 46%|█████████████████████████████████████████████████████████████████████▍                                                                                 | 162/352 [09:43<11:42,  3.70s/it]"
     ]
    },
    {
     "name": "stdout",
     "output_type": "stream",
     "text": [
      "TC formation prediction is [[0.50012416]] 1 Yes\n",
      "Processing image: /N/project/pfec_climo/qmnguyen/tc_prediction/binary_datasets/ncep_WP_binary_0h//pos/20150629_06_00_8.6_160.4_2015180N09160.nc\n",
      "Input image dimension is:  (1, 30, 30, 12)\n",
      "1/1 [==============================] - 0s 16ms/step\n"
     ]
    },
    {
     "name": "stderr",
     "output_type": "stream",
     "text": [
      "\r",
      " 46%|█████████████████████████████████████████████████████████████████████▉                                                                                 | 163/352 [09:47<11:38,  3.70s/it]"
     ]
    },
    {
     "name": "stdout",
     "output_type": "stream",
     "text": [
      "TC formation prediction is [[0.50424826]] 1 Yes\n",
      "Processing image: /N/project/pfec_climo/qmnguyen/tc_prediction/binary_datasets/ncep_WP_binary_0h//pos/20100710_06_00_11.8_137.6_2010191N12138.nc\n",
      "Input image dimension is:  (1, 30, 30, 12)\n",
      "1/1 [==============================] - 0s 16ms/step\n"
     ]
    },
    {
     "name": "stderr",
     "output_type": "stream",
     "text": [
      "\r",
      " 47%|██████████████████████████████████████████████████████████████████████▎                                                                                | 164/352 [09:51<11:33,  3.69s/it]"
     ]
    },
    {
     "name": "stdout",
     "output_type": "stream",
     "text": [
      "TC formation prediction is [[0.5088802]] 1 Yes\n",
      "Processing image: /N/project/pfec_climo/qmnguyen/tc_prediction/binary_datasets/ncep_WP_binary_0h//pos/20171019_06_00_12.7_150.8_2017292N13151.nc\n",
      "Input image dimension is:  (1, 30, 30, 12)\n",
      "1/1 [==============================] - 0s 16ms/step\n"
     ]
    },
    {
     "name": "stderr",
     "output_type": "stream",
     "text": [
      "\r",
      " 47%|██████████████████████████████████████████████████████████████████████▊                                                                                | 165/352 [09:54<11:25,  3.66s/it]"
     ]
    },
    {
     "name": "stdout",
     "output_type": "stream",
     "text": [
      "TC formation prediction is [[0.5066222]] 1 Yes\n",
      "Processing image: /N/project/pfec_climo/qmnguyen/tc_prediction/binary_datasets/ncep_WP_binary_0h//pos/20180908_06_00_20.4_121.7_2018251N20122.nc\n",
      "Input image dimension is:  (1, 30, 30, 12)\n",
      "1/1 [==============================] - 0s 17ms/step\n"
     ]
    },
    {
     "name": "stderr",
     "output_type": "stream",
     "text": [
      "\r",
      " 47%|███████████████████████████████████████████████████████████████████████▏                                                                               | 166/352 [09:58<11:20,  3.66s/it]"
     ]
    },
    {
     "name": "stdout",
     "output_type": "stream",
     "text": [
      "TC formation prediction is [[0.50374377]] 1 Yes\n",
      "Processing image: /N/project/pfec_climo/qmnguyen/tc_prediction/binary_datasets/ncep_WP_binary_0h//pos/20161108_06_00_11.3_162.6_2016313N11163.nc\n",
      "Input image dimension is:  (1, 30, 30, 12)\n",
      "1/1 [==============================] - 0s 17ms/step\n"
     ]
    },
    {
     "name": "stderr",
     "output_type": "stream",
     "text": [
      "\r",
      " 47%|███████████████████████████████████████████████████████████████████████▋                                                                               | 167/352 [10:01<11:15,  3.65s/it]"
     ]
    },
    {
     "name": "stdout",
     "output_type": "stream",
     "text": [
      "TC formation prediction is [[0.506644]] 1 Yes\n",
      "Processing image: /N/project/pfec_climo/qmnguyen/tc_prediction/binary_datasets/ncep_WP_binary_0h//pos/20080909_00_00_28.7_149.5_2008253N29150.nc\n",
      "Input image dimension is:  (1, 30, 30, 12)\n",
      "1/1 [==============================] - 0s 20ms/step\n"
     ]
    },
    {
     "name": "stderr",
     "output_type": "stream",
     "text": [
      "\r",
      " 48%|████████████████████████████████████████████████████████████████████████                                                                               | 168/352 [10:05<11:20,  3.70s/it]"
     ]
    },
    {
     "name": "stdout",
     "output_type": "stream",
     "text": [
      "TC formation prediction is [[0.50786155]] 1 Yes\n",
      "Processing image: /N/project/pfec_climo/qmnguyen/tc_prediction/binary_datasets/ncep_WP_binary_0h//pos/20181120_00_00_4.7_155.3_2018324N05155.nc\n",
      "Input image dimension is:  (1, 30, 30, 12)\n",
      "1/1 [==============================] - 0s 20ms/step\n"
     ]
    },
    {
     "name": "stderr",
     "output_type": "stream",
     "text": [
      "\r",
      " 48%|████████████████████████████████████████████████████████████████████████▍                                                                              | 169/352 [10:09<11:14,  3.69s/it]"
     ]
    },
    {
     "name": "stdout",
     "output_type": "stream",
     "text": [
      "TC formation prediction is [[0.5029841]] 1 Yes\n",
      "Processing image: /N/project/pfec_climo/qmnguyen/tc_prediction/binary_datasets/ncep_WP_binary_0h//pos/20140905_12_00_14.0_118.4_2014249N14118.nc\n",
      "Input image dimension is:  (1, 30, 30, 12)\n",
      "1/1 [==============================] - 0s 19ms/step\n"
     ]
    },
    {
     "name": "stderr",
     "output_type": "stream",
     "text": [
      "\r",
      " 48%|████████████████████████████████████████████████████████████████████████▉                                                                              | 170/352 [10:13<11:17,  3.72s/it]"
     ]
    },
    {
     "name": "stdout",
     "output_type": "stream",
     "text": [
      "TC formation prediction is [[0.5124004]] 1 Yes\n",
      "Processing image: /N/project/pfec_climo/qmnguyen/tc_prediction/binary_datasets/ncep_WP_binary_0h//pos/20191101_12_00_9.6_162.2_2019306N10162.nc\n",
      "Input image dimension is:  (1, 30, 30, 12)\n",
      "1/1 [==============================] - 0s 18ms/step\n"
     ]
    },
    {
     "name": "stderr",
     "output_type": "stream",
     "text": [
      "\r",
      " 49%|█████████████████████████████████████████████████████████████████████████▎                                                                             | 171/352 [10:16<11:09,  3.70s/it]"
     ]
    },
    {
     "name": "stdout",
     "output_type": "stream",
     "text": [
      "TC formation prediction is [[0.5040837]] 1 Yes\n",
      "Processing image: /N/project/pfec_climo/qmnguyen/tc_prediction/binary_datasets/ncep_WP_binary_0h//pos/20180613_00_00_20.9_120.3_2018164N21120.nc\n",
      "Input image dimension is:  (1, 30, 30, 12)\n",
      "1/1 [==============================] - 0s 17ms/step\n"
     ]
    },
    {
     "name": "stderr",
     "output_type": "stream",
     "text": [
      "\r",
      " 49%|█████████████████████████████████████████████████████████████████████████▊                                                                             | 172/352 [10:20<11:04,  3.69s/it]"
     ]
    },
    {
     "name": "stdout",
     "output_type": "stream",
     "text": [
      "TC formation prediction is [[0.502699]] 1 Yes\n",
      "Processing image: /N/project/pfec_climo/qmnguyen/tc_prediction/binary_datasets/ncep_WP_binary_0h//pos/20180602_06_00_12.3_112.6_2018153N12113.nc\n",
      "Input image dimension is:  (1, 30, 30, 12)\n",
      "1/1 [==============================] - 0s 18ms/step\n"
     ]
    },
    {
     "name": "stderr",
     "output_type": "stream",
     "text": [
      "\r",
      " 49%|██████████████████████████████████████████████████████████████████████████▏                                                                            | 173/352 [10:24<11:00,  3.69s/it]"
     ]
    },
    {
     "name": "stdout",
     "output_type": "stream",
     "text": [
      "TC formation prediction is [[0.50619525]] 1 Yes\n",
      "Processing image: /N/project/pfec_climo/qmnguyen/tc_prediction/binary_datasets/ncep_WP_binary_0h//pos/20091018_00_00_15.5_111.2_2009291N16111.nc\n",
      "Input image dimension is:  (1, 30, 30, 12)\n",
      "1/1 [==============================] - 0s 18ms/step\n"
     ]
    },
    {
     "name": "stderr",
     "output_type": "stream",
     "text": [
      "\r",
      " 49%|██████████████████████████████████████████████████████████████████████████▋                                                                            | 174/352 [10:27<10:54,  3.67s/it]"
     ]
    },
    {
     "name": "stdout",
     "output_type": "stream",
     "text": [
      "TC formation prediction is [[0.50284094]] 1 Yes\n",
      "Processing image: /N/project/pfec_climo/qmnguyen/tc_prediction/binary_datasets/ncep_WP_binary_0h//pos/20080825_00_00_12.8_130.0_2008238N13130.nc\n",
      "Input image dimension is:  (1, 30, 30, 12)\n",
      "1/1 [==============================] - 0s 18ms/step\n"
     ]
    },
    {
     "name": "stderr",
     "output_type": "stream",
     "text": [
      "\r",
      " 50%|███████████████████████████████████████████████████████████████████████████                                                                            | 175/352 [10:31<10:56,  3.71s/it]"
     ]
    },
    {
     "name": "stdout",
     "output_type": "stream",
     "text": [
      "TC formation prediction is [[0.50486046]] 1 Yes\n",
      "Processing image: /N/project/pfec_climo/qmnguyen/tc_prediction/binary_datasets/ncep_WP_binary_0h//pos/20191015_00_00_15.8_136.2_2019288N16136.nc\n",
      "Input image dimension is:  (1, 30, 30, 12)\n",
      "1/1 [==============================] - 0s 18ms/step\n"
     ]
    },
    {
     "name": "stderr",
     "output_type": "stream",
     "text": [
      "\r",
      " 50%|███████████████████████████████████████████████████████████████████████████▌                                                                           | 176/352 [10:35<10:50,  3.70s/it]"
     ]
    },
    {
     "name": "stdout",
     "output_type": "stream",
     "text": [
      "TC formation prediction is [[0.5031493]] 1 Yes\n",
      "Processing image: /N/project/pfec_climo/qmnguyen/tc_prediction/binary_datasets/ncep_WP_binary_0h//pos/20120818_12_00_13.2_141.4_2012232N13141.nc\n",
      "Input image dimension is:  (1, 30, 30, 12)\n",
      "1/1 [==============================] - 0s 18ms/step\n"
     ]
    },
    {
     "name": "stderr",
     "output_type": "stream",
     "text": [
      "\r",
      " 50%|███████████████████████████████████████████████████████████████████████████▉                                                                           | 177/352 [10:39<10:46,  3.69s/it]"
     ]
    },
    {
     "name": "stdout",
     "output_type": "stream",
     "text": [
      "TC formation prediction is [[0.5039319]] 1 Yes\n",
      "Processing image: /N/project/pfec_climo/qmnguyen/tc_prediction/binary_datasets/ncep_WP_binary_0h//pos/20130916_00_00_17.3_132.0_2013259N17132.nc\n",
      "Input image dimension is:  (1, 30, 30, 12)\n",
      "1/1 [==============================] - 0s 18ms/step\n"
     ]
    },
    {
     "name": "stderr",
     "output_type": "stream",
     "text": [
      "\r",
      " 51%|████████████████████████████████████████████████████████████████████████████▎                                                                          | 178/352 [10:42<10:43,  3.70s/it]"
     ]
    },
    {
     "name": "stdout",
     "output_type": "stream",
     "text": [
      "TC formation prediction is [[0.50729173]] 1 Yes\n",
      "Processing image: /N/project/pfec_climo/qmnguyen/tc_prediction/binary_datasets/ncep_WP_binary_0h//pos/20200612_00_00_16.0_119.6_2020164N16120.nc\n",
      "Input image dimension is:  (1, 30, 30, 12)\n",
      "1/1 [==============================] - 0s 17ms/step\n"
     ]
    },
    {
     "name": "stderr",
     "output_type": "stream",
     "text": [
      "\r",
      " 51%|████████████████████████████████████████████████████████████████████████████▊                                                                          | 179/352 [10:46<10:41,  3.71s/it]"
     ]
    },
    {
     "name": "stdout",
     "output_type": "stream",
     "text": [
      "TC formation prediction is [[0.5074427]] 1 Yes\n",
      "Processing image: /N/project/pfec_climo/qmnguyen/tc_prediction/binary_datasets/ncep_WP_binary_0h//pos/20180826_18_00_11.0_160.5_2018239N11161.nc\n",
      "Input image dimension is:  (1, 30, 30, 12)\n",
      "1/1 [==============================] - 0s 18ms/step\n"
     ]
    },
    {
     "name": "stderr",
     "output_type": "stream",
     "text": [
      "\r",
      " 51%|█████████████████████████████████████████████████████████████████████████████▏                                                                         | 180/352 [10:50<10:40,  3.73s/it]"
     ]
    },
    {
     "name": "stdout",
     "output_type": "stream",
     "text": [
      "TC formation prediction is [[0.50467235]] 1 Yes\n",
      "Processing image: /N/project/pfec_climo/qmnguyen/tc_prediction/binary_datasets/ncep_WP_binary_0h//pos/20110926_12_00_18.1_139.2_2011270N18139.nc\n",
      "Input image dimension is:  (1, 30, 30, 12)\n",
      "1/1 [==============================] - 0s 20ms/step\n"
     ]
    },
    {
     "name": "stderr",
     "output_type": "stream",
     "text": [
      "\r",
      " 51%|█████████████████████████████████████████████████████████████████████████████▋                                                                         | 181/352 [10:53<10:35,  3.71s/it]"
     ]
    },
    {
     "name": "stdout",
     "output_type": "stream",
     "text": [
      "TC formation prediction is [[0.50424004]] 1 Yes\n",
      "Processing image: /N/project/pfec_climo/qmnguyen/tc_prediction/binary_datasets/ncep_WP_binary_0h//pos/20131101_06_00_7.0_141.0_2013305N07141.nc\n",
      "Input image dimension is:  (1, 30, 30, 12)\n",
      "1/1 [==============================] - 0s 17ms/step\n"
     ]
    },
    {
     "name": "stderr",
     "output_type": "stream",
     "text": [
      "\r",
      " 52%|██████████████████████████████████████████████████████████████████████████████                                                                         | 182/352 [10:57<10:40,  3.77s/it]"
     ]
    },
    {
     "name": "stdout",
     "output_type": "stream",
     "text": [
      "TC formation prediction is [[0.51093304]] 1 Yes\n",
      "Processing image: /N/project/pfec_climo/qmnguyen/tc_prediction/binary_datasets/ncep_WP_binary_0h//pos/20120531_00_00_12.4_129.5_2012152N12130.nc\n",
      "Input image dimension is:  (1, 30, 30, 12)\n",
      "1/1 [==============================] - 0s 16ms/step\n"
     ]
    },
    {
     "name": "stderr",
     "output_type": "stream",
     "text": [
      "\r",
      " 52%|██████████████████████████████████████████████████████████████████████████████▌                                                                        | 183/352 [11:01<10:30,  3.73s/it]"
     ]
    },
    {
     "name": "stdout",
     "output_type": "stream",
     "text": [
      "TC formation prediction is [[0.501899]] 1 Yes\n",
      "Processing image: /N/project/pfec_climo/qmnguyen/tc_prediction/binary_datasets/ncep_WP_binary_0h//pos/20191109_18_00_11.7_172.4_2019314N12172.nc\n",
      "Input image dimension is:  (1, 30, 30, 12)\n",
      "1/1 [==============================] - 0s 17ms/step\n"
     ]
    },
    {
     "name": "stderr",
     "output_type": "stream",
     "text": [
      "\r",
      " 52%|██████████████████████████████████████████████████████████████████████████████▉                                                                        | 184/352 [11:05<10:25,  3.72s/it]"
     ]
    },
    {
     "name": "stdout",
     "output_type": "stream",
     "text": [
      "TC formation prediction is [[0.4987331]] 0 No\n",
      "Processing image: /N/project/pfec_climo/qmnguyen/tc_prediction/binary_datasets/ncep_WP_binary_0h//pos/20120801_12_00_22.7_146.3_2012215N23146.nc\n",
      "Input image dimension is:  (1, 30, 30, 12)\n",
      "1/1 [==============================] - 0s 17ms/step\n"
     ]
    },
    {
     "name": "stderr",
     "output_type": "stream",
     "text": [
      "\r",
      " 53%|███████████████████████████████████████████████████████████████████████████████▎                                                                       | 185/352 [11:08<10:17,  3.70s/it]"
     ]
    },
    {
     "name": "stdout",
     "output_type": "stream",
     "text": [
      "TC formation prediction is [[0.5147486]] 1 Yes\n",
      "Processing image: /N/project/pfec_climo/qmnguyen/tc_prediction/binary_datasets/ncep_WP_binary_0h//pos/20091124_06_00_5.8_107.7_2009328N06108.nc\n",
      "Input image dimension is:  (1, 30, 30, 12)\n",
      "1/1 [==============================] - 0s 16ms/step\n"
     ]
    },
    {
     "name": "stderr",
     "output_type": "stream",
     "text": [
      "\r",
      " 53%|███████████████████████████████████████████████████████████████████████████████▊                                                                       | 186/352 [11:12<10:06,  3.65s/it]"
     ]
    },
    {
     "name": "stdout",
     "output_type": "stream",
     "text": [
      "TC formation prediction is [[0.5147472]] 1 Yes\n",
      "Processing image: /N/project/pfec_climo/qmnguyen/tc_prediction/binary_datasets/ncep_WP_binary_0h//pos/20090925_00_00_14.3_128.4_2009268N14128.nc\n",
      "Input image dimension is:  (1, 30, 30, 12)\n",
      "1/1 [==============================] - 0s 17ms/step\n"
     ]
    },
    {
     "name": "stderr",
     "output_type": "stream",
     "text": [
      "\r",
      " 53%|████████████████████████████████████████████████████████████████████████████████▏                                                                      | 187/352 [11:16<10:01,  3.65s/it]"
     ]
    },
    {
     "name": "stdout",
     "output_type": "stream",
     "text": [
      "TC formation prediction is [[0.50224763]] 1 Yes\n",
      "Processing image: /N/project/pfec_climo/qmnguyen/tc_prediction/binary_datasets/ncep_WP_binary_0h//pos/20171031_00_00_11.1_127.3_2017304N11127.nc\n",
      "Input image dimension is:  (1, 30, 30, 12)\n",
      "1/1 [==============================] - 0s 16ms/step\n"
     ]
    },
    {
     "name": "stderr",
     "output_type": "stream",
     "text": [
      "\r",
      " 53%|████████████████████████████████████████████████████████████████████████████████▋                                                                      | 188/352 [11:19<09:56,  3.64s/it]"
     ]
    },
    {
     "name": "stdout",
     "output_type": "stream",
     "text": [
      "TC formation prediction is [[0.5017576]] 1 Yes\n",
      "Processing image: /N/project/pfec_climo/qmnguyen/tc_prediction/binary_datasets/ncep_WP_binary_0h//pos/20110901_18_00_21.4_150.3_2011245N21150.nc\n",
      "Input image dimension is:  (1, 30, 30, 12)\n",
      "1/1 [==============================] - 0s 17ms/step\n"
     ]
    },
    {
     "name": "stderr",
     "output_type": "stream",
     "text": [
      "\r",
      " 54%|█████████████████████████████████████████████████████████████████████████████████                                                                      | 189/352 [11:23<09:53,  3.64s/it]"
     ]
    },
    {
     "name": "stdout",
     "output_type": "stream",
     "text": [
      "TC formation prediction is [[0.50821865]] 1 Yes\n",
      "Processing image: /N/project/pfec_climo/qmnguyen/tc_prediction/binary_datasets/ncep_WP_binary_0h//pos/20130616_06_00_11.9_128.1_2013167N12128.nc\n",
      "Input image dimension is:  (1, 30, 30, 12)\n",
      "1/1 [==============================] - 0s 16ms/step\n"
     ]
    },
    {
     "name": "stderr",
     "output_type": "stream",
     "text": [
      "\r",
      " 54%|█████████████████████████████████████████████████████████████████████████████████▌                                                                     | 190/352 [11:26<09:50,  3.65s/it]"
     ]
    },
    {
     "name": "stdout",
     "output_type": "stream",
     "text": [
      "TC formation prediction is [[0.508007]] 1 Yes\n",
      "Processing image: /N/project/pfec_climo/qmnguyen/tc_prediction/binary_datasets/ncep_WP_binary_0h//pos/20190819_00_00_12.6_135.1_2019231N13135.nc\n",
      "Input image dimension is:  (1, 30, 30, 12)\n",
      "1/1 [==============================] - 0s 17ms/step\n"
     ]
    },
    {
     "name": "stderr",
     "output_type": "stream",
     "text": [
      "\r",
      " 54%|█████████████████████████████████████████████████████████████████████████████████▉                                                                     | 191/352 [11:30<09:46,  3.64s/it]"
     ]
    },
    {
     "name": "stdout",
     "output_type": "stream",
     "text": [
      "TC formation prediction is [[0.5027278]] 1 Yes\n",
      "Processing image: /N/project/pfec_climo/qmnguyen/tc_prediction/binary_datasets/ncep_WP_binary_0h//pos/20080803_12_00_19.0_120.3_2008217N19120.nc\n",
      "Input image dimension is:  (1, 30, 30, 12)\n",
      "1/1 [==============================] - 0s 17ms/step\n"
     ]
    },
    {
     "name": "stderr",
     "output_type": "stream",
     "text": [
      "\r",
      " 55%|██████████████████████████████████████████████████████████████████████████████████▎                                                                    | 192/352 [11:34<09:46,  3.66s/it]"
     ]
    },
    {
     "name": "stdout",
     "output_type": "stream",
     "text": [
      "TC formation prediction is [[0.5033429]] 1 Yes\n",
      "Processing image: /N/project/pfec_climo/qmnguyen/tc_prediction/binary_datasets/ncep_WP_binary_0h//pos/20090826_06_00_20.1_151.1_2009238N20151.nc\n",
      "Input image dimension is:  (1, 30, 30, 12)\n",
      "1/1 [==============================] - 0s 16ms/step\n"
     ]
    },
    {
     "name": "stderr",
     "output_type": "stream",
     "text": [
      "\r",
      " 55%|██████████████████████████████████████████████████████████████████████████████████▊                                                                    | 193/352 [11:37<09:38,  3.64s/it]"
     ]
    },
    {
     "name": "stdout",
     "output_type": "stream",
     "text": [
      "TC formation prediction is [[0.51019984]] 1 Yes\n",
      "Processing image: /N/project/pfec_climo/qmnguyen/tc_prediction/binary_datasets/ncep_WP_binary_0h//pos/20100718_12_00_25.7_126.5_2010200N26127.nc\n",
      "Input image dimension is:  (1, 30, 30, 12)\n",
      "1/1 [==============================] - 0s 16ms/step\n"
     ]
    },
    {
     "name": "stderr",
     "output_type": "stream",
     "text": [
      "\r",
      " 55%|███████████████████████████████████████████████████████████████████████████████████▏                                                                   | 194/352 [11:41<09:28,  3.60s/it]"
     ]
    },
    {
     "name": "stdout",
     "output_type": "stream",
     "text": [
      "TC formation prediction is [[0.5100652]] 1 Yes\n",
      "Processing image: /N/project/pfec_climo/qmnguyen/tc_prediction/binary_datasets/ncep_WP_binary_0h//pos/20111009_00_00_8.0_136.3_2011282N08136.nc\n",
      "Input image dimension is:  (1, 30, 30, 12)\n",
      "1/1 [==============================] - 0s 16ms/step\n"
     ]
    },
    {
     "name": "stderr",
     "output_type": "stream",
     "text": [
      "\r",
      " 55%|███████████████████████████████████████████████████████████████████████████████████▋                                                                   | 195/352 [11:45<09:31,  3.64s/it]"
     ]
    },
    {
     "name": "stdout",
     "output_type": "stream",
     "text": [
      "TC formation prediction is [[0.50650394]] 1 Yes\n",
      "Processing image: /N/project/pfec_climo/qmnguyen/tc_prediction/binary_datasets/ncep_WP_binary_0h//pos/20100806_00_00_19.7_126.6_2010218N20127.nc\n",
      "Input image dimension is:  (1, 30, 30, 12)\n",
      "1/1 [==============================] - 0s 16ms/step\n"
     ]
    },
    {
     "name": "stderr",
     "output_type": "stream",
     "text": [
      "\r",
      " 56%|████████████████████████████████████████████████████████████████████████████████████                                                                   | 196/352 [11:48<09:24,  3.62s/it]"
     ]
    },
    {
     "name": "stdout",
     "output_type": "stream",
     "text": [
      "TC formation prediction is [[0.50741947]] 1 Yes\n",
      "Processing image: /N/project/pfec_climo/qmnguyen/tc_prediction/binary_datasets/ncep_WP_binary_0h//pos/20120616_06_00_19.1_112.1_2012168N19112.nc\n",
      "Input image dimension is:  (1, 30, 30, 12)\n",
      "1/1 [==============================] - 0s 16ms/step\n"
     ]
    },
    {
     "name": "stderr",
     "output_type": "stream",
     "text": [
      "\r",
      " 56%|████████████████████████████████████████████████████████████████████████████████████▌                                                                  | 197/352 [11:52<09:16,  3.59s/it]"
     ]
    },
    {
     "name": "stdout",
     "output_type": "stream",
     "text": [
      "TC formation prediction is [[0.49974763]] 0 No\n",
      "Processing image: /N/project/pfec_climo/qmnguyen/tc_prediction/binary_datasets/ncep_WP_binary_0h//pos/20160908_18_00_13.2_143.8_2016253N13144.nc\n",
      "Input image dimension is:  (1, 30, 30, 12)\n",
      "1/1 [==============================] - 0s 16ms/step\n"
     ]
    },
    {
     "name": "stderr",
     "output_type": "stream",
     "text": [
      "\r",
      " 56%|████████████████████████████████████████████████████████████████████████████████████▉                                                                  | 198/352 [11:55<09:09,  3.57s/it]"
     ]
    },
    {
     "name": "stdout",
     "output_type": "stream",
     "text": [
      "TC formation prediction is [[0.50616604]] 1 Yes\n",
      "Processing image: /N/project/pfec_climo/qmnguyen/tc_prediction/binary_datasets/ncep_WP_binary_0h//pos/20180802_00_00_18.5_152.8_2018214N19153.nc\n",
      "Input image dimension is:  (1, 30, 30, 12)\n",
      "1/1 [==============================] - 0s 16ms/step\n"
     ]
    },
    {
     "name": "stderr",
     "output_type": "stream",
     "text": [
      "\r",
      " 57%|█████████████████████████████████████████████████████████████████████████████████████▎                                                                 | 199/352 [11:59<09:04,  3.56s/it]"
     ]
    },
    {
     "name": "stdout",
     "output_type": "stream",
     "text": [
      "TC formation prediction is [[0.51549983]] 1 Yes\n",
      "Processing image: /N/project/pfec_climo/qmnguyen/tc_prediction/binary_datasets/ncep_WP_binary_0h//pos/20110519_18_00_8.3_141.6_2011140N08142.nc\n",
      "Input image dimension is:  (1, 30, 30, 12)\n",
      "1/1 [==============================] - 0s 17ms/step\n"
     ]
    },
    {
     "name": "stderr",
     "output_type": "stream",
     "text": [
      "\r",
      " 57%|█████████████████████████████████████████████████████████████████████████████████████▊                                                                 | 200/352 [12:02<09:01,  3.56s/it]"
     ]
    },
    {
     "name": "stdout",
     "output_type": "stream",
     "text": [
      "TC formation prediction is [[0.50099194]] 1 Yes\n",
      "Processing image: /N/project/pfec_climo/qmnguyen/tc_prediction/binary_datasets/ncep_WP_binary_0h//pos/20101011_12_00_12.7_145.0_2010285N13145.nc\n",
      "Input image dimension is:  (1, 30, 30, 12)\n",
      "1/1 [==============================] - 0s 16ms/step\n"
     ]
    },
    {
     "name": "stderr",
     "output_type": "stream",
     "text": [
      "\r",
      " 57%|██████████████████████████████████████████████████████████████████████████████████████▏                                                                | 201/352 [12:06<09:01,  3.58s/it]"
     ]
    },
    {
     "name": "stdout",
     "output_type": "stream",
     "text": [
      "TC formation prediction is [[0.5029331]] 1 Yes\n",
      "Processing image: /N/project/pfec_climo/qmnguyen/tc_prediction/binary_datasets/ncep_WP_binary_0h//pos/20101019_12_00_12.9_165.3_2010293N13165.nc\n",
      "Input image dimension is:  (1, 30, 30, 12)\n",
      "1/1 [==============================] - 0s 16ms/step\n"
     ]
    },
    {
     "name": "stderr",
     "output_type": "stream",
     "text": [
      "\r",
      " 57%|██████████████████████████████████████████████████████████████████████████████████████▋                                                                | 202/352 [12:09<08:54,  3.56s/it]"
     ]
    },
    {
     "name": "stdout",
     "output_type": "stream",
     "text": [
      "TC formation prediction is [[0.50701565]] 1 Yes\n",
      "Processing image: /N/project/pfec_climo/qmnguyen/tc_prediction/binary_datasets/ncep_WP_binary_0h//pos/20200911_18_00_30.9_138.2_2020256N31138.nc\n",
      "Input image dimension is:  (1, 30, 30, 12)\n",
      "1/1 [==============================] - 0s 16ms/step\n"
     ]
    },
    {
     "name": "stderr",
     "output_type": "stream",
     "text": [
      "\r",
      " 58%|███████████████████████████████████████████████████████████████████████████████████████                                                                | 203/352 [12:13<08:48,  3.55s/it]"
     ]
    },
    {
     "name": "stdout",
     "output_type": "stream",
     "text": [
      "TC formation prediction is [[0.50284284]] 1 Yes\n",
      "Processing image: /N/project/pfec_climo/qmnguyen/tc_prediction/binary_datasets/ncep_WP_binary_0h//pos/20160816_18_00_25.0_160.2_2016230N25160.nc\n",
      "Input image dimension is:  (1, 30, 30, 12)\n",
      "1/1 [==============================] - 0s 16ms/step\n"
     ]
    },
    {
     "name": "stderr",
     "output_type": "stream",
     "text": [
      "\r",
      " 58%|███████████████████████████████████████████████████████████████████████████████████████▌                                                               | 204/352 [12:17<08:49,  3.58s/it]"
     ]
    },
    {
     "name": "stdout",
     "output_type": "stream",
     "text": [
      "TC formation prediction is [[0.49619645]] 0 No\n",
      "Processing image: /N/project/pfec_climo/qmnguyen/tc_prediction/binary_datasets/ncep_WP_binary_0h//pos/20110710_18_00_17.9_158.3_2011192N18158.nc\n",
      "Input image dimension is:  (1, 30, 30, 12)\n",
      "1/1 [==============================] - 0s 16ms/step\n"
     ]
    },
    {
     "name": "stderr",
     "output_type": "stream",
     "text": [
      "\r",
      " 58%|███████████████████████████████████████████████████████████████████████████████████████▉                                                               | 205/352 [12:20<08:46,  3.58s/it]"
     ]
    },
    {
     "name": "stdout",
     "output_type": "stream",
     "text": [
      "TC formation prediction is [[0.50269824]] 1 Yes\n",
      "Processing image: /N/project/pfec_climo/qmnguyen/tc_prediction/binary_datasets/ncep_WP_binary_0h//pos/20130829_00_00_29.2_169.1_2013241N29169.nc\n",
      "Input image dimension is:  (1, 30, 30, 12)\n",
      "1/1 [==============================] - 0s 16ms/step\n"
     ]
    },
    {
     "name": "stderr",
     "output_type": "stream",
     "text": [
      "\r",
      " 59%|████████████████████████████████████████████████████████████████████████████████████████▎                                                              | 206/352 [12:24<08:39,  3.56s/it]"
     ]
    },
    {
     "name": "stdout",
     "output_type": "stream",
     "text": [
      "TC formation prediction is [[0.51192087]] 1 Yes\n",
      "Processing image: /N/project/pfec_climo/qmnguyen/tc_prediction/binary_datasets/ncep_WP_binary_0h//pos/20160909_06_00_26.3_151.9_2016253N26152.nc\n",
      "Input image dimension is:  (1, 30, 30, 12)\n",
      "1/1 [==============================] - 0s 16ms/step\n"
     ]
    },
    {
     "name": "stderr",
     "output_type": "stream",
     "text": [
      "\r",
      " 59%|████████████████████████████████████████████████████████████████████████████████████████▊                                                              | 207/352 [12:27<08:35,  3.56s/it]"
     ]
    },
    {
     "name": "stdout",
     "output_type": "stream",
     "text": [
      "TC formation prediction is [[0.501843]] 1 Yes\n",
      "Processing image: /N/project/pfec_climo/qmnguyen/tc_prediction/binary_datasets/ncep_WP_binary_0h//pos/20090902_18_00_17.6_130.1_2009246N18130.nc\n",
      "Input image dimension is:  (1, 30, 30, 12)\n",
      "1/1 [==============================] - 0s 17ms/step\n"
     ]
    },
    {
     "name": "stderr",
     "output_type": "stream",
     "text": [
      "\r",
      " 59%|█████████████████████████████████████████████████████████████████████████████████████████▏                                                             | 208/352 [12:31<08:29,  3.54s/it]"
     ]
    },
    {
     "name": "stdout",
     "output_type": "stream",
     "text": [
      "TC formation prediction is [[0.50629556]] 1 Yes\n",
      "Processing image: /N/project/pfec_climo/qmnguyen/tc_prediction/binary_datasets/ncep_WP_binary_0h//pos/20080816_00_00_13.2_146.8_2008229N13147.nc\n",
      "Input image dimension is:  (1, 30, 30, 12)\n",
      "1/1 [==============================] - 0s 17ms/step\n"
     ]
    },
    {
     "name": "stderr",
     "output_type": "stream",
     "text": [
      "\r",
      " 59%|█████████████████████████████████████████████████████████████████████████████████████████▋                                                             | 209/352 [12:34<08:27,  3.55s/it]"
     ]
    },
    {
     "name": "stdout",
     "output_type": "stream",
     "text": [
      "TC formation prediction is [[0.50543547]] 1 Yes\n",
      "Processing image: /N/project/pfec_climo/qmnguyen/tc_prediction/binary_datasets/ncep_WP_binary_0h//pos/20131015_12_00_13.9_148.7_2013289N14149.nc\n",
      "Input image dimension is:  (1, 30, 30, 12)\n",
      "1/1 [==============================] - 0s 16ms/step\n"
     ]
    },
    {
     "name": "stderr",
     "output_type": "stream",
     "text": [
      "\r",
      " 60%|██████████████████████████████████████████████████████████████████████████████████████████                                                             | 210/352 [12:38<08:24,  3.55s/it]"
     ]
    },
    {
     "name": "stdout",
     "output_type": "stream",
     "text": [
      "TC formation prediction is [[0.51120216]] 1 Yes\n",
      "Processing image: /N/project/pfec_climo/qmnguyen/tc_prediction/binary_datasets/ncep_WP_binary_0h//pos/20151019_18_00_16.2_164.1_2015293N16164.nc\n",
      "Input image dimension is:  (1, 30, 30, 12)\n",
      "1/1 [==============================] - 0s 16ms/step\n"
     ]
    },
    {
     "name": "stderr",
     "output_type": "stream",
     "text": [
      "\r",
      " 60%|██████████████████████████████████████████████████████████████████████████████████████████▌                                                            | 211/352 [12:41<08:20,  3.55s/it]"
     ]
    },
    {
     "name": "stdout",
     "output_type": "stream",
     "text": [
      "TC formation prediction is [[0.5084451]] 1 Yes\n",
      "Processing image: /N/project/pfec_climo/qmnguyen/tc_prediction/binary_datasets/ncep_WP_binary_0h//pos/20141130_06_00_2.1_156.4_2014334N02156.nc\n",
      "Input image dimension is:  (1, 30, 30, 12)\n",
      "1/1 [==============================] - 0s 16ms/step\n"
     ]
    },
    {
     "name": "stderr",
     "output_type": "stream",
     "text": [
      "\r",
      " 60%|██████████████████████████████████████████████████████████████████████████████████████████▉                                                            | 212/352 [12:45<08:18,  3.56s/it]"
     ]
    },
    {
     "name": "stdout",
     "output_type": "stream",
     "text": [
      "TC formation prediction is [[0.49978718]] 0 No\n",
      "Processing image: /N/project/pfec_climo/qmnguyen/tc_prediction/binary_datasets/ncep_WP_binary_0h//pos/20201028_00_00_16.6_140.1_2020302N17140.nc\n",
      "Input image dimension is:  (1, 30, 30, 12)\n",
      "1/1 [==============================] - 0s 16ms/step\n"
     ]
    },
    {
     "name": "stderr",
     "output_type": "stream",
     "text": [
      "\r",
      " 61%|███████████████████████████████████████████████████████████████████████████████████████████▎                                                           | 213/352 [12:49<08:17,  3.58s/it]"
     ]
    },
    {
     "name": "stdout",
     "output_type": "stream",
     "text": [
      "TC formation prediction is [[0.49864945]] 0 No\n",
      "Processing image: /N/project/pfec_climo/qmnguyen/tc_prediction/binary_datasets/ncep_WP_binary_0h//pos/20210621_00_00_11.2_147.4_2021172N11147.nc\n",
      "Input image dimension is:  (1, 30, 30, 12)\n",
      "1/1 [==============================] - 0s 16ms/step\n"
     ]
    },
    {
     "name": "stderr",
     "output_type": "stream",
     "text": [
      "\r",
      " 61%|███████████████████████████████████████████████████████████████████████████████████████████▊                                                           | 214/352 [12:52<08:11,  3.56s/it]"
     ]
    },
    {
     "name": "stdout",
     "output_type": "stream",
     "text": [
      "TC formation prediction is [[0.5073765]] 1 Yes\n",
      "Processing image: /N/project/pfec_climo/qmnguyen/tc_prediction/binary_datasets/ncep_WP_binary_0h//pos/20150502_06_00_7.4_144.1_2015122N07144.nc\n",
      "Input image dimension is:  (1, 30, 30, 12)\n",
      "1/1 [==============================] - 0s 16ms/step\n"
     ]
    },
    {
     "name": "stderr",
     "output_type": "stream",
     "text": [
      "\r",
      " 61%|████████████████████████████████████████████████████████████████████████████████████████████▏                                                          | 215/352 [12:56<08:10,  3.58s/it]"
     ]
    },
    {
     "name": "stdout",
     "output_type": "stream",
     "text": [
      "TC formation prediction is [[0.5062262]] 1 Yes\n",
      "Processing image: /N/project/pfec_climo/qmnguyen/tc_prediction/binary_datasets/ncep_WP_binary_0h//pos/20131019_00_00_9.3_162.4_2013292N09162.nc\n",
      "Input image dimension is:  (1, 30, 30, 12)\n",
      "1/1 [==============================] - 0s 17ms/step\n"
     ]
    },
    {
     "name": "stderr",
     "output_type": "stream",
     "text": [
      "\r",
      " 61%|████████████████████████████████████████████████████████████████████████████████████████████▋                                                          | 216/352 [12:59<08:07,  3.58s/it]"
     ]
    },
    {
     "name": "stdout",
     "output_type": "stream",
     "text": [
      "TC formation prediction is [[0.50247973]] 1 Yes\n",
      "Processing image: /N/project/pfec_climo/qmnguyen/tc_prediction/binary_datasets/ncep_WP_binary_0h//pos/20190801_00_00_17.4_154.7_2019213N17155.nc\n",
      "Input image dimension is:  (1, 30, 30, 12)\n",
      "1/1 [==============================] - 0s 16ms/step\n"
     ]
    },
    {
     "name": "stderr",
     "output_type": "stream",
     "text": [
      "\r",
      " 62%|█████████████████████████████████████████████████████████████████████████████████████████████                                                          | 217/352 [13:03<08:01,  3.57s/it]"
     ]
    },
    {
     "name": "stdout",
     "output_type": "stream",
     "text": [
      "TC formation prediction is [[0.5080795]] 1 Yes\n",
      "Processing image: /N/project/pfec_climo/qmnguyen/tc_prediction/binary_datasets/ncep_WP_binary_0h//pos/20181107_00_00_7.3_179.0_2018311N07179.nc\n",
      "Input image dimension is:  (1, 30, 30, 12)\n",
      "1/1 [==============================] - 0s 17ms/step\n"
     ]
    },
    {
     "name": "stderr",
     "output_type": "stream",
     "text": [
      "\r",
      " 62%|█████████████████████████████████████████████████████████████████████████████████████████████▌                                                         | 218/352 [13:07<08:05,  3.62s/it]"
     ]
    },
    {
     "name": "stdout",
     "output_type": "stream",
     "text": [
      "TC formation prediction is [[0.49105188]] 0 No\n",
      "Processing image: /N/project/pfec_climo/qmnguyen/tc_prediction/binary_datasets/ncep_WP_binary_0h//pos/20200809_12_00_26.1_147.6_2020223N26148.nc\n",
      "Input image dimension is:  (1, 30, 30, 12)\n",
      "1/1 [==============================] - 0s 16ms/step\n"
     ]
    },
    {
     "name": "stderr",
     "output_type": "stream",
     "text": [
      "\r",
      " 62%|█████████████████████████████████████████████████████████████████████████████████████████████▉                                                         | 219/352 [13:10<08:00,  3.61s/it]"
     ]
    },
    {
     "name": "stdout",
     "output_type": "stream",
     "text": [
      "TC formation prediction is [[0.50328964]] 1 Yes\n",
      "Processing image: /N/project/pfec_climo/qmnguyen/tc_prediction/binary_datasets/ncep_WP_binary_0h//pos/20140910_12_00_9.9_142.4_2014254N10142.nc\n",
      "Input image dimension is:  (1, 30, 30, 12)\n",
      "1/1 [==============================] - 0s 16ms/step\n"
     ]
    },
    {
     "name": "stderr",
     "output_type": "stream",
     "text": [
      "\r",
      " 62%|██████████████████████████████████████████████████████████████████████████████████████████████▍                                                        | 220/352 [13:14<07:59,  3.63s/it]"
     ]
    },
    {
     "name": "stdout",
     "output_type": "stream",
     "text": [
      "TC formation prediction is [[0.50434077]] 1 Yes\n",
      "Processing image: /N/project/pfec_climo/qmnguyen/tc_prediction/binary_datasets/ncep_WP_binary_0h//pos/20090815_18_00_11.4_162.5_2009228N11163.nc\n",
      "Input image dimension is:  (1, 30, 30, 12)\n",
      "1/1 [==============================] - 0s 16ms/step\n"
     ]
    },
    {
     "name": "stderr",
     "output_type": "stream",
     "text": [
      "\r",
      " 63%|██████████████████████████████████████████████████████████████████████████████████████████████▊                                                        | 221/352 [13:18<07:54,  3.62s/it]"
     ]
    },
    {
     "name": "stdout",
     "output_type": "stream",
     "text": [
      "TC formation prediction is [[0.5054842]] 1 Yes\n",
      "Processing image: /N/project/pfec_climo/qmnguyen/tc_prediction/binary_datasets/ncep_WP_binary_0h//pos/20150905_12_00_17.9_141.5_2015249N18142.nc\n",
      "Input image dimension is:  (1, 30, 30, 12)\n",
      "1/1 [==============================] - 0s 16ms/step\n"
     ]
    },
    {
     "name": "stderr",
     "output_type": "stream",
     "text": [
      "\r",
      " 63%|███████████████████████████████████████████████████████████████████████████████████████████████▏                                                       | 222/352 [13:21<07:55,  3.66s/it]"
     ]
    },
    {
     "name": "stdout",
     "output_type": "stream",
     "text": [
      "TC formation prediction is [[0.50508636]] 1 Yes\n",
      "Processing image: /N/project/pfec_climo/qmnguyen/tc_prediction/binary_datasets/ncep_WP_binary_0h//pos/20210805_00_00_31.6_147.4_2021217N32147.nc\n",
      "Input image dimension is:  (1, 30, 30, 12)\n",
      "1/1 [==============================] - 0s 16ms/step\n"
     ]
    },
    {
     "name": "stderr",
     "output_type": "stream",
     "text": [
      "\r",
      " 63%|███████████████████████████████████████████████████████████████████████████████████████████████▋                                                       | 223/352 [13:25<07:49,  3.64s/it]"
     ]
    },
    {
     "name": "stdout",
     "output_type": "stream",
     "text": [
      "TC formation prediction is [[0.49788314]] 0 No\n",
      "Processing image: /N/project/pfec_climo/qmnguyen/tc_prediction/binary_datasets/ncep_WP_binary_0h//pos/20191124_12_00_8.6_159.7_2019329N09160.nc\n",
      "Input image dimension is:  (1, 30, 30, 12)\n",
      "1/1 [==============================] - 0s 17ms/step\n"
     ]
    },
    {
     "name": "stderr",
     "output_type": "stream",
     "text": [
      "\r",
      " 64%|████████████████████████████████████████████████████████████████████████████████████████████████                                                       | 224/352 [13:29<07:45,  3.64s/it]"
     ]
    },
    {
     "name": "stdout",
     "output_type": "stream",
     "text": [
      "TC formation prediction is [[0.50631386]] 1 Yes\n",
      "Processing image: /N/project/pfec_climo/qmnguyen/tc_prediction/binary_datasets/ncep_WP_binary_0h//pos/20190724_00_00_23.1_136.8_2019205N23137.nc\n",
      "Input image dimension is:  (1, 30, 30, 12)\n",
      "1/1 [==============================] - 0s 16ms/step\n"
     ]
    },
    {
     "name": "stderr",
     "output_type": "stream",
     "text": [
      "\r",
      " 64%|████████████████████████████████████████████████████████████████████████████████████████████████▌                                                      | 225/352 [13:32<07:36,  3.60s/it]"
     ]
    },
    {
     "name": "stdout",
     "output_type": "stream",
     "text": [
      "TC formation prediction is [[0.5011829]] 1 Yes\n",
      "Processing image: /N/project/pfec_climo/qmnguyen/tc_prediction/binary_datasets/ncep_WP_binary_0h//pos/20160816_18_00_15.4_138.1_2016230N15138.nc\n",
      "Input image dimension is:  (1, 30, 30, 12)\n",
      "1/1 [==============================] - 0s 16ms/step\n"
     ]
    },
    {
     "name": "stderr",
     "output_type": "stream",
     "text": [
      "\r",
      " 64%|████████████████████████████████████████████████████████████████████████████████████████████████▉                                                      | 226/352 [13:36<07:33,  3.60s/it]"
     ]
    },
    {
     "name": "stdout",
     "output_type": "stream",
     "text": [
      "TC formation prediction is [[0.51182014]] 1 Yes\n",
      "Processing image: /N/project/pfec_climo/qmnguyen/tc_prediction/binary_datasets/ncep_WP_binary_0h//pos/20210717_00_00_20.5_133.5_2021198N21134.nc\n",
      "Input image dimension is:  (1, 30, 30, 12)\n",
      "1/1 [==============================] - 0s 16ms/step\n"
     ]
    },
    {
     "name": "stderr",
     "output_type": "stream",
     "text": [
      "\r",
      " 64%|█████████████████████████████████████████████████████████████████████████████████████████████████▍                                                     | 227/352 [13:39<07:29,  3.59s/it]"
     ]
    },
    {
     "name": "stdout",
     "output_type": "stream",
     "text": [
      "TC formation prediction is [[0.5067711]] 1 Yes\n",
      "Processing image: /N/project/pfec_climo/qmnguyen/tc_prediction/binary_datasets/ncep_WP_binary_0h//pos/20100829_00_00_24.9_124.5_2010241N25125.nc\n",
      "Input image dimension is:  (1, 30, 30, 12)\n",
      "1/1 [==============================] - 0s 16ms/step\n"
     ]
    },
    {
     "name": "stderr",
     "output_type": "stream",
     "text": [
      "\r",
      " 65%|█████████████████████████████████████████████████████████████████████████████████████████████████▊                                                     | 228/352 [13:43<07:26,  3.60s/it]"
     ]
    },
    {
     "name": "stdout",
     "output_type": "stream",
     "text": [
      "TC formation prediction is [[0.50924724]] 1 Yes\n",
      "Processing image: /N/project/pfec_climo/qmnguyen/tc_prediction/binary_datasets/ncep_WP_binary_0h//pos/20160802_12_00_16.7_148.8_2016216N17149.nc\n",
      "Input image dimension is:  (1, 30, 30, 12)\n",
      "1/1 [==============================] - 0s 16ms/step\n"
     ]
    },
    {
     "name": "stderr",
     "output_type": "stream",
     "text": [
      "\r",
      " 65%|██████████████████████████████████████████████████████████████████████████████████████████████████▏                                                    | 229/352 [13:46<07:25,  3.62s/it]"
     ]
    },
    {
     "name": "stdout",
     "output_type": "stream",
     "text": [
      "TC formation prediction is [[0.5065854]] 1 Yes\n",
      "Processing image: /N/project/pfec_climo/qmnguyen/tc_prediction/binary_datasets/ncep_WP_binary_0h//pos/20190830_12_00_6.4_136.0_2019243N06136.nc\n",
      "Input image dimension is:  (1, 30, 30, 12)\n",
      "1/1 [==============================] - 0s 16ms/step\n"
     ]
    },
    {
     "name": "stderr",
     "output_type": "stream",
     "text": [
      "\r",
      " 65%|██████████████████████████████████████████████████████████████████████████████████████████████████▋                                                    | 230/352 [13:50<07:27,  3.67s/it]"
     ]
    },
    {
     "name": "stdout",
     "output_type": "stream",
     "text": [
      "TC formation prediction is [[0.50184745]] 1 Yes\n",
      "Processing image: /N/project/pfec_climo/qmnguyen/tc_prediction/binary_datasets/ncep_WP_binary_0h//pos/20150722_00_00_16.3_125.5_2015203N16126.nc\n",
      "Input image dimension is:  (1, 30, 30, 12)\n",
      "1/1 [==============================] - 0s 16ms/step\n"
     ]
    },
    {
     "name": "stderr",
     "output_type": "stream",
     "text": [
      "\r",
      " 66%|███████████████████████████████████████████████████████████████████████████████████████████████████                                                    | 231/352 [13:54<07:21,  3.65s/it]"
     ]
    },
    {
     "name": "stdout",
     "output_type": "stream",
     "text": [
      "TC formation prediction is [[0.5073393]] 1 Yes\n",
      "Processing image: /N/project/pfec_climo/qmnguyen/tc_prediction/binary_datasets/ncep_WP_binary_0h//pos/20121112_00_00_6.5_118.1_2012317N07118.nc\n",
      "Input image dimension is:  (1, 30, 30, 12)\n",
      "1/1 [==============================] - 0s 16ms/step\n"
     ]
    },
    {
     "name": "stderr",
     "output_type": "stream",
     "text": [
      "\r",
      " 66%|███████████████████████████████████████████████████████████████████████████████████████████████████▌                                                   | 232/352 [13:57<07:17,  3.64s/it]"
     ]
    },
    {
     "name": "stdout",
     "output_type": "stream",
     "text": [
      "TC formation prediction is [[0.50330114]] 1 Yes\n",
      "Processing image: /N/project/pfec_climo/qmnguyen/tc_prediction/binary_datasets/ncep_WP_binary_0h//pos/20180627_12_00_18.7_134.0_2018179N19134.nc\n",
      "Input image dimension is:  (1, 30, 30, 12)\n",
      "1/1 [==============================] - 0s 16ms/step\n"
     ]
    },
    {
     "name": "stderr",
     "output_type": "stream",
     "text": [
      "\r",
      " 66%|███████████████████████████████████████████████████████████████████████████████████████████████████▉                                                   | 233/352 [14:01<07:15,  3.66s/it]"
     ]
    },
    {
     "name": "stdout",
     "output_type": "stream",
     "text": [
      "TC formation prediction is [[0.50630915]] 1 Yes\n",
      "Processing image: /N/project/pfec_climo/qmnguyen/tc_prediction/binary_datasets/ncep_WP_binary_0h//pos/20090502_18_00_9.7_111.1_2009123N10111.nc\n",
      "Input image dimension is:  (1, 30, 30, 12)\n",
      "1/1 [==============================] - 0s 16ms/step\n"
     ]
    },
    {
     "name": "stderr",
     "output_type": "stream",
     "text": [
      "\r",
      " 66%|████████████████████████████████████████████████████████████████████████████████████████████████████▍                                                  | 234/352 [14:05<07:10,  3.65s/it]"
     ]
    },
    {
     "name": "stdout",
     "output_type": "stream",
     "text": [
      "TC formation prediction is [[0.5081866]] 1 Yes\n",
      "Processing image: /N/project/pfec_climo/qmnguyen/tc_prediction/binary_datasets/ncep_WP_binary_0h//pos/20150806_00_00_17.6_149.3_2015218N18149.nc\n",
      "Input image dimension is:  (1, 30, 30, 12)\n",
      "1/1 [==============================] - 0s 16ms/step\n"
     ]
    },
    {
     "name": "stderr",
     "output_type": "stream",
     "text": [
      "\r",
      " 67%|████████████████████████████████████████████████████████████████████████████████████████████████████▊                                                  | 235/352 [14:08<07:05,  3.63s/it]"
     ]
    },
    {
     "name": "stdout",
     "output_type": "stream",
     "text": [
      "TC formation prediction is [[0.50883365]] 1 Yes\n",
      "Processing image: /N/project/pfec_climo/qmnguyen/tc_prediction/binary_datasets/ncep_WP_binary_0h//pos/20120919_00_00_14.9_140.7_2012263N15141.nc\n",
      "Input image dimension is:  (1, 30, 30, 12)\n",
      "1/1 [==============================] - 0s 16ms/step\n"
     ]
    },
    {
     "name": "stderr",
     "output_type": "stream",
     "text": [
      "\r",
      " 67%|█████████████████████████████████████████████████████████████████████████████████████████████████████▏                                                 | 236/352 [14:12<07:01,  3.63s/it]"
     ]
    },
    {
     "name": "stdout",
     "output_type": "stream",
     "text": [
      "TC formation prediction is [[0.5123679]] 1 Yes\n",
      "Processing image: /N/project/pfec_climo/qmnguyen/tc_prediction/binary_datasets/ncep_WP_binary_0h//pos/20200808_06_00_18.3_126.3_2020221N18126.nc\n",
      "Input image dimension is:  (1, 30, 30, 12)\n",
      "1/1 [==============================] - 0s 16ms/step\n"
     ]
    },
    {
     "name": "stderr",
     "output_type": "stream",
     "text": [
      "\r",
      " 67%|█████████████████████████████████████████████████████████████████████████████████████████████████████▋                                                 | 237/352 [14:16<06:57,  3.63s/it]"
     ]
    },
    {
     "name": "stdout",
     "output_type": "stream",
     "text": [
      "TC formation prediction is [[0.50576526]] 1 Yes\n",
      "Processing image: /N/project/pfec_climo/qmnguyen/tc_prediction/binary_datasets/ncep_WP_binary_0h//pos/20210922_18_00_11.8_147.5_2021266N12148.nc\n",
      "Input image dimension is:  (1, 30, 30, 12)\n",
      "1/1 [==============================] - 0s 17ms/step\n"
     ]
    },
    {
     "name": "stderr",
     "output_type": "stream",
     "text": [
      "\r",
      " 68%|██████████████████████████████████████████████████████████████████████████████████████████████████████                                                 | 238/352 [14:19<06:53,  3.63s/it]"
     ]
    },
    {
     "name": "stdout",
     "output_type": "stream",
     "text": [
      "TC formation prediction is [[0.50101626]] 1 Yes\n",
      "Processing image: /N/project/pfec_climo/qmnguyen/tc_prediction/binary_datasets/ncep_WP_binary_0h//pos/20190907_00_00_24.2_123.3_2019250N24123.nc\n",
      "Input image dimension is:  (1, 30, 30, 12)\n",
      "1/1 [==============================] - 0s 19ms/step\n"
     ]
    },
    {
     "name": "stderr",
     "output_type": "stream",
     "text": [
      "\r",
      " 68%|██████████████████████████████████████████████████████████████████████████████████████████████████████▌                                                | 239/352 [14:23<06:50,  3.64s/it]"
     ]
    },
    {
     "name": "stdout",
     "output_type": "stream",
     "text": [
      "TC formation prediction is [[0.50599104]] 1 Yes\n",
      "Processing image: /N/project/pfec_climo/qmnguyen/tc_prediction/binary_datasets/ncep_WP_binary_0h//pos/20161014_06_00_7.2_145.2_2016288N07145.nc\n",
      "Input image dimension is:  (1, 30, 30, 12)\n",
      "1/1 [==============================] - 0s 17ms/step\n"
     ]
    },
    {
     "name": "stderr",
     "output_type": "stream",
     "text": [
      "\r",
      " 68%|██████████████████████████████████████████████████████████████████████████████████████████████████████▉                                                | 240/352 [14:27<06:50,  3.67s/it]"
     ]
    },
    {
     "name": "stdout",
     "output_type": "stream",
     "text": [
      "TC formation prediction is [[0.5071145]] 1 Yes\n",
      "Processing image: /N/project/pfec_climo/qmnguyen/tc_prediction/binary_datasets/ncep_WP_binary_0h//pos/20191109_18_00_14.3_136.0_2019314N14136.nc\n",
      "Input image dimension is:  (1, 30, 30, 12)\n",
      "1/1 [==============================] - 0s 16ms/step\n"
     ]
    },
    {
     "name": "stderr",
     "output_type": "stream",
     "text": [
      "\r",
      " 68%|███████████████████████████████████████████████████████████████████████████████████████████████████████▍                                               | 241/352 [14:30<06:49,  3.69s/it]"
     ]
    },
    {
     "name": "stdout",
     "output_type": "stream",
     "text": [
      "TC formation prediction is [[0.505215]] 1 Yes\n",
      "Processing image: /N/project/pfec_climo/qmnguyen/tc_prediction/binary_datasets/ncep_WP_binary_0h//pos/20161004_12_00_19.2_129.9_2016279N19130.nc\n",
      "Input image dimension is:  (1, 30, 30, 12)\n",
      "1/1 [==============================] - 0s 16ms/step\n"
     ]
    },
    {
     "name": "stderr",
     "output_type": "stream",
     "text": [
      "\r",
      " 69%|███████████████████████████████████████████████████████████████████████████████████████████████████████▊                                               | 242/352 [14:34<06:43,  3.67s/it]"
     ]
    },
    {
     "name": "stdout",
     "output_type": "stream",
     "text": [
      "TC formation prediction is [[0.5125416]] 1 Yes\n",
      "Processing image: /N/project/pfec_climo/qmnguyen/tc_prediction/binary_datasets/ncep_WP_binary_0h//pos/20190627_00_00_10.3_137.2_2019178N10137.nc\n",
      "Input image dimension is:  (1, 30, 30, 12)\n",
      "1/1 [==============================] - 0s 16ms/step\n"
     ]
    },
    {
     "name": "stderr",
     "output_type": "stream",
     "text": [
      "\r",
      " 69%|████████████████████████████████████████████████████████████████████████████████████████████████████████▏                                              | 243/352 [14:38<06:37,  3.64s/it]"
     ]
    },
    {
     "name": "stdout",
     "output_type": "stream",
     "text": [
      "TC formation prediction is [[0.50668925]] 1 Yes\n",
      "Processing image: /N/project/pfec_climo/qmnguyen/tc_prediction/binary_datasets/ncep_WP_binary_0h//pos/20180613_12_00_21.6_117.2_2018165N22117.nc\n",
      "Input image dimension is:  (1, 30, 30, 12)\n",
      "1/1 [==============================] - 0s 16ms/step\n"
     ]
    },
    {
     "name": "stderr",
     "output_type": "stream",
     "text": [
      "\r",
      " 69%|████████████████████████████████████████████████████████████████████████████████████████████████████████▋                                              | 244/352 [14:41<06:39,  3.70s/it]"
     ]
    },
    {
     "name": "stdout",
     "output_type": "stream",
     "text": [
      "TC formation prediction is [[0.49970627]] 0 No\n",
      "Processing image: /N/project/pfec_climo/qmnguyen/tc_prediction/binary_datasets/ncep_WP_binary_0h//pos/20130805_00_00_10.9_118.1_2013217N11118.nc\n",
      "Input image dimension is:  (1, 30, 30, 12)\n",
      "1/1 [==============================] - 0s 16ms/step\n"
     ]
    },
    {
     "name": "stderr",
     "output_type": "stream",
     "text": [
      "\r",
      " 70%|█████████████████████████████████████████████████████████████████████████████████████████████████████████                                              | 245/352 [14:45<06:34,  3.68s/it]"
     ]
    },
    {
     "name": "stdout",
     "output_type": "stream",
     "text": [
      "TC formation prediction is [[0.5037953]] 1 Yes\n",
      "Processing image: /N/project/pfec_climo/qmnguyen/tc_prediction/binary_datasets/ncep_WP_binary_0h//pos/20110823_18_00_15.2_142.8_2011236N15143.nc\n",
      "Input image dimension is:  (1, 30, 30, 12)\n",
      "1/1 [==============================] - 0s 16ms/step\n"
     ]
    },
    {
     "name": "stderr",
     "output_type": "stream",
     "text": [
      "\r",
      " 70%|█████████████████████████████████████████████████████████████████████████████████████████████████████████▌                                             | 246/352 [14:49<06:30,  3.68s/it]"
     ]
    },
    {
     "name": "stdout",
     "output_type": "stream",
     "text": [
      "TC formation prediction is [[0.50336385]] 1 Yes\n",
      "Processing image: /N/project/pfec_climo/qmnguyen/tc_prediction/binary_datasets/ncep_WP_binary_0h//pos/20120625_00_00_11.1_135.2_2012177N11135.nc\n",
      "Input image dimension is:  (1, 30, 30, 12)\n",
      "1/1 [==============================] - 0s 16ms/step\n"
     ]
    },
    {
     "name": "stderr",
     "output_type": "stream",
     "text": [
      "\r",
      " 70%|█████████████████████████████████████████████████████████████████████████████████████████████████████████▉                                             | 247/352 [14:52<06:25,  3.68s/it]"
     ]
    },
    {
     "name": "stdout",
     "output_type": "stream",
     "text": [
      "TC formation prediction is [[0.50419635]] 1 Yes\n",
      "Processing image: /N/project/pfec_climo/qmnguyen/tc_prediction/binary_datasets/ncep_WP_binary_0h//pos/20140727_12_00_15.7_134.2_2014209N16134.nc\n",
      "Input image dimension is:  (1, 30, 30, 12)\n",
      "1/1 [==============================] - 0s 16ms/step\n"
     ]
    },
    {
     "name": "stderr",
     "output_type": "stream",
     "text": [
      "\r",
      " 70%|██████████████████████████████████████████████████████████████████████████████████████████████████████████▍                                            | 248/352 [14:56<06:21,  3.66s/it]"
     ]
    },
    {
     "name": "stdout",
     "output_type": "stream",
     "text": [
      "TC formation prediction is [[0.5044461]] 1 Yes\n",
      "Processing image: /N/project/pfec_climo/qmnguyen/tc_prediction/binary_datasets/ncep_WP_binary_0h//pos/20110616_06_00_7.9_129.0_2011167N08129.nc\n",
      "Input image dimension is:  (1, 30, 30, 12)\n",
      "1/1 [==============================] - 0s 16ms/step\n"
     ]
    },
    {
     "name": "stderr",
     "output_type": "stream",
     "text": [
      "\r",
      " 71%|██████████████████████████████████████████████████████████████████████████████████████████████████████████▊                                            | 249/352 [15:00<06:16,  3.66s/it]"
     ]
    },
    {
     "name": "stdout",
     "output_type": "stream",
     "text": [
      "TC formation prediction is [[0.5058873]] 1 Yes\n",
      "Processing image: /N/project/pfec_climo/qmnguyen/tc_prediction/binary_datasets/ncep_WP_binary_0h//pos/20210902_00_00_26.9_159.7_2021245N27160.nc\n",
      "Input image dimension is:  (1, 30, 30, 12)\n",
      "1/1 [==============================] - 0s 16ms/step\n"
     ]
    },
    {
     "name": "stderr",
     "output_type": "stream",
     "text": [
      "\r",
      " 71%|███████████████████████████████████████████████████████████████████████████████████████████████████████████▏                                           | 250/352 [15:03<06:10,  3.63s/it]"
     ]
    },
    {
     "name": "stdout",
     "output_type": "stream",
     "text": [
      "TC formation prediction is [[0.5033469]] 1 Yes\n",
      "Processing image: /N/project/pfec_climo/qmnguyen/tc_prediction/binary_datasets/ncep_WP_binary_0h//pos/20191117_12_00_10.6_143.6_2019322N11144.nc\n",
      "Input image dimension is:  (1, 30, 30, 12)\n",
      "1/1 [==============================] - 0s 16ms/step\n"
     ]
    },
    {
     "name": "stderr",
     "output_type": "stream",
     "text": [
      "\r",
      " 71%|███████████████████████████████████████████████████████████████████████████████████████████████████████████▋                                           | 251/352 [15:07<06:03,  3.60s/it]"
     ]
    },
    {
     "name": "stdout",
     "output_type": "stream",
     "text": [
      "TC formation prediction is [[0.5025515]] 1 Yes\n",
      "Processing image: /N/project/pfec_climo/qmnguyen/tc_prediction/binary_datasets/ncep_WP_binary_0h//pos/20130925_18_00_14.8_118.3_2013269N15118.nc\n",
      "Input image dimension is:  (1, 30, 30, 12)\n",
      "1/1 [==============================] - 0s 16ms/step\n"
     ]
    },
    {
     "name": "stderr",
     "output_type": "stream",
     "text": [
      "\r",
      " 72%|████████████████████████████████████████████████████████████████████████████████████████████████████████████                                           | 252/352 [15:11<06:02,  3.62s/it]"
     ]
    },
    {
     "name": "stdout",
     "output_type": "stream",
     "text": [
      "TC formation prediction is [[0.508754]] 1 Yes\n",
      "Processing image: /N/project/pfec_climo/qmnguyen/tc_prediction/binary_datasets/ncep_WP_binary_0h//pos/20120929_00_00_13.1_112.2_2012273N13112.nc\n",
      "Input image dimension is:  (1, 30, 30, 12)\n",
      "1/1 [==============================] - 0s 16ms/step\n"
     ]
    },
    {
     "name": "stderr",
     "output_type": "stream",
     "text": [
      "\r",
      " 72%|████████████████████████████████████████████████████████████████████████████████████████████████████████████▌                                          | 253/352 [15:14<05:57,  3.61s/it]"
     ]
    },
    {
     "name": "stdout",
     "output_type": "stream",
     "text": [
      "TC formation prediction is [[0.50510097]] 1 Yes\n",
      "Processing image: /N/project/pfec_climo/qmnguyen/tc_prediction/binary_datasets/ncep_WP_binary_0h//pos/20110724_00_00_12.3_129.5_2011205N12130.nc\n",
      "Input image dimension is:  (1, 30, 30, 12)\n",
      "1/1 [==============================] - 0s 16ms/step\n"
     ]
    },
    {
     "name": "stderr",
     "output_type": "stream",
     "text": [
      "\r",
      " 72%|████████████████████████████████████████████████████████████████████████████████████████████████████████████▉                                          | 254/352 [15:18<05:54,  3.61s/it]"
     ]
    },
    {
     "name": "stdout",
     "output_type": "stream",
     "text": [
      "TC formation prediction is [[0.51305073]] 1 Yes\n",
      "Processing image: /N/project/pfec_climo/qmnguyen/tc_prediction/binary_datasets/ncep_WP_binary_0h//pos/20081110_18_00_14.0_117.5_2008316N14118.nc\n",
      "Input image dimension is:  (1, 30, 30, 12)\n",
      "1/1 [==============================] - 0s 16ms/step\n"
     ]
    },
    {
     "name": "stderr",
     "output_type": "stream",
     "text": [
      "\r",
      " 72%|█████████████████████████████████████████████████████████████████████████████████████████████████████████████▍                                         | 255/352 [15:22<05:56,  3.67s/it]"
     ]
    },
    {
     "name": "stdout",
     "output_type": "stream",
     "text": [
      "TC formation prediction is [[0.49959633]] 0 No\n",
      "Processing image: /N/project/pfec_climo/qmnguyen/tc_prediction/binary_datasets/ncep_WP_binary_0h//pos/20150913_00_00_15.7_112.9_2015256N16113.nc\n",
      "Input image dimension is:  (1, 30, 30, 12)\n",
      "1/1 [==============================] - 0s 16ms/step\n"
     ]
    },
    {
     "name": "stderr",
     "output_type": "stream",
     "text": [
      "\r",
      " 73%|█████████████████████████████████████████████████████████████████████████████████████████████████████████████▊                                         | 256/352 [15:25<05:49,  3.64s/it]"
     ]
    },
    {
     "name": "stdout",
     "output_type": "stream",
     "text": [
      "TC formation prediction is [[0.50489444]] 1 Yes\n",
      "Processing image: /N/project/pfec_climo/qmnguyen/tc_prediction/binary_datasets/ncep_WP_binary_0h//pos/20120817_06_00_21.4_125.9_2012230N21126.nc\n",
      "Input image dimension is:  (1, 30, 30, 12)\n",
      "1/1 [==============================] - 0s 16ms/step\n"
     ]
    },
    {
     "name": "stderr",
     "output_type": "stream",
     "text": [
      "\r",
      " 73%|██████████████████████████████████████████████████████████████████████████████████████████████████████████████▏                                        | 257/352 [15:29<05:45,  3.63s/it]"
     ]
    },
    {
     "name": "stdout",
     "output_type": "stream",
     "text": [
      "TC formation prediction is [[0.5123696]] 1 Yes\n",
      "Processing image: /N/project/pfec_climo/qmnguyen/tc_prediction/binary_datasets/ncep_WP_binary_0h//pos/20180920_06_00_12.3_146.4_2018263N12146.nc\n",
      "Input image dimension is:  (1, 30, 30, 12)\n",
      "1/1 [==============================] - 0s 16ms/step\n"
     ]
    },
    {
     "name": "stderr",
     "output_type": "stream",
     "text": [
      "\r",
      " 73%|██████████████████████████████████████████████████████████████████████████████████████████████████████████████▋                                        | 258/352 [15:32<05:39,  3.61s/it]"
     ]
    },
    {
     "name": "stdout",
     "output_type": "stream",
     "text": [
      "TC formation prediction is [[0.5093681]] 1 Yes\n",
      "Processing image: /N/project/pfec_climo/qmnguyen/tc_prediction/binary_datasets/ncep_WP_binary_0h//pos/20171015_00_00_8.7_137.9_2017288N09138.nc\n",
      "Input image dimension is:  (1, 30, 30, 12)\n",
      "1/1 [==============================] - 0s 16ms/step\n"
     ]
    },
    {
     "name": "stderr",
     "output_type": "stream",
     "text": [
      "\r",
      " 74%|███████████████████████████████████████████████████████████████████████████████████████████████████████████████                                        | 259/352 [15:36<05:35,  3.60s/it]"
     ]
    },
    {
     "name": "stdout",
     "output_type": "stream",
     "text": [
      "TC formation prediction is [[0.50246954]] 1 Yes\n",
      "Processing image: /N/project/pfec_climo/qmnguyen/tc_prediction/binary_datasets/ncep_WP_binary_0h//pos/20201010_00_00_13.7_114.0_2020284N14114.nc\n",
      "Input image dimension is:  (1, 30, 30, 12)\n",
      "1/1 [==============================] - 0s 16ms/step\n"
     ]
    },
    {
     "name": "stderr",
     "output_type": "stream",
     "text": [
      "\r",
      " 74%|███████████████████████████████████████████████████████████████████████████████████████████████████████████████▌                                       | 260/352 [15:40<05:36,  3.66s/it]"
     ]
    },
    {
     "name": "stdout",
     "output_type": "stream",
     "text": [
      "TC formation prediction is [[0.50664306]] 1 Yes\n",
      "Processing image: /N/project/pfec_climo/qmnguyen/tc_prediction/binary_datasets/ncep_WP_binary_0h//pos/20180703_00_00_10.0_147.4_2018184N10147.nc\n",
      "Input image dimension is:  (1, 30, 30, 12)\n",
      "1/1 [==============================] - 0s 16ms/step\n"
     ]
    },
    {
     "name": "stderr",
     "output_type": "stream",
     "text": [
      "\r",
      " 74%|███████████████████████████████████████████████████████████████████████████████████████████████████████████████▉                                       | 261/352 [15:43<05:31,  3.64s/it]"
     ]
    },
    {
     "name": "stdout",
     "output_type": "stream",
     "text": [
      "TC formation prediction is [[0.50852185]] 1 Yes\n",
      "Processing image: /N/project/pfec_climo/qmnguyen/tc_prediction/binary_datasets/ncep_WP_binary_0h//pos/20201004_18_00_22.5_139.2_2020279N23139.nc\n",
      "Input image dimension is:  (1, 30, 30, 12)\n",
      "1/1 [==============================] - 0s 16ms/step\n"
     ]
    },
    {
     "name": "stderr",
     "output_type": "stream",
     "text": [
      "\r",
      " 74%|████████████████████████████████████████████████████████████████████████████████████████████████████████████████▍                                      | 262/352 [15:47<05:26,  3.63s/it]"
     ]
    },
    {
     "name": "stdout",
     "output_type": "stream",
     "text": [
      "TC formation prediction is [[0.49684978]] 0 No\n",
      "Processing image: /N/project/pfec_climo/qmnguyen/tc_prediction/binary_datasets/ncep_WP_binary_0h//pos/20201011_18_00_17.4_118.2_2020286N17118.nc\n",
      "Input image dimension is:  (1, 30, 30, 12)\n",
      "1/1 [==============================] - 0s 16ms/step\n"
     ]
    },
    {
     "name": "stderr",
     "output_type": "stream",
     "text": [
      "\r",
      " 75%|████████████████████████████████████████████████████████████████████████████████████████████████████████████████▊                                      | 263/352 [15:50<05:22,  3.63s/it]"
     ]
    },
    {
     "name": "stdout",
     "output_type": "stream",
     "text": [
      "TC formation prediction is [[0.49745587]] 0 No\n",
      "Processing image: /N/project/pfec_climo/qmnguyen/tc_prediction/binary_datasets/ncep_WP_binary_0h//pos/20090911_12_00_13.4_155.0_2009255N13155.nc\n",
      "Input image dimension is:  (1, 30, 30, 12)\n",
      "1/1 [==============================] - 0s 17ms/step\n"
     ]
    },
    {
     "name": "stderr",
     "output_type": "stream",
     "text": [
      "\r",
      " 75%|█████████████████████████████████████████████████████████████████████████████████████████████████████████████████▎                                     | 264/352 [15:54<05:23,  3.67s/it]"
     ]
    },
    {
     "name": "stdout",
     "output_type": "stream",
     "text": [
      "TC formation prediction is [[0.509957]] 1 Yes\n",
      "Processing image: /N/project/pfec_climo/qmnguyen/tc_prediction/binary_datasets/ncep_WP_binary_0h//pos/20120610_00_00_6.1_150.4_2012162N06150.nc\n",
      "Input image dimension is:  (1, 30, 30, 12)\n",
      "1/1 [==============================] - 0s 16ms/step\n"
     ]
    },
    {
     "name": "stderr",
     "output_type": "stream",
     "text": [
      "\r",
      " 75%|█████████████████████████████████████████████████████████████████████████████████████████████████████████████████▋                                     | 265/352 [15:58<05:16,  3.63s/it]"
     ]
    },
    {
     "name": "stdout",
     "output_type": "stream",
     "text": [
      "TC formation prediction is [[0.5034011]] 1 Yes\n",
      "Processing image: /N/project/pfec_climo/qmnguyen/tc_prediction/binary_datasets/ncep_WP_binary_0h//pos/20210922_18_00_13.0_112.4_2021266N13112.nc\n",
      "Input image dimension is:  (1, 30, 30, 12)\n",
      "1/1 [==============================] - 0s 16ms/step\n"
     ]
    },
    {
     "name": "stderr",
     "output_type": "stream",
     "text": [
      "\r",
      " 76%|██████████████████████████████████████████████████████████████████████████████████████████████████████████████████                                     | 266/352 [16:01<05:13,  3.64s/it]"
     ]
    },
    {
     "name": "stdout",
     "output_type": "stream",
     "text": [
      "TC formation prediction is [[0.502572]] 1 Yes\n",
      "Processing image: /N/project/pfec_climo/qmnguyen/tc_prediction/binary_datasets/ncep_WP_binary_0h//pos/20140727_18_00_11.7_151.6_2014209N12152.nc\n",
      "Input image dimension is:  (1, 30, 30, 12)\n",
      "1/1 [==============================] - 0s 16ms/step\n"
     ]
    },
    {
     "name": "stderr",
     "output_type": "stream",
     "text": [
      "\r",
      " 76%|██████████████████████████████████████████████████████████████████████████████████████████████████████████████████▌                                    | 267/352 [16:05<05:07,  3.62s/it]"
     ]
    },
    {
     "name": "stdout",
     "output_type": "stream",
     "text": [
      "TC formation prediction is [[0.5129377]] 1 Yes\n",
      "Processing image: /N/project/pfec_climo/qmnguyen/tc_prediction/binary_datasets/ncep_WP_binary_0h//pos/20141001_18_00_5.5_165.7_2014275N06166.nc\n",
      "Input image dimension is:  (1, 30, 30, 12)\n",
      "1/1 [==============================] - 0s 16ms/step\n"
     ]
    },
    {
     "name": "stderr",
     "output_type": "stream",
     "text": [
      "\r",
      " 76%|██████████████████████████████████████████████████████████████████████████████████████████████████████████████████▉                                    | 268/352 [16:09<05:04,  3.63s/it]"
     ]
    },
    {
     "name": "stdout",
     "output_type": "stream",
     "text": [
      "TC formation prediction is [[0.4993929]] 0 No\n",
      "Processing image: /N/project/pfec_climo/qmnguyen/tc_prediction/binary_datasets/ncep_WP_binary_0h//pos/20170830_06_00_18.9_122.0_2017242N19122.nc\n",
      "Input image dimension is:  (1, 30, 30, 12)\n",
      "1/1 [==============================] - 0s 16ms/step\n"
     ]
    },
    {
     "name": "stderr",
     "output_type": "stream",
     "text": [
      "\r",
      " 76%|███████████████████████████████████████████████████████████████████████████████████████████████████████████████████▍                                   | 269/352 [16:12<05:03,  3.65s/it]"
     ]
    },
    {
     "name": "stdout",
     "output_type": "stream",
     "text": [
      "TC formation prediction is [[0.51190215]] 1 Yes\n",
      "Processing image: /N/project/pfec_climo/qmnguyen/tc_prediction/binary_datasets/ncep_WP_binary_0h//pos/20171116_12_00_7.1_123.6_2017321N07124.nc\n",
      "Input image dimension is:  (1, 30, 30, 12)\n",
      "1/1 [==============================] - 0s 16ms/step\n"
     ]
    },
    {
     "name": "stderr",
     "output_type": "stream",
     "text": [
      "\r",
      " 77%|███████████████████████████████████████████████████████████████████████████████████████████████████████████████████▊                                   | 270/352 [16:16<04:57,  3.62s/it]"
     ]
    },
    {
     "name": "stdout",
     "output_type": "stream",
     "text": [
      "TC formation prediction is [[0.5050147]] 1 Yes\n",
      "Processing image: /N/project/pfec_climo/qmnguyen/tc_prediction/binary_datasets/ncep_WP_binary_0h//pos/20170903_12_00_16.0_132.3_2017247N16132.nc\n",
      "Input image dimension is:  (1, 30, 30, 12)\n",
      "1/1 [==============================] - 0s 16ms/step\n"
     ]
    },
    {
     "name": "stderr",
     "output_type": "stream",
     "text": [
      "\r",
      " 77%|████████████████████████████████████████████████████████████████████████████████████████████████████████████████████▎                                  | 271/352 [16:20<04:55,  3.64s/it]"
     ]
    },
    {
     "name": "stdout",
     "output_type": "stream",
     "text": [
      "TC formation prediction is [[0.50107074]] 1 Yes\n",
      "Processing image: /N/project/pfec_climo/qmnguyen/tc_prediction/binary_datasets/ncep_WP_binary_0h//pos/20170727_12_00_19.2_117.8_2017209N19118.nc\n",
      "Input image dimension is:  (1, 30, 30, 12)\n",
      "1/1 [==============================] - 0s 17ms/step\n"
     ]
    },
    {
     "name": "stderr",
     "output_type": "stream",
     "text": [
      "\r",
      " 77%|████████████████████████████████████████████████████████████████████████████████████████████████████████████████████▋                                  | 272/352 [16:23<04:48,  3.61s/it]"
     ]
    },
    {
     "name": "stdout",
     "output_type": "stream",
     "text": [
      "TC formation prediction is [[0.5117458]] 1 Yes\n",
      "Processing image: /N/project/pfec_climo/qmnguyen/tc_prediction/binary_datasets/ncep_WP_binary_0h//pos/20131001_00_00_18.1_151.5_2013274N18152.nc\n",
      "Input image dimension is:  (1, 30, 30, 12)\n",
      "1/1 [==============================] - 0s 17ms/step\n"
     ]
    },
    {
     "name": "stderr",
     "output_type": "stream",
     "text": [
      "\r",
      " 78%|█████████████████████████████████████████████████████████████████████████████████████████████████████████████████████                                  | 273/352 [16:27<04:42,  3.57s/it]"
     ]
    },
    {
     "name": "stdout",
     "output_type": "stream",
     "text": [
      "TC formation prediction is [[0.5066551]] 1 Yes\n",
      "Processing image: /N/project/pfec_climo/qmnguyen/tc_prediction/binary_datasets/ncep_WP_binary_0h//pos/20210803_00_00_26.6_152.1_2021215N27152.nc\n",
      "Input image dimension is:  (1, 30, 30, 12)\n",
      "1/1 [==============================] - 0s 16ms/step\n"
     ]
    },
    {
     "name": "stderr",
     "output_type": "stream",
     "text": [
      "\r",
      " 78%|█████████████████████████████████████████████████████████████████████████████████████████████████████████████████████▌                                 | 274/352 [16:30<04:38,  3.57s/it]"
     ]
    },
    {
     "name": "stdout",
     "output_type": "stream",
     "text": [
      "TC formation prediction is [[0.5027749]] 1 Yes\n",
      "Processing image: /N/project/pfec_climo/qmnguyen/tc_prediction/binary_datasets/ncep_WP_binary_0h//pos/20160911_06_00_12.3_114.3_2016255N12114.nc\n",
      "Input image dimension is:  (1, 30, 30, 12)\n",
      "1/1 [==============================] - 0s 16ms/step\n"
     ]
    },
    {
     "name": "stderr",
     "output_type": "stream",
     "text": [
      "\r",
      " 78%|█████████████████████████████████████████████████████████████████████████████████████████████████████████████████████▉                                 | 275/352 [16:34<04:34,  3.57s/it]"
     ]
    },
    {
     "name": "stdout",
     "output_type": "stream",
     "text": [
      "TC formation prediction is [[0.50966686]] 1 Yes\n",
      "Processing image: /N/project/pfec_climo/qmnguyen/tc_prediction/binary_datasets/ncep_WP_binary_0h//pos/20171107_12_00_10.1_134.2_2017312N10134.nc\n",
      "Input image dimension is:  (1, 30, 30, 12)\n",
      "1/1 [==============================] - 0s 16ms/step\n"
     ]
    },
    {
     "name": "stderr",
     "output_type": "stream",
     "text": [
      "\r",
      " 78%|██████████████████████████████████████████████████████████████████████████████████████████████████████████████████████▍                                | 276/352 [16:37<04:30,  3.56s/it]"
     ]
    },
    {
     "name": "stdout",
     "output_type": "stream",
     "text": [
      "TC formation prediction is [[0.5022094]] 1 Yes\n",
      "Processing image: /N/project/pfec_climo/qmnguyen/tc_prediction/binary_datasets/ncep_WP_binary_0h//pos/20190624_12_00_17.9_127.7_2019176N18128.nc\n",
      "Input image dimension is:  (1, 30, 30, 12)\n",
      "1/1 [==============================] - 0s 16ms/step\n"
     ]
    },
    {
     "name": "stderr",
     "output_type": "stream",
     "text": [
      "\r",
      " 79%|██████████████████████████████████████████████████████████████████████████████████████████████████████████████████████▊                                | 277/352 [16:41<04:26,  3.55s/it]"
     ]
    },
    {
     "name": "stdout",
     "output_type": "stream",
     "text": [
      "TC formation prediction is [[0.5009367]] 1 Yes\n",
      "Processing image: /N/project/pfec_climo/qmnguyen/tc_prediction/binary_datasets/ncep_WP_binary_0h//pos/20090711_00_00_16.4_130.2_2009192N16130.nc\n",
      "Input image dimension is:  (1, 30, 30, 12)\n",
      "1/1 [==============================] - 0s 16ms/step\n"
     ]
    },
    {
     "name": "stderr",
     "output_type": "stream",
     "text": [
      "\r",
      " 79%|███████████████████████████████████████████████████████████████████████████████████████████████████████████████████████▎                               | 278/352 [16:44<04:22,  3.55s/it]"
     ]
    },
    {
     "name": "stdout",
     "output_type": "stream",
     "text": [
      "TC formation prediction is [[0.51051235]] 1 Yes\n",
      "Processing image: /N/project/pfec_climo/qmnguyen/tc_prediction/binary_datasets/ncep_WP_binary_0h//pos/20090715_00_00_14.1_128.6_2009196N14129.nc\n",
      "Input image dimension is:  (1, 30, 30, 12)\n",
      "1/1 [==============================] - 0s 16ms/step\n"
     ]
    },
    {
     "name": "stderr",
     "output_type": "stream",
     "text": [
      "\r",
      " 79%|███████████████████████████████████████████████████████████████████████████████████████████████████████████████████████▋                               | 279/352 [16:48<04:18,  3.54s/it]"
     ]
    },
    {
     "name": "stdout",
     "output_type": "stream",
     "text": [
      "TC formation prediction is [[0.5083577]] 1 Yes\n",
      "Processing image: /N/project/pfec_climo/qmnguyen/tc_prediction/binary_datasets/ncep_WP_binary_0h//pos/20170719_06_00_26.1_162.1_2017200N26162.nc\n",
      "Input image dimension is:  (1, 30, 30, 12)\n",
      "1/1 [==============================] - 0s 17ms/step\n"
     ]
    },
    {
     "name": "stderr",
     "output_type": "stream",
     "text": [
      "\r",
      " 80%|████████████████████████████████████████████████████████████████████████████████████████████████████████████████████████                               | 280/352 [16:51<04:15,  3.55s/it]"
     ]
    },
    {
     "name": "stdout",
     "output_type": "stream",
     "text": [
      "TC formation prediction is [[0.5040833]] 1 Yes\n",
      "Processing image: /N/project/pfec_climo/qmnguyen/tc_prediction/binary_datasets/ncep_WP_binary_0h//pos/20190912_06_00_9.1_162.0_2019255N09162.nc\n",
      "Input image dimension is:  (1, 30, 30, 12)\n",
      "1/1 [==============================] - 0s 16ms/step\n"
     ]
    },
    {
     "name": "stderr",
     "output_type": "stream",
     "text": [
      "\r",
      " 80%|████████████████████████████████████████████████████████████████████████████████████████████████████████████████████████▌                              | 281/352 [16:55<04:13,  3.57s/it]"
     ]
    },
    {
     "name": "stdout",
     "output_type": "stream",
     "text": [
      "TC formation prediction is [[0.5093923]] 1 Yes\n",
      "Processing image: /N/project/pfec_climo/qmnguyen/tc_prediction/binary_datasets/ncep_WP_binary_0h//pos/20201020_12_00_25.2_139.1_2020295N25139.nc\n",
      "Input image dimension is:  (1, 30, 30, 12)\n",
      "1/1 [==============================] - 0s 16ms/step\n"
     ]
    },
    {
     "name": "stderr",
     "output_type": "stream",
     "text": [
      "\r",
      " 80%|████████████████████████████████████████████████████████████████████████████████████████████████████████████████████████▉                              | 282/352 [16:59<04:09,  3.56s/it]"
     ]
    },
    {
     "name": "stdout",
     "output_type": "stream",
     "text": [
      "TC formation prediction is [[0.50535995]] 1 Yes\n",
      "Processing image: /N/project/pfec_climo/qmnguyen/tc_prediction/binary_datasets/ncep_WP_binary_0h//pos/20110909_12_00_20.4_144.6_2011253N20145.nc\n",
      "Input image dimension is:  (1, 30, 30, 12)\n",
      "1/1 [==============================] - 0s 16ms/step\n"
     ]
    },
    {
     "name": "stderr",
     "output_type": "stream",
     "text": [
      "\r",
      " 80%|█████████████████████████████████████████████████████████████████████████████████████████████████████████████████████████▍                             | 283/352 [17:02<04:05,  3.55s/it]"
     ]
    },
    {
     "name": "stdout",
     "output_type": "stream",
     "text": [
      "TC formation prediction is [[0.5070481]] 1 Yes\n",
      "Processing image: /N/project/pfec_climo/qmnguyen/tc_prediction/binary_datasets/ncep_WP_binary_0h//pos/20121005_00_00_14.6_144.6_2012279N15145.nc\n",
      "Input image dimension is:  (1, 30, 30, 12)\n",
      "1/1 [==============================] - 0s 16ms/step\n"
     ]
    },
    {
     "name": "stderr",
     "output_type": "stream",
     "text": [
      "\r",
      " 81%|█████████████████████████████████████████████████████████████████████████████████████████████████████████████████████████▊                             | 284/352 [17:06<04:02,  3.57s/it]"
     ]
    },
    {
     "name": "stdout",
     "output_type": "stream",
     "text": [
      "TC formation prediction is [[0.5091152]] 1 Yes\n",
      "Processing image: /N/project/pfec_climo/qmnguyen/tc_prediction/binary_datasets/ncep_WP_binary_0h//pos/20140923_12_00_17.9_149.6_2014267N18150.nc\n",
      "Input image dimension is:  (1, 30, 30, 12)\n",
      "1/1 [==============================] - 0s 16ms/step\n"
     ]
    },
    {
     "name": "stderr",
     "output_type": "stream",
     "text": [
      "\r",
      " 81%|██████████████████████████████████████████████████████████████████████████████████████████████████████████████████████████▎                            | 285/352 [17:09<03:58,  3.56s/it]"
     ]
    },
    {
     "name": "stdout",
     "output_type": "stream",
     "text": [
      "TC formation prediction is [[0.49558204]] 0 No\n",
      "Processing image: /N/project/pfec_climo/qmnguyen/tc_prediction/binary_datasets/ncep_WP_binary_0h//pos/20171018_06_00_9.1_115.8_2017291N09116.nc\n",
      "Input image dimension is:  (1, 30, 30, 12)\n",
      "1/1 [==============================] - 0s 16ms/step\n"
     ]
    },
    {
     "name": "stderr",
     "output_type": "stream",
     "text": [
      "\r",
      " 81%|██████████████████████████████████████████████████████████████████████████████████████████████████████████████████████████▋                            | 286/352 [17:13<03:55,  3.57s/it]"
     ]
    },
    {
     "name": "stdout",
     "output_type": "stream",
     "text": [
      "TC formation prediction is [[0.5155141]] 1 Yes\n",
      "Processing image: /N/project/pfec_climo/qmnguyen/tc_prediction/binary_datasets/ncep_WP_binary_0h//pos/20160905_12_00_24.8_124.5_2016250N25125.nc\n",
      "Input image dimension is:  (1, 30, 30, 12)\n",
      "1/1 [==============================] - 0s 16ms/step\n"
     ]
    },
    {
     "name": "stderr",
     "output_type": "stream",
     "text": [
      "\r",
      " 82%|███████████████████████████████████████████████████████████████████████████████████████████████████████████████████████████                            | 287/352 [17:17<03:53,  3.59s/it]"
     ]
    },
    {
     "name": "stdout",
     "output_type": "stream",
     "text": [
      "TC formation prediction is [[0.50168663]] 1 Yes\n",
      "Processing image: /N/project/pfec_climo/qmnguyen/tc_prediction/binary_datasets/ncep_WP_binary_0h//pos/20150702_18_00_8.3_171.8_2015184N08172.nc\n",
      "Input image dimension is:  (1, 30, 30, 12)\n",
      "1/1 [==============================] - 0s 17ms/step\n"
     ]
    },
    {
     "name": "stderr",
     "output_type": "stream",
     "text": [
      "\r",
      " 82%|███████████████████████████████████████████████████████████████████████████████████████████████████████████████████████████▌                           | 288/352 [17:20<03:52,  3.63s/it]"
     ]
    },
    {
     "name": "stdout",
     "output_type": "stream",
     "text": [
      "TC formation prediction is [[0.506721]] 1 Yes\n",
      "Processing image: /N/project/pfec_climo/qmnguyen/tc_prediction/binary_datasets/ncep_WP_binary_0h//pos/20120929_12_00_12.5_151.3_2012274N13151.nc\n",
      "Input image dimension is:  (1, 30, 30, 12)\n",
      "1/1 [==============================] - 0s 16ms/step\n"
     ]
    },
    {
     "name": "stderr",
     "output_type": "stream",
     "text": [
      "\r",
      " 82%|███████████████████████████████████████████████████████████████████████████████████████████████████████████████████████████▉                           | 289/352 [17:24<03:47,  3.61s/it]"
     ]
    },
    {
     "name": "stdout",
     "output_type": "stream",
     "text": [
      "TC formation prediction is [[0.5045255]] 1 Yes\n",
      "Processing image: /N/project/pfec_climo/qmnguyen/tc_prediction/binary_datasets/ncep_WP_binary_0h//pos/20150814_00_00_14.8_163.5_2015226N15164.nc\n",
      "Input image dimension is:  (1, 30, 30, 12)\n",
      "1/1 [==============================] - 0s 16ms/step\n"
     ]
    },
    {
     "name": "stderr",
     "output_type": "stream",
     "text": [
      "\r",
      " 82%|████████████████████████████████████████████████████████████████████████████████████████████████████████████████████████████▍                          | 290/352 [17:27<03:42,  3.60s/it]"
     ]
    },
    {
     "name": "stdout",
     "output_type": "stream",
     "text": [
      "TC formation prediction is [[0.5015117]] 1 Yes\n",
      "Processing image: /N/project/pfec_climo/qmnguyen/tc_prediction/binary_datasets/ncep_WP_binary_0h//pos/20110531_00_00_19.0_115.9_2011151N19116.nc\n",
      "Input image dimension is:  (1, 30, 30, 12)\n",
      "1/1 [==============================] - 0s 16ms/step\n"
     ]
    },
    {
     "name": "stderr",
     "output_type": "stream",
     "text": [
      "\r",
      " 83%|████████████████████████████████████████████████████████████████████████████████████████████████████████████████████████████▊                          | 291/352 [17:31<03:42,  3.65s/it]"
     ]
    },
    {
     "name": "stdout",
     "output_type": "stream",
     "text": [
      "TC formation prediction is [[0.49891528]] 0 No\n",
      "Processing image: /N/project/pfec_climo/qmnguyen/tc_prediction/binary_datasets/ncep_WP_binary_0h//pos/20130911_18_00_19.6_148.2_2013255N20148.nc\n",
      "Input image dimension is:  (1, 30, 30, 12)\n",
      "1/1 [==============================] - 0s 16ms/step\n"
     ]
    },
    {
     "name": "stderr",
     "output_type": "stream",
     "text": [
      "\r",
      " 83%|█████████████████████████████████████████████████████████████████████████████████████████████████████████████████████████████▎                         | 292/352 [17:35<03:39,  3.66s/it]"
     ]
    },
    {
     "name": "stdout",
     "output_type": "stream",
     "text": [
      "TC formation prediction is [[0.50664794]] 1 Yes\n",
      "Processing image: /N/project/pfec_climo/qmnguyen/tc_prediction/binary_datasets/ncep_WP_binary_0h//pos/20120726_18_00_10.6_131.0_2012209N11131.nc\n",
      "Input image dimension is:  (1, 30, 30, 12)\n",
      "1/1 [==============================] - 0s 16ms/step\n"
     ]
    },
    {
     "name": "stderr",
     "output_type": "stream",
     "text": [
      "\r",
      " 83%|█████████████████████████████████████████████████████████████████████████████████████████████████████████████████████████████▋                         | 293/352 [17:39<03:36,  3.68s/it]"
     ]
    },
    {
     "name": "stdout",
     "output_type": "stream",
     "text": [
      "TC formation prediction is [[0.5018174]] 1 Yes\n",
      "Processing image: /N/project/pfec_climo/qmnguyen/tc_prediction/binary_datasets/ncep_WP_binary_0h//pos/20111106_18_00_13.1_110.8_2011311N13111.nc\n",
      "Input image dimension is:  (1, 30, 30, 12)\n",
      "1/1 [==============================] - 0s 16ms/step\n"
     ]
    },
    {
     "name": "stderr",
     "output_type": "stream",
     "text": [
      "\r",
      " 84%|██████████████████████████████████████████████████████████████████████████████████████████████████████████████████████████████                         | 294/352 [17:42<03:33,  3.68s/it]"
     ]
    },
    {
     "name": "stdout",
     "output_type": "stream",
     "text": [
      "TC formation prediction is [[0.50477356]] 1 Yes\n",
      "Processing image: /N/project/pfec_climo/qmnguyen/tc_prediction/binary_datasets/ncep_WP_binary_0h//pos/20090802_18_00_20.1_133.4_2009215N20133.nc\n",
      "Input image dimension is:  (1, 30, 30, 12)\n",
      "1/1 [==============================] - 0s 16ms/step\n"
     ]
    },
    {
     "name": "stderr",
     "output_type": "stream",
     "text": [
      "\r",
      " 84%|██████████████████████████████████████████████████████████████████████████████████████████████████████████████████████████████▌                        | 295/352 [17:46<03:29,  3.67s/it]"
     ]
    },
    {
     "name": "stdout",
     "output_type": "stream",
     "text": [
      "TC formation prediction is [[0.51076853]] 1 Yes\n",
      "Processing image: /N/project/pfec_climo/qmnguyen/tc_prediction/binary_datasets/ncep_WP_binary_0h//pos/20160729_12_00_11.9_127.3_2016212N12127.nc\n",
      "Input image dimension is:  (1, 30, 30, 12)\n",
      "1/1 [==============================] - 0s 16ms/step\n"
     ]
    },
    {
     "name": "stderr",
     "output_type": "stream",
     "text": [
      "\r",
      " 84%|██████████████████████████████████████████████████████████████████████████████████████████████████████████████████████████████▉                        | 296/352 [17:50<03:24,  3.66s/it]"
     ]
    },
    {
     "name": "stdout",
     "output_type": "stream",
     "text": [
      "TC formation prediction is [[0.49865857]] 0 No\n",
      "Processing image: /N/project/pfec_climo/qmnguyen/tc_prediction/binary_datasets/ncep_WP_binary_0h//pos/20141125_06_00_8.4_131.4_2014329N08131.nc\n",
      "Input image dimension is:  (1, 30, 30, 12)\n",
      "1/1 [==============================] - 0s 19ms/step\n"
     ]
    },
    {
     "name": "stderr",
     "output_type": "stream",
     "text": [
      "\r",
      " 84%|███████████████████████████████████████████████████████████████████████████████████████████████████████████████████████████████▍                       | 297/352 [17:53<03:19,  3.63s/it]"
     ]
    },
    {
     "name": "stdout",
     "output_type": "stream",
     "text": [
      "TC formation prediction is [[0.5022842]] 1 Yes\n",
      "Processing image: /N/project/pfec_climo/qmnguyen/tc_prediction/binary_datasets/ncep_WP_binary_0h//pos/20080723_18_00_21.5_133.4_2008206N22133.nc\n",
      "Input image dimension is:  (1, 30, 30, 12)\n",
      "1/1 [==============================] - 0s 17ms/step\n"
     ]
    },
    {
     "name": "stderr",
     "output_type": "stream",
     "text": [
      "\r",
      " 85%|███████████████████████████████████████████████████████████████████████████████████████████████████████████████████████████████▊                       | 298/352 [17:57<03:14,  3.61s/it]"
     ]
    },
    {
     "name": "stdout",
     "output_type": "stream",
     "text": [
      "TC formation prediction is [[0.51250994]] 1 Yes\n",
      "Processing image: /N/project/pfec_climo/qmnguyen/tc_prediction/binary_datasets/ncep_WP_binary_0h//pos/20191104_00_00_12.7_113.7_2019308N13114.nc\n",
      "Input image dimension is:  (1, 30, 30, 12)\n",
      "1/1 [==============================] - 0s 16ms/step\n"
     ]
    },
    {
     "name": "stderr",
     "output_type": "stream",
     "text": [
      "\r",
      " 85%|████████████████████████████████████████████████████████████████████████████████████████████████████████████████████████████████▎                      | 299/352 [18:00<03:10,  3.60s/it]"
     ]
    },
    {
     "name": "stdout",
     "output_type": "stream",
     "text": [
      "TC formation prediction is [[0.506098]] 1 Yes\n",
      "Processing image: /N/project/pfec_climo/qmnguyen/tc_prediction/binary_datasets/ncep_WP_binary_0h//pos/20180822_00_00_22.1_118.7_2018234N22119.nc\n",
      "Input image dimension is:  (1, 30, 30, 12)\n",
      "1/1 [==============================] - 0s 16ms/step\n"
     ]
    },
    {
     "name": "stderr",
     "output_type": "stream",
     "text": [
      "\r",
      " 85%|████████████████████████████████████████████████████████████████████████████████████████████████████████████████████████████████▋                      | 300/352 [18:04<03:07,  3.60s/it]"
     ]
    },
    {
     "name": "stdout",
     "output_type": "stream",
     "text": [
      "TC formation prediction is [[0.50725144]] 1 Yes\n",
      "Processing image: /N/project/pfec_climo/qmnguyen/tc_prediction/binary_datasets/ncep_WP_binary_0h//pos/20150813_18_00_12.2_151.0_2015226N12151.nc\n",
      "Input image dimension is:  (1, 30, 30, 12)\n",
      "1/1 [==============================] - 0s 19ms/step\n"
     ]
    },
    {
     "name": "stderr",
     "output_type": "stream",
     "text": [
      "\r",
      " 86%|█████████████████████████████████████████████████████████████████████████████████████████████████████████████████████████████████                      | 301/352 [18:08<03:06,  3.66s/it]"
     ]
    },
    {
     "name": "stdout",
     "output_type": "stream",
     "text": [
      "TC formation prediction is [[0.5014729]] 1 Yes\n",
      "Processing image: /N/project/pfec_climo/qmnguyen/tc_prediction/binary_datasets/ncep_WP_binary_0h//pos/20200828_00_00_16.8_130.6_2020241N17131.nc\n",
      "Input image dimension is:  (1, 30, 30, 12)\n",
      "1/1 [==============================] - 0s 15ms/step\n"
     ]
    },
    {
     "name": "stderr",
     "output_type": "stream",
     "text": [
      "\r",
      " 86%|█████████████████████████████████████████████████████████████████████████████████████████████████████████████████████████████████▌                     | 302/352 [18:11<03:03,  3.66s/it]"
     ]
    },
    {
     "name": "stdout",
     "output_type": "stream",
     "text": [
      "TC formation prediction is [[0.5054242]] 1 Yes\n",
      "Processing image: /N/project/pfec_climo/qmnguyen/tc_prediction/binary_datasets/ncep_WP_binary_0h//pos/20090613_06_00_9.7_130.8_2009164N10131.nc\n",
      "Input image dimension is:  (1, 30, 30, 12)\n",
      "1/1 [==============================] - 0s 16ms/step\n"
     ]
    },
    {
     "name": "stderr",
     "output_type": "stream",
     "text": [
      "\r",
      " 86%|█████████████████████████████████████████████████████████████████████████████████████████████████████████████████████████████████▉                     | 303/352 [18:15<02:59,  3.66s/it]"
     ]
    },
    {
     "name": "stdout",
     "output_type": "stream",
     "text": [
      "TC formation prediction is [[0.51176393]] 1 Yes\n",
      "Processing image: /N/project/pfec_climo/qmnguyen/tc_prediction/binary_datasets/ncep_WP_binary_0h//pos/20120520_06_00_11.1_148.0_2012141N11148.nc\n",
      "Input image dimension is:  (1, 30, 30, 12)\n",
      "1/1 [==============================] - 0s 16ms/step\n"
     ]
    },
    {
     "name": "stderr",
     "output_type": "stream",
     "text": [
      "\r",
      " 86%|██████████████████████████████████████████████████████████████████████████████████████████████████████████████████████████████████▍                    | 304/352 [18:19<02:56,  3.68s/it]"
     ]
    },
    {
     "name": "stdout",
     "output_type": "stream",
     "text": [
      "TC formation prediction is [[0.49804536]] 0 No\n",
      "Processing image: /N/project/pfec_climo/qmnguyen/tc_prediction/binary_datasets/ncep_WP_binary_0h//pos/20101031_18_00_6.3_104.5_2010305N06105.nc\n",
      "Input image dimension is:  (1, 30, 30, 12)\n",
      "1/1 [==============================] - 0s 16ms/step\n"
     ]
    },
    {
     "name": "stderr",
     "output_type": "stream",
     "text": [
      "\r",
      " 87%|██████████████████████████████████████████████████████████████████████████████████████████████████████████████████████████████████▊                    | 305/352 [18:22<02:51,  3.64s/it]"
     ]
    },
    {
     "name": "stdout",
     "output_type": "stream",
     "text": [
      "TC formation prediction is [[0.5051523]] 1 Yes\n",
      "Processing image: /N/project/pfec_climo/qmnguyen/tc_prediction/binary_datasets/ncep_WP_binary_0h//pos/20200817_18_00_19.9_118.6_2020231N20119.nc\n",
      "Input image dimension is:  (1, 30, 30, 12)\n",
      "1/1 [==============================] - 0s 16ms/step\n"
     ]
    },
    {
     "name": "stderr",
     "output_type": "stream",
     "text": [
      "\r",
      " 87%|███████████████████████████████████████████████████████████████████████████████████████████████████████████████████████████████████▎                   | 306/352 [18:26<02:46,  3.62s/it]"
     ]
    },
    {
     "name": "stdout",
     "output_type": "stream",
     "text": [
      "TC formation prediction is [[0.5119877]] 1 Yes\n",
      "Processing image: /N/project/pfec_climo/qmnguyen/tc_prediction/binary_datasets/ncep_WP_binary_0h//pos/20201029_12_00_8.2_148.4_2020304N08148.nc\n",
      "Input image dimension is:  (1, 30, 30, 12)\n",
      "1/1 [==============================] - 0s 16ms/step\n"
     ]
    },
    {
     "name": "stderr",
     "output_type": "stream",
     "text": [
      "\r",
      " 87%|███████████████████████████████████████████████████████████████████████████████████████████████████████████████████████████████████▋                   | 307/352 [18:29<02:43,  3.64s/it]"
     ]
    },
    {
     "name": "stdout",
     "output_type": "stream",
     "text": [
      "TC formation prediction is [[0.4993322]] 0 No\n",
      "Processing image: /N/project/pfec_climo/qmnguyen/tc_prediction/binary_datasets/ncep_WP_binary_0h//pos/20100826_18_00_14.5_118.3_2010239N15118.nc\n",
      "Input image dimension is:  (1, 30, 30, 12)\n",
      "1/1 [==============================] - 0s 16ms/step\n"
     ]
    },
    {
     "name": "stderr",
     "output_type": "stream",
     "text": [
      "\r",
      " 88%|████████████████████████████████████████████████████████████████████████████████████████████████████████████████████████████████████▏                  | 308/352 [18:33<02:39,  3.63s/it]"
     ]
    },
    {
     "name": "stdout",
     "output_type": "stream",
     "text": [
      "TC formation prediction is [[0.50957054]] 1 Yes\n",
      "Processing image: /N/project/pfec_climo/qmnguyen/tc_prediction/binary_datasets/ncep_WP_binary_0h//pos/20130919_06_00_14.2_148.5_2013262N14149.nc\n",
      "Input image dimension is:  (1, 30, 30, 12)\n",
      "1/1 [==============================] - 0s 16ms/step\n"
     ]
    },
    {
     "name": "stderr",
     "output_type": "stream",
     "text": [
      "\r",
      " 88%|████████████████████████████████████████████████████████████████████████████████████████████████████████████████████████████████████▌                  | 309/352 [18:37<02:36,  3.63s/it]"
     ]
    },
    {
     "name": "stdout",
     "output_type": "stream",
     "text": [
      "TC formation prediction is [[0.504565]] 1 Yes\n",
      "Processing image: /N/project/pfec_climo/qmnguyen/tc_prediction/binary_datasets/ncep_WP_binary_0h//pos/20190824_18_00_8.3_139.6_2019237N08140.nc\n",
      "Input image dimension is:  (1, 30, 30, 12)\n",
      "1/1 [==============================] - 0s 17ms/step\n"
     ]
    },
    {
     "name": "stderr",
     "output_type": "stream",
     "text": [
      "\r",
      " 88%|████████████████████████████████████████████████████████████████████████████████████████████████████████████████████████████████████▉                  | 310/352 [18:40<02:33,  3.65s/it]"
     ]
    },
    {
     "name": "stdout",
     "output_type": "stream",
     "text": [
      "TC formation prediction is [[0.5048049]] 1 Yes\n",
      "Processing image: /N/project/pfec_climo/qmnguyen/tc_prediction/binary_datasets/ncep_WP_binary_0h//pos/20080711_06_00_20.1_126.1_2008193N20126.nc\n",
      "Input image dimension is:  (1, 30, 30, 12)\n",
      "1/1 [==============================] - 0s 16ms/step\n"
     ]
    },
    {
     "name": "stderr",
     "output_type": "stream",
     "text": [
      "\r",
      " 88%|█████████████████████████████████████████████████████████████████████████████████████████████████████████████████████████████████████▍                 | 311/352 [18:44<02:29,  3.65s/it]"
     ]
    },
    {
     "name": "stdout",
     "output_type": "stream",
     "text": [
      "TC formation prediction is [[0.5103273]] 1 Yes\n",
      "Processing image: /N/project/pfec_climo/qmnguyen/tc_prediction/binary_datasets/ncep_WP_binary_0h//pos/20170908_12_00_14.3_147.1_2017252N14147.nc\n",
      "Input image dimension is:  (1, 30, 30, 12)\n",
      "1/1 [==============================] - 0s 17ms/step\n"
     ]
    },
    {
     "name": "stderr",
     "output_type": "stream",
     "text": [
      "\r",
      " 89%|█████████████████████████████████████████████████████████████████████████████████████████████████████████████████████████████████████▊                 | 312/352 [18:48<02:26,  3.65s/it]"
     ]
    },
    {
     "name": "stdout",
     "output_type": "stream",
     "text": [
      "TC formation prediction is [[0.51161957]] 1 Yes\n",
      "Processing image: /N/project/pfec_climo/qmnguyen/tc_prediction/binary_datasets/ncep_WP_binary_0h//pos/20080917_12_00_16.5_141.8_2008262N16142.nc\n",
      "Input image dimension is:  (1, 30, 30, 12)\n",
      "1/1 [==============================] - 0s 16ms/step\n"
     ]
    },
    {
     "name": "stderr",
     "output_type": "stream",
     "text": [
      "\r",
      " 89%|██████████████████████████████████████████████████████████████████████████████████████████████████████████████████████████████████████▎                | 313/352 [18:51<02:21,  3.64s/it]"
     ]
    },
    {
     "name": "stdout",
     "output_type": "stream",
     "text": [
      "TC formation prediction is [[0.50908357]] 1 Yes\n",
      "Processing image: /N/project/pfec_climo/qmnguyen/tc_prediction/binary_datasets/ncep_WP_binary_0h//pos/20161109_18_00_10.6_171.0_2016315N11171.nc\n",
      "Input image dimension is:  (1, 30, 30, 12)\n",
      "1/1 [==============================] - 0s 16ms/step\n"
     ]
    },
    {
     "name": "stderr",
     "output_type": "stream",
     "text": [
      "\r",
      " 89%|██████████████████████████████████████████████████████████████████████████████████████████████████████████████████████████████████████▋                | 314/352 [18:55<02:19,  3.66s/it]"
     ]
    },
    {
     "name": "stdout",
     "output_type": "stream",
     "text": [
      "TC formation prediction is [[0.5098489]] 1 Yes\n",
      "Processing image: /N/project/pfec_climo/qmnguyen/tc_prediction/binary_datasets/ncep_WP_binary_0h//pos/20180723_00_00_15.2_137.4_2018204N15137.nc\n",
      "Input image dimension is:  (1, 30, 30, 12)\n",
      "1/1 [==============================] - 0s 17ms/step\n"
     ]
    },
    {
     "name": "stderr",
     "output_type": "stream",
     "text": [
      "\r",
      " 89%|███████████████████████████████████████████████████████████████████████████████████████████████████████████████████████████████████████▏               | 315/352 [18:59<02:14,  3.65s/it]"
     ]
    },
    {
     "name": "stdout",
     "output_type": "stream",
     "text": [
      "TC formation prediction is [[0.5143511]] 1 Yes\n",
      "Processing image: /N/project/pfec_climo/qmnguyen/tc_prediction/binary_datasets/ncep_WP_binary_0h//pos/20180925_06_00_23.8_155.0_2018268N24155.nc\n",
      "Input image dimension is:  (1, 30, 30, 12)\n",
      "1/1 [==============================] - 0s 16ms/step\n"
     ]
    },
    {
     "name": "stderr",
     "output_type": "stream",
     "text": [
      "\r",
      " 90%|███████████████████████████████████████████████████████████████████████████████████████████████████████████████████████████████████████▌               | 316/352 [19:02<02:12,  3.68s/it]"
     ]
    },
    {
     "name": "stdout",
     "output_type": "stream",
     "text": [
      "TC formation prediction is [[0.50041014]] 1 Yes\n",
      "Processing image: /N/project/pfec_climo/qmnguyen/tc_prediction/binary_datasets/ncep_WP_binary_0h//pos/20091025_18_00_11.8_152.6_2009299N12153.nc\n",
      "Input image dimension is:  (1, 30, 30, 12)\n",
      "1/1 [==============================] - 0s 16ms/step\n"
     ]
    },
    {
     "name": "stderr",
     "output_type": "stream",
     "text": [
      "\r",
      " 90%|███████████████████████████████████████████████████████████████████████████████████████████████████████████████████████████████████████▉               | 317/352 [19:06<02:09,  3.71s/it]"
     ]
    },
    {
     "name": "stdout",
     "output_type": "stream",
     "text": [
      "TC formation prediction is [[0.51152444]] 1 Yes\n",
      "Processing image: /N/project/pfec_climo/qmnguyen/tc_prediction/binary_datasets/ncep_WP_binary_0h//pos/20170701_06_00_15.4_132.2_2017182N15132.nc\n",
      "Input image dimension is:  (1, 30, 30, 12)\n",
      "1/1 [==============================] - 0s 16ms/step\n"
     ]
    },
    {
     "name": "stderr",
     "output_type": "stream",
     "text": [
      "\r",
      " 90%|████████████████████████████████████████████████████████████████████████████████████████████████████████████████████████████████████████▍              | 318/352 [19:10<02:05,  3.68s/it]"
     ]
    },
    {
     "name": "stdout",
     "output_type": "stream",
     "text": [
      "TC formation prediction is [[0.5065382]] 1 Yes\n",
      "Processing image: /N/project/pfec_climo/qmnguyen/tc_prediction/binary_datasets/ncep_WP_binary_0h//pos/20140613_00_00_18.8_116.0_2014164N19116.nc\n",
      "Input image dimension is:  (1, 30, 30, 12)\n",
      "1/1 [==============================] - 0s 16ms/step\n"
     ]
    },
    {
     "name": "stderr",
     "output_type": "stream",
     "text": [
      "\r",
      " 91%|████████████████████████████████████████████████████████████████████████████████████████████████████████████████████████████████████████▊              | 319/352 [19:13<02:01,  3.69s/it]"
     ]
    },
    {
     "name": "stdout",
     "output_type": "stream",
     "text": [
      "TC formation prediction is [[0.5001724]] 1 Yes\n",
      "Processing image: /N/project/pfec_climo/qmnguyen/tc_prediction/binary_datasets/ncep_WP_binary_0h//pos/20090911_06_00_13.9_129.6_2009254N14130.nc\n",
      "Input image dimension is:  (1, 30, 30, 12)\n",
      "1/1 [==============================] - 0s 16ms/step\n"
     ]
    },
    {
     "name": "stderr",
     "output_type": "stream",
     "text": [
      "\r",
      " 91%|█████████████████████████████████████████████████████████████████████████████████████████████████████████████████████████████████████████▎             | 320/352 [19:17<01:57,  3.67s/it]"
     ]
    },
    {
     "name": "stdout",
     "output_type": "stream",
     "text": [
      "TC formation prediction is [[0.50524575]] 1 Yes\n",
      "Processing image: /N/project/pfec_climo/qmnguyen/tc_prediction/binary_datasets/ncep_WP_binary_0h//pos/20200821_18_00_23.0_122.3_2020235N23122.nc\n",
      "Input image dimension is:  (1, 30, 30, 12)\n",
      "1/1 [==============================] - 0s 17ms/step\n"
     ]
    },
    {
     "name": "stderr",
     "output_type": "stream",
     "text": [
      "\r",
      " 91%|█████████████████████████████████████████████████████████████████████████████████████████████████████████████████████████████████████████▋             | 321/352 [19:21<01:54,  3.69s/it]"
     ]
    },
    {
     "name": "stdout",
     "output_type": "stream",
     "text": [
      "TC formation prediction is [[0.50436544]] 1 Yes\n",
      "Processing image: /N/project/pfec_climo/qmnguyen/tc_prediction/binary_datasets/ncep_WP_binary_0h//pos/20170720_12_00_16.1_116.0_2017202N16116.nc\n",
      "Input image dimension is:  (1, 30, 30, 12)\n",
      "1/1 [==============================] - 0s 16ms/step\n"
     ]
    },
    {
     "name": "stderr",
     "output_type": "stream",
     "text": [
      "\r",
      " 91%|██████████████████████████████████████████████████████████████████████████████████████████████████████████████████████████████████████████▏            | 322/352 [19:25<01:50,  3.68s/it]"
     ]
    },
    {
     "name": "stdout",
     "output_type": "stream",
     "text": [
      "TC formation prediction is [[0.50410813]] 1 Yes\n",
      "Processing image: /N/project/pfec_climo/qmnguyen/tc_prediction/binary_datasets/ncep_WP_binary_0h//pos/20110802_12_00_23.7_164.1_2011215N24164.nc\n",
      "Input image dimension is:  (1, 30, 30, 12)\n",
      "1/1 [==============================] - 0s 16ms/step\n"
     ]
    },
    {
     "name": "stderr",
     "output_type": "stream",
     "text": [
      "\r",
      " 92%|██████████████████████████████████████████████████████████████████████████████████████████████████████████████████████████████████████████▌            | 323/352 [19:28<01:45,  3.64s/it]"
     ]
    },
    {
     "name": "stdout",
     "output_type": "stream",
     "text": [
      "TC formation prediction is [[0.50255394]] 1 Yes\n",
      "Processing image: /N/project/pfec_climo/qmnguyen/tc_prediction/binary_datasets/ncep_WP_binary_0h//pos/20091008_00_00_15.3_143.7_2009281N15144.nc\n",
      "Input image dimension is:  (1, 30, 30, 12)\n",
      "1/1 [==============================] - 0s 16ms/step\n"
     ]
    },
    {
     "name": "stderr",
     "output_type": "stream",
     "text": [
      "\r",
      " 92%|██████████████████████████████████████████████████████████████████████████████████████████████████████████████████████████████████████████▉            | 324/352 [19:32<01:41,  3.63s/it]"
     ]
    },
    {
     "name": "stdout",
     "output_type": "stream",
     "text": [
      "TC formation prediction is [[0.5073942]] 1 Yes\n",
      "Processing image: /N/project/pfec_climo/qmnguyen/tc_prediction/binary_datasets/ncep_WP_binary_0h//pos/20130929_06_00_10.3_135.0_2013272N10135.nc\n",
      "Input image dimension is:  (1, 30, 30, 12)\n",
      "1/1 [==============================] - 0s 16ms/step\n"
     ]
    },
    {
     "name": "stderr",
     "output_type": "stream",
     "text": [
      "\r",
      " 92%|███████████████████████████████████████████████████████████████████████████████████████████████████████████████████████████████████████████▍           | 325/352 [19:35<01:38,  3.67s/it]"
     ]
    },
    {
     "name": "stdout",
     "output_type": "stream",
     "text": [
      "TC formation prediction is [[0.50406384]] 1 Yes\n",
      "Processing image: /N/project/pfec_climo/qmnguyen/tc_prediction/binary_datasets/ncep_WP_binary_0h//pos/20160807_12_00_18.8_163.0_2016221N19163.nc\n",
      "Input image dimension is:  (1, 30, 30, 12)\n",
      "1/1 [==============================] - 0s 16ms/step\n"
     ]
    },
    {
     "name": "stderr",
     "output_type": "stream",
     "text": [
      "\r",
      " 93%|███████████████████████████████████████████████████████████████████████████████████████████████████████████████████████████████████████████▊           | 326/352 [19:39<01:36,  3.71s/it]"
     ]
    },
    {
     "name": "stdout",
     "output_type": "stream",
     "text": [
      "TC formation prediction is [[0.5023454]] 1 Yes\n",
      "Processing image: /N/project/pfec_climo/qmnguyen/tc_prediction/binary_datasets/ncep_WP_binary_0h//pos/20180717_12_00_18.4_127.9_2018199N18128.nc\n",
      "Input image dimension is:  (1, 30, 30, 12)\n",
      "1/1 [==============================] - 0s 16ms/step\n"
     ]
    },
    {
     "name": "stderr",
     "output_type": "stream",
     "text": [
      "\r",
      " 93%|████████████████████████████████████████████████████████████████████████████████████████████████████████████████████████████████████████████▎          | 327/352 [19:43<01:32,  3.69s/it]"
     ]
    },
    {
     "name": "stdout",
     "output_type": "stream",
     "text": [
      "TC formation prediction is [[0.5046222]] 1 Yes\n",
      "Processing image: /N/project/pfec_climo/qmnguyen/tc_prediction/binary_datasets/ncep_WP_binary_0h//pos/20190824_06_00_8.4_142.5_2019236N08143.nc\n",
      "Input image dimension is:  (1, 30, 30, 12)\n",
      "1/1 [==============================] - 0s 16ms/step\n"
     ]
    },
    {
     "name": "stderr",
     "output_type": "stream",
     "text": [
      "\r",
      " 93%|████████████████████████████████████████████████████████████████████████████████████████████████████████████████████████████████████████████▋          | 328/352 [19:47<01:28,  3.68s/it]"
     ]
    },
    {
     "name": "stdout",
     "output_type": "stream",
     "text": [
      "TC formation prediction is [[0.5064348]] 1 Yes\n",
      "Processing image: /N/project/pfec_climo/qmnguyen/tc_prediction/binary_datasets/ncep_WP_binary_0h//pos/20170810_12_00_15.5_171.9_2017223N16172.nc\n",
      "Input image dimension is:  (1, 30, 30, 12)\n",
      "1/1 [==============================] - 0s 16ms/step\n"
     ]
    },
    {
     "name": "stderr",
     "output_type": "stream",
     "text": [
      "\r",
      " 93%|█████████████████████████████████████████████████████████████████████████████████████████████████████████████████████████████████████████████▏         | 329/352 [19:50<01:23,  3.65s/it]"
     ]
    },
    {
     "name": "stdout",
     "output_type": "stream",
     "text": [
      "TC formation prediction is [[0.49870673]] 0 No\n",
      "Processing image: /N/project/pfec_climo/qmnguyen/tc_prediction/binary_datasets/ncep_WP_binary_0h//pos/20081114_18_00_23.1_146.3_2008320N23146.nc\n",
      "Input image dimension is:  (1, 30, 30, 12)\n",
      "1/1 [==============================] - 0s 16ms/step\n"
     ]
    },
    {
     "name": "stderr",
     "output_type": "stream",
     "text": [
      "\r",
      " 94%|█████████████████████████████████████████████████████████████████████████████████████████████████████████████████████████████████████████████▌         | 330/352 [19:54<01:20,  3.65s/it]"
     ]
    },
    {
     "name": "stdout",
     "output_type": "stream",
     "text": [
      "TC formation prediction is [[0.5021696]] 1 Yes\n",
      "Processing image: /N/project/pfec_climo/qmnguyen/tc_prediction/binary_datasets/ncep_WP_binary_0h//pos/20120727_06_00_24.8_148.7_2012209N25149.nc\n",
      "Input image dimension is:  (1, 30, 30, 12)\n",
      "1/1 [==============================] - 0s 16ms/step\n"
     ]
    },
    {
     "name": "stderr",
     "output_type": "stream",
     "text": [
      "\r",
      " 94%|█████████████████████████████████████████████████████████████████████████████████████████████████████████████████████████████████████████████▉         | 331/352 [19:57<01:16,  3.63s/it]"
     ]
    },
    {
     "name": "stdout",
     "output_type": "stream",
     "text": [
      "TC formation prediction is [[0.50122154]] 1 Yes\n",
      "Processing image: /N/project/pfec_climo/qmnguyen/tc_prediction/binary_datasets/ncep_WP_binary_0h//pos/20090708_00_00_17.4_128.8_2009189N17129.nc\n",
      "Input image dimension is:  (1, 30, 30, 12)\n",
      "1/1 [==============================] - 0s 16ms/step\n"
     ]
    },
    {
     "name": "stderr",
     "output_type": "stream",
     "text": [
      "\r",
      " 94%|██████████████████████████████████████████████████████████████████████████████████████████████████████████████████████████████████████████████▍        | 332/352 [20:01<01:12,  3.62s/it]"
     ]
    },
    {
     "name": "stdout",
     "output_type": "stream",
     "text": [
      "TC formation prediction is [[0.5051225]] 1 Yes\n",
      "Processing image: /N/project/pfec_climo/qmnguyen/tc_prediction/binary_datasets/ncep_WP_binary_0h//pos/20191017_06_00_7.9_168.6_2019290N08169.nc\n",
      "Input image dimension is:  (1, 30, 30, 12)\n",
      "1/1 [==============================] - 0s 16ms/step\n"
     ]
    },
    {
     "name": "stderr",
     "output_type": "stream",
     "text": [
      "\r",
      " 95%|██████████████████████████████████████████████████████████████████████████████████████████████████████████████████████████████████████████████▊        | 333/352 [20:05<01:08,  3.63s/it]"
     ]
    },
    {
     "name": "stdout",
     "output_type": "stream",
     "text": [
      "TC formation prediction is [[0.50643456]] 1 Yes\n",
      "Processing image: /N/project/pfec_climo/qmnguyen/tc_prediction/binary_datasets/ncep_WP_binary_0h//pos/20081105_12_00_8.4_127.8_2008311N08128.nc\n",
      "Input image dimension is:  (1, 30, 30, 12)\n",
      "1/1 [==============================] - 0s 16ms/step\n"
     ]
    },
    {
     "name": "stderr",
     "output_type": "stream",
     "text": [
      "\r",
      " 95%|███████████████████████████████████████████████████████████████████████████████████████████████████████████████████████████████████████████████▎       | 334/352 [20:08<01:05,  3.63s/it]"
     ]
    },
    {
     "name": "stdout",
     "output_type": "stream",
     "text": [
      "TC formation prediction is [[0.5093469]] 1 Yes\n",
      "Processing image: /N/project/pfec_climo/qmnguyen/tc_prediction/binary_datasets/ncep_WP_binary_0h//pos/20090908_06_00_16.3_118.0_2009251N16118.nc\n",
      "Input image dimension is:  (1, 30, 30, 12)\n",
      "1/1 [==============================] - 0s 16ms/step\n"
     ]
    },
    {
     "name": "stderr",
     "output_type": "stream",
     "text": [
      "\r",
      " 95%|███████████████████████████████████████████████████████████████████████████████████████████████████████████████████████████████████████████████▋       | 335/352 [20:12<01:02,  3.67s/it]"
     ]
    },
    {
     "name": "stdout",
     "output_type": "stream",
     "text": [
      "TC formation prediction is [[0.50837356]] 1 Yes\n",
      "Processing image: /N/project/pfec_climo/qmnguyen/tc_prediction/binary_datasets/ncep_WP_binary_0h//pos/20210906_00_00_10.5_127.5_2021249N11128.nc\n",
      "Input image dimension is:  (1, 30, 30, 12)\n",
      "1/1 [==============================] - 0s 16ms/step\n"
     ]
    },
    {
     "name": "stderr",
     "output_type": "stream",
     "text": [
      "\r",
      " 95%|████████████████████████████████████████████████████████████████████████████████████████████████████████████████████████████████████████████████▏      | 336/352 [20:16<00:58,  3.66s/it]"
     ]
    },
    {
     "name": "stdout",
     "output_type": "stream",
     "text": [
      "TC formation prediction is [[0.5113287]] 1 Yes\n",
      "Processing image: /N/project/pfec_climo/qmnguyen/tc_prediction/binary_datasets/ncep_WP_binary_0h//pos/20120811_12_00_16.2_133.3_2012225N16133.nc\n",
      "Input image dimension is:  (1, 30, 30, 12)\n",
      "1/1 [==============================] - 0s 17ms/step\n"
     ]
    },
    {
     "name": "stderr",
     "output_type": "stream",
     "text": [
      "\r",
      " 96%|████████████████████████████████████████████████████████████████████████████████████████████████████████████████████████████████████████████████▌      | 337/352 [20:19<00:54,  3.63s/it]"
     ]
    },
    {
     "name": "stdout",
     "output_type": "stream",
     "text": [
      "TC formation prediction is [[0.5089888]] 1 Yes\n",
      "Processing image: /N/project/pfec_climo/qmnguyen/tc_prediction/binary_datasets/ncep_WP_binary_0h//pos/20160822_18_00_12.6_146.1_2016236N13146.nc\n",
      "Input image dimension is:  (1, 30, 30, 12)\n",
      "1/1 [==============================] - 0s 16ms/step\n"
     ]
    },
    {
     "name": "stderr",
     "output_type": "stream",
     "text": [
      "\r",
      " 96%|████████████████████████████████████████████████████████████████████████████████████████████████████████████████████████████████████████████████▉      | 338/352 [20:23<00:50,  3.63s/it]"
     ]
    },
    {
     "name": "stdout",
     "output_type": "stream",
     "text": [
      "TC formation prediction is [[0.50347877]] 1 Yes\n",
      "Processing image: /N/project/pfec_climo/qmnguyen/tc_prediction/binary_datasets/ncep_WP_binary_0h//pos/20090731_12_00_15.7_129.8_2009213N16130.nc\n",
      "Input image dimension is:  (1, 30, 30, 12)\n",
      "1/1 [==============================] - 0s 16ms/step\n"
     ]
    },
    {
     "name": "stderr",
     "output_type": "stream",
     "text": [
      "\r",
      " 96%|█████████████████████████████████████████████████████████████████████████████████████████████████████████████████████████████████████████████████▍     | 339/352 [20:26<00:47,  3.63s/it]"
     ]
    },
    {
     "name": "stdout",
     "output_type": "stream",
     "text": [
      "TC formation prediction is [[0.50276166]] 1 Yes\n",
      "Processing image: /N/project/pfec_climo/qmnguyen/tc_prediction/binary_datasets/ncep_WP_binary_0h//pos/20170731_06_00_26.3_158.3_2017212N26158.nc\n",
      "Input image dimension is:  (1, 30, 30, 12)\n",
      "1/1 [==============================] - 0s 16ms/step\n"
     ]
    },
    {
     "name": "stderr",
     "output_type": "stream",
     "text": [
      "\r",
      " 97%|█████████████████████████████████████████████████████████████████████████████████████████████████████████████████████████████████████████████████▊     | 340/352 [20:30<00:43,  3.62s/it]"
     ]
    },
    {
     "name": "stdout",
     "output_type": "stream",
     "text": [
      "TC formation prediction is [[0.5042358]] 1 Yes\n",
      "Processing image: /N/project/pfec_climo/qmnguyen/tc_prediction/binary_datasets/ncep_WP_binary_0h//pos/20130714_18_00_14.1_127.9_2013196N14128.nc\n",
      "Input image dimension is:  (1, 30, 30, 12)\n",
      "1/1 [==============================] - 0s 16ms/step\n"
     ]
    },
    {
     "name": "stderr",
     "output_type": "stream",
     "text": [
      "\r",
      " 97%|██████████████████████████████████████████████████████████████████████████████████████████████████████████████████████████████████████████████████▎    | 341/352 [20:34<00:39,  3.63s/it]"
     ]
    },
    {
     "name": "stdout",
     "output_type": "stream",
     "text": [
      "TC formation prediction is [[0.5083472]] 1 Yes\n",
      "Processing image: /N/project/pfec_climo/qmnguyen/tc_prediction/binary_datasets/ncep_WP_binary_0h//pos/20210529_18_00_6.4_134.5_2021150N06135.nc\n",
      "Input image dimension is:  (1, 30, 30, 12)\n",
      "1/1 [==============================] - 0s 16ms/step\n"
     ]
    },
    {
     "name": "stderr",
     "output_type": "stream",
     "text": [
      "\r",
      " 97%|██████████████████████████████████████████████████████████████████████████████████████████████████████████████████████████████████████████████████▋    | 342/352 [20:37<00:36,  3.64s/it]"
     ]
    },
    {
     "name": "stdout",
     "output_type": "stream",
     "text": [
      "TC formation prediction is [[0.50462765]] 1 Yes\n",
      "Processing image: /N/project/pfec_climo/qmnguyen/tc_prediction/binary_datasets/ncep_WP_binary_0h//pos/20190701_06_00_18.1_114.4_2019182N18114.nc\n",
      "Input image dimension is:  (1, 30, 30, 12)\n",
      "1/1 [==============================] - 0s 16ms/step\n"
     ]
    },
    {
     "name": "stderr",
     "output_type": "stream",
     "text": [
      "\r",
      " 97%|███████████████████████████████████████████████████████████████████████████████████████████████████████████████████████████████████████████████████▏   | 343/352 [20:41<00:32,  3.63s/it]"
     ]
    },
    {
     "name": "stdout",
     "output_type": "stream",
     "text": [
      "TC formation prediction is [[0.50668705]] 1 Yes\n",
      "Processing image: /N/project/pfec_climo/qmnguyen/tc_prediction/binary_datasets/ncep_WP_binary_0h//pos/20130627_00_00_9.1_132.5_2013178N09133.nc\n",
      "Input image dimension is:  (1, 30, 30, 12)\n",
      "1/1 [==============================] - 0s 17ms/step\n"
     ]
    },
    {
     "name": "stderr",
     "output_type": "stream",
     "text": [
      "\r",
      " 98%|███████████████████████████████████████████████████████████████████████████████████████████████████████████████████████████████████████████████████▌   | 344/352 [20:45<00:29,  3.63s/it]"
     ]
    },
    {
     "name": "stdout",
     "output_type": "stream",
     "text": [
      "TC formation prediction is [[0.5135906]] 1 Yes\n",
      "Processing image: /N/project/pfec_climo/qmnguyen/tc_prediction/binary_datasets/ncep_WP_binary_0h//pos/20080617_06_00_7.5_135.1_2008169N08135.nc\n",
      "Input image dimension is:  (1, 30, 30, 12)\n",
      "1/1 [==============================] - 0s 16ms/step\n"
     ]
    },
    {
     "name": "stderr",
     "output_type": "stream",
     "text": [
      "\r",
      " 98%|███████████████████████████████████████████████████████████████████████████████████████████████████████████████████████████████████████████████████▉   | 345/352 [20:48<00:25,  3.62s/it]"
     ]
    },
    {
     "name": "stdout",
     "output_type": "stream",
     "text": [
      "TC formation prediction is [[0.5040455]] 1 Yes\n",
      "Processing image: /N/project/pfec_climo/qmnguyen/tc_prediction/binary_datasets/ncep_WP_binary_0h//pos/20210724_00_00_25.0_149.5_2021205N25150.nc\n",
      "Input image dimension is:  (1, 30, 30, 12)\n",
      "1/1 [==============================] - 0s 16ms/step\n"
     ]
    },
    {
     "name": "stderr",
     "output_type": "stream",
     "text": [
      "\r",
      " 98%|████████████████████████████████████████████████████████████████████████████████████████████████████████████████████████████████████████████████████▍  | 346/352 [20:52<00:21,  3.66s/it]"
     ]
    },
    {
     "name": "stdout",
     "output_type": "stream",
     "text": [
      "TC formation prediction is [[0.50311005]] 1 Yes\n",
      "Processing image: /N/project/pfec_climo/qmnguyen/tc_prediction/binary_datasets/ncep_WP_binary_0h//pos/20210612_00_00_18.2_110.0_2021163N18110.nc\n",
      "Input image dimension is:  (1, 30, 30, 12)\n",
      "1/1 [==============================] - 0s 16ms/step\n"
     ]
    },
    {
     "name": "stderr",
     "output_type": "stream",
     "text": [
      "\r",
      " 99%|████████████████████████████████████████████████████████████████████████████████████████████████████████████████████████████████████████████████████▊  | 347/352 [20:56<00:18,  3.68s/it]"
     ]
    },
    {
     "name": "stdout",
     "output_type": "stream",
     "text": [
      "TC formation prediction is [[0.501568]] 1 Yes\n",
      "Processing image: /N/project/pfec_climo/qmnguyen/tc_prediction/binary_datasets/ncep_WP_binary_0h//pos/20091106_12_00_20.1_156.8_2009311N20157.nc\n",
      "Input image dimension is:  (1, 30, 30, 12)\n",
      "1/1 [==============================] - 0s 16ms/step\n"
     ]
    },
    {
     "name": "stderr",
     "output_type": "stream",
     "text": [
      "\r",
      " 99%|█████████████████████████████████████████████████████████████████████████████████████████████████████████████████████████████████████████████████████▎ | 348/352 [20:59<00:14,  3.67s/it]"
     ]
    },
    {
     "name": "stdout",
     "output_type": "stream",
     "text": [
      "TC formation prediction is [[0.50366986]] 1 Yes\n",
      "Processing image: /N/project/pfec_climo/qmnguyen/tc_prediction/binary_datasets/ncep_WP_binary_0h//pos/20090926_00_00_10.4_163.0_2009269N10163.nc\n",
      "Input image dimension is:  (1, 30, 30, 12)\n",
      "1/1 [==============================] - 0s 16ms/step\n"
     ]
    },
    {
     "name": "stderr",
     "output_type": "stream",
     "text": [
      "\r",
      " 99%|█████████████████████████████████████████████████████████████████████████████████████████████████████████████████████████████████████████████████████▋ | 349/352 [21:03<00:11,  3.70s/it]"
     ]
    },
    {
     "name": "stdout",
     "output_type": "stream",
     "text": [
      "TC formation prediction is [[0.50799847]] 1 Yes\n",
      "Processing image: /N/project/pfec_climo/qmnguyen/tc_prediction/binary_datasets/ncep_WP_binary_0h//pos/20181020_18_00_8.2_160.8_2018294N08161.nc\n",
      "Input image dimension is:  (1, 30, 30, 12)\n",
      "1/1 [==============================] - 0s 16ms/step\n"
     ]
    },
    {
     "name": "stderr",
     "output_type": "stream",
     "text": [
      "\r",
      " 99%|██████████████████████████████████████████████████████████████████████████████████████████████████████████████████████████████████████████████████████▏| 350/352 [21:07<00:07,  3.68s/it]"
     ]
    },
    {
     "name": "stdout",
     "output_type": "stream",
     "text": [
      "TC formation prediction is [[0.513231]] 1 Yes\n",
      "Processing image: /N/project/pfec_climo/qmnguyen/tc_prediction/binary_datasets/ncep_WP_binary_0h//pos/20130825_00_00_11.4_128.9_2013237N11129.nc\n",
      "Input image dimension is:  (1, 30, 30, 12)\n",
      "1/1 [==============================] - 0s 16ms/step\n"
     ]
    },
    {
     "name": "stderr",
     "output_type": "stream",
     "text": [
      "\r",
      "100%|██████████████████████████████████████████████████████████████████████████████████████████████████████████████████████████████████████████████████████▌| 351/352 [21:10<00:03,  3.66s/it]"
     ]
    },
    {
     "name": "stdout",
     "output_type": "stream",
     "text": [
      "TC formation prediction is [[0.5071564]] 1 Yes\n",
      "Processing image: /N/project/pfec_climo/qmnguyen/tc_prediction/binary_datasets/ncep_WP_binary_0h//pos/20131008_12_00_14.0_131.6_2013282N14132.nc\n",
      "Input image dimension is:  (1, 30, 30, 12)\n",
      "1/1 [==============================] - 0s 17ms/step\n"
     ]
    },
    {
     "name": "stderr",
     "output_type": "stream",
     "text": [
      "100%|███████████████████████████████████████████████████████████████████████████████████████████████████████████████████████████████████████████████████████| 352/352 [21:14<00:00,  3.62s/it]"
     ]
    },
    {
     "name": "stdout",
     "output_type": "stream",
     "text": [
      "TC formation prediction is [[0.5115985]] 1 Yes\n"
     ]
    },
    {
     "name": "stderr",
     "output_type": "stream",
     "text": [
      "\n"
     ]
    }
   ],
   "source": [
    "#\n",
    "# call a CNN trained model and make a prediction\n",
    "#\n",
    "CATEGORIES = [\"No\", \"Yes\"]\n",
    "model = tf.keras.models.load_model(\"./tcg_CNN.model\")\n",
    "DATADIR = \"/N/project/pfec_climo/qmnguyen/tc_prediction/binary_datasets/ncep_WP_binary_0h/\"\n",
    "category = \"pos\"\n",
    "path = os.path.join(DATADIR,category)\n",
    "print(path)\n",
    "for img in tqdm(os.listdir(path)):\n",
    "    try:\n",
    "        img_dir = DATADIR + '/' + category + '/' + img\n",
    "        print('Processing image:', img_dir)\n",
    "        print('Input image dimension is: ',prepare(img_dir).shape)\n",
    "        prediction = model.predict([prepare(img_dir)])\n",
    "        print(\"TC formation prediction is\",prediction,round(prediction[0][0]),CATEGORIES[round(prediction[0][0])])\n",
    "        #input(\"Press Enter to continue...\")\n",
    "    except Exception as e:\n",
    "        pass"
   ]
  },
  {
   "cell_type": "code",
   "execution_count": null,
   "id": "6c80549e",
   "metadata": {},
   "outputs": [],
   "source": []
  }
 ],
 "metadata": {
  "kernelspec": {
   "display_name": "Python 3 (ipykernel)",
   "language": "python",
   "name": "python3"
  },
  "language_info": {
   "codemirror_mode": {
    "name": "ipython",
    "version": 3
   },
   "file_extension": ".py",
   "mimetype": "text/x-python",
   "name": "python",
   "nbconvert_exporter": "python",
   "pygments_lexer": "ipython3",
   "version": "3.10.9"
  }
 },
 "nbformat": 4,
 "nbformat_minor": 5
}
